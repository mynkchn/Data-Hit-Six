{
 "cells": [
  {
   "cell_type": "markdown",
   "id": "82e68f4a",
   "metadata": {},
   "source": [
    "# Lets Data hit SIX"
   ]
  },
  {
   "cell_type": "markdown",
   "id": "37f1083d",
   "metadata": {},
   "source": [
    "Working on different data sets to analyse and predict how cricket player will perform in a given match"
   ]
  },
  {
   "cell_type": "markdown",
   "id": "01be14a5",
   "metadata": {},
   "source": [
    "### Step 1 : Data Loading and Understanding"
   ]
  },
  {
   "cell_type": "code",
   "execution_count": 366,
   "id": "e53b3d91",
   "metadata": {},
   "outputs": [],
   "source": [
    "import pandas as pd\n",
    "import numpy as np"
   ]
  },
  {
   "cell_type": "code",
   "execution_count": 367,
   "id": "16b6fab8",
   "metadata": {},
   "outputs": [],
   "source": [
    "batting_data=pd.read_csv('D:\\\\Cricket Data Analysis\\\\Data\\\\fact_bating_summary.csv')\n",
    "bowling_data=pd.read_csv('D:\\\\Cricket Data Analysis\\\\Data\\\\fact_bowling_summary.csv')\n",
    "match_data=pd.read_csv('D:\\\\Cricket Data Analysis\\\\Data\\\\dim_match_summary.csv')\n",
    "player_info=pd.read_csv('D:\\\\Cricket Data Analysis\\\\Data\\\\dim_players.csv')\n"
   ]
  },
  {
   "cell_type": "code",
   "execution_count": 368,
   "id": "91201992",
   "metadata": {},
   "outputs": [
    {
     "data": {
      "text/html": [
       "<div>\n",
       "<style scoped>\n",
       "    .dataframe tbody tr th:only-of-type {\n",
       "        vertical-align: middle;\n",
       "    }\n",
       "\n",
       "    .dataframe tbody tr th {\n",
       "        vertical-align: top;\n",
       "    }\n",
       "\n",
       "    .dataframe thead th {\n",
       "        text-align: right;\n",
       "    }\n",
       "</style>\n",
       "<table border=\"1\" class=\"dataframe\">\n",
       "  <thead>\n",
       "    <tr style=\"text-align: right;\">\n",
       "      <th></th>\n",
       "      <th>match</th>\n",
       "      <th>teamInnings</th>\n",
       "      <th>battingPos</th>\n",
       "      <th>batsmanName</th>\n",
       "      <th>runs</th>\n",
       "      <th>balls</th>\n",
       "      <th>4s</th>\n",
       "      <th>6s</th>\n",
       "      <th>SR</th>\n",
       "      <th>out/not_out</th>\n",
       "      <th>match_id</th>\n",
       "    </tr>\n",
       "  </thead>\n",
       "  <tbody>\n",
       "    <tr>\n",
       "      <th>0</th>\n",
       "      <td>Namibia Vs Sri Lanka</td>\n",
       "      <td>Namibia</td>\n",
       "      <td>1</td>\n",
       "      <td>Michael van Lingen</td>\n",
       "      <td>3</td>\n",
       "      <td>6</td>\n",
       "      <td>0</td>\n",
       "      <td>0</td>\n",
       "      <td>50.00</td>\n",
       "      <td>out</td>\n",
       "      <td>T20I # 1823</td>\n",
       "    </tr>\n",
       "    <tr>\n",
       "      <th>1</th>\n",
       "      <td>Namibia Vs Sri Lanka</td>\n",
       "      <td>Namibia</td>\n",
       "      <td>2</td>\n",
       "      <td>Divan la Cock</td>\n",
       "      <td>9</td>\n",
       "      <td>9</td>\n",
       "      <td>1</td>\n",
       "      <td>0</td>\n",
       "      <td>100.00</td>\n",
       "      <td>out</td>\n",
       "      <td>T20I # 1823</td>\n",
       "    </tr>\n",
       "    <tr>\n",
       "      <th>2</th>\n",
       "      <td>Namibia Vs Sri Lanka</td>\n",
       "      <td>Namibia</td>\n",
       "      <td>3</td>\n",
       "      <td>Jan Nicol Loftie-Eaton</td>\n",
       "      <td>20</td>\n",
       "      <td>12</td>\n",
       "      <td>1</td>\n",
       "      <td>2</td>\n",
       "      <td>166.66</td>\n",
       "      <td>out</td>\n",
       "      <td>T20I # 1823</td>\n",
       "    </tr>\n",
       "    <tr>\n",
       "      <th>3</th>\n",
       "      <td>Namibia Vs Sri Lanka</td>\n",
       "      <td>Namibia</td>\n",
       "      <td>4</td>\n",
       "      <td>Stephan Baard</td>\n",
       "      <td>26</td>\n",
       "      <td>24</td>\n",
       "      <td>2</td>\n",
       "      <td>0</td>\n",
       "      <td>108.33</td>\n",
       "      <td>out</td>\n",
       "      <td>T20I # 1823</td>\n",
       "    </tr>\n",
       "    <tr>\n",
       "      <th>4</th>\n",
       "      <td>Namibia Vs Sri Lanka</td>\n",
       "      <td>Namibia</td>\n",
       "      <td>5</td>\n",
       "      <td>Gerhard Erasmus(c)</td>\n",
       "      <td>20</td>\n",
       "      <td>24</td>\n",
       "      <td>0</td>\n",
       "      <td>0</td>\n",
       "      <td>83.33</td>\n",
       "      <td>out</td>\n",
       "      <td>T20I # 1823</td>\n",
       "    </tr>\n",
       "  </tbody>\n",
       "</table>\n",
       "</div>"
      ],
      "text/plain": [
       "                  match teamInnings  battingPos             batsmanName  runs  \\\n",
       "0  Namibia Vs Sri Lanka     Namibia           1      Michael van Lingen     3   \n",
       "1  Namibia Vs Sri Lanka     Namibia           2           Divan la Cock     9   \n",
       "2  Namibia Vs Sri Lanka     Namibia           3  Jan Nicol Loftie-Eaton    20   \n",
       "3  Namibia Vs Sri Lanka     Namibia           4           Stephan Baard    26   \n",
       "4  Namibia Vs Sri Lanka     Namibia           5      Gerhard Erasmus(c)    20   \n",
       "\n",
       "   balls  4s  6s      SR out/not_out     match_id  \n",
       "0      6   0   0   50.00         out  T20I # 1823  \n",
       "1      9   1   0  100.00         out  T20I # 1823  \n",
       "2     12   1   2  166.66         out  T20I # 1823  \n",
       "3     24   2   0  108.33         out  T20I # 1823  \n",
       "4     24   0   0   83.33         out  T20I # 1823  "
      ]
     },
     "execution_count": 368,
     "metadata": {},
     "output_type": "execute_result"
    }
   ],
   "source": [
    "# Batting Data\n",
    "batting_data.head()"
   ]
  },
  {
   "cell_type": "code",
   "execution_count": 369,
   "id": "69def32e",
   "metadata": {},
   "outputs": [
    {
     "data": {
      "text/plain": [
       "match          object\n",
       "teamInnings    object\n",
       "battingPos      int64\n",
       "batsmanName    object\n",
       "runs            int64\n",
       "balls           int64\n",
       "4s              int64\n",
       "6s              int64\n",
       "SR             object\n",
       "out/not_out    object\n",
       "match_id       object\n",
       "dtype: object"
      ]
     },
     "execution_count": 369,
     "metadata": {},
     "output_type": "execute_result"
    }
   ],
   "source": [
    "batting_data.dtypes"
   ]
  },
  {
   "cell_type": "code",
   "execution_count": 370,
   "id": "42b708a4",
   "metadata": {},
   "outputs": [],
   "source": [
    "batting_data['SR']=batting_data['SR'].replace('-',0)"
   ]
  },
  {
   "cell_type": "code",
   "execution_count": 371,
   "id": "ebde34ff",
   "metadata": {},
   "outputs": [],
   "source": [
    "def handle(value):\n",
    "    return float(value.replace('',np.NaN).strip())"
   ]
  },
  {
   "cell_type": "code",
   "execution_count": 372,
   "id": "cee1c479",
   "metadata": {},
   "outputs": [],
   "source": [
    "batting_data['SR']=batting_data['SR'].astype(float)"
   ]
  },
  {
   "cell_type": "code",
   "execution_count": 373,
   "id": "e3a6be11",
   "metadata": {},
   "outputs": [
    {
     "data": {
      "text/plain": [
       "(699, 11)"
      ]
     },
     "execution_count": 373,
     "metadata": {},
     "output_type": "execute_result"
    }
   ],
   "source": [
    "batting_data.shape"
   ]
  },
  {
   "cell_type": "code",
   "execution_count": 374,
   "id": "47521139",
   "metadata": {},
   "outputs": [
    {
     "data": {
      "text/plain": [
       "match          0\n",
       "teamInnings    0\n",
       "battingPos     0\n",
       "batsmanName    0\n",
       "runs           0\n",
       "balls          0\n",
       "4s             0\n",
       "6s             0\n",
       "SR             0\n",
       "out/not_out    0\n",
       "match_id       0\n",
       "dtype: int64"
      ]
     },
     "execution_count": 374,
     "metadata": {},
     "output_type": "execute_result"
    }
   ],
   "source": [
    "batting_data.isna().sum()"
   ]
  },
  {
   "cell_type": "code",
   "execution_count": 375,
   "id": "1a5bb727",
   "metadata": {},
   "outputs": [],
   "source": [
    "# Bowling Data"
   ]
  },
  {
   "cell_type": "code",
   "execution_count": 376,
   "id": "c927d8c9",
   "metadata": {},
   "outputs": [
    {
     "data": {
      "text/html": [
       "<div>\n",
       "<style scoped>\n",
       "    .dataframe tbody tr th:only-of-type {\n",
       "        vertical-align: middle;\n",
       "    }\n",
       "\n",
       "    .dataframe tbody tr th {\n",
       "        vertical-align: top;\n",
       "    }\n",
       "\n",
       "    .dataframe thead th {\n",
       "        text-align: right;\n",
       "    }\n",
       "</style>\n",
       "<table border=\"1\" class=\"dataframe\">\n",
       "  <thead>\n",
       "    <tr style=\"text-align: right;\">\n",
       "      <th></th>\n",
       "      <th>match</th>\n",
       "      <th>bowlingTeam</th>\n",
       "      <th>bowlerName</th>\n",
       "      <th>overs</th>\n",
       "      <th>maiden</th>\n",
       "      <th>runs</th>\n",
       "      <th>wickets</th>\n",
       "      <th>economy</th>\n",
       "      <th>0s</th>\n",
       "      <th>4s</th>\n",
       "      <th>6s</th>\n",
       "      <th>wides</th>\n",
       "      <th>noBalls</th>\n",
       "      <th>match_id</th>\n",
       "    </tr>\n",
       "  </thead>\n",
       "  <tbody>\n",
       "    <tr>\n",
       "      <th>0</th>\n",
       "      <td>Namibia Vs Sri Lanka</td>\n",
       "      <td>Sri Lanka</td>\n",
       "      <td>Maheesh Theekshana</td>\n",
       "      <td>4.0</td>\n",
       "      <td>0</td>\n",
       "      <td>23</td>\n",
       "      <td>1</td>\n",
       "      <td>5.75</td>\n",
       "      <td>7</td>\n",
       "      <td>0</td>\n",
       "      <td>0</td>\n",
       "      <td>2</td>\n",
       "      <td>0</td>\n",
       "      <td>T20I # 1823</td>\n",
       "    </tr>\n",
       "    <tr>\n",
       "      <th>1</th>\n",
       "      <td>Namibia Vs Sri Lanka</td>\n",
       "      <td>Sri Lanka</td>\n",
       "      <td>Dushmantha Chameera</td>\n",
       "      <td>4.0</td>\n",
       "      <td>0</td>\n",
       "      <td>39</td>\n",
       "      <td>1</td>\n",
       "      <td>9.75</td>\n",
       "      <td>6</td>\n",
       "      <td>3</td>\n",
       "      <td>1</td>\n",
       "      <td>2</td>\n",
       "      <td>0</td>\n",
       "      <td>T20I # 1823</td>\n",
       "    </tr>\n",
       "    <tr>\n",
       "      <th>2</th>\n",
       "      <td>Namibia Vs Sri Lanka</td>\n",
       "      <td>Sri Lanka</td>\n",
       "      <td>Pramod Madushan</td>\n",
       "      <td>4.0</td>\n",
       "      <td>0</td>\n",
       "      <td>37</td>\n",
       "      <td>2</td>\n",
       "      <td>9.25</td>\n",
       "      <td>6</td>\n",
       "      <td>3</td>\n",
       "      <td>1</td>\n",
       "      <td>0</td>\n",
       "      <td>0</td>\n",
       "      <td>T20I # 1823</td>\n",
       "    </tr>\n",
       "    <tr>\n",
       "      <th>3</th>\n",
       "      <td>Namibia Vs Sri Lanka</td>\n",
       "      <td>Sri Lanka</td>\n",
       "      <td>Chamika Karunaratne</td>\n",
       "      <td>4.0</td>\n",
       "      <td>0</td>\n",
       "      <td>36</td>\n",
       "      <td>1</td>\n",
       "      <td>9.00</td>\n",
       "      <td>7</td>\n",
       "      <td>3</td>\n",
       "      <td>1</td>\n",
       "      <td>1</td>\n",
       "      <td>0</td>\n",
       "      <td>T20I # 1823</td>\n",
       "    </tr>\n",
       "    <tr>\n",
       "      <th>4</th>\n",
       "      <td>Namibia Vs Sri Lanka</td>\n",
       "      <td>Sri Lanka</td>\n",
       "      <td>Wanindu Hasaranga de Silva</td>\n",
       "      <td>4.0</td>\n",
       "      <td>0</td>\n",
       "      <td>27</td>\n",
       "      <td>1</td>\n",
       "      <td>6.75</td>\n",
       "      <td>8</td>\n",
       "      <td>1</td>\n",
       "      <td>1</td>\n",
       "      <td>0</td>\n",
       "      <td>0</td>\n",
       "      <td>T20I # 1823</td>\n",
       "    </tr>\n",
       "  </tbody>\n",
       "</table>\n",
       "</div>"
      ],
      "text/plain": [
       "                  match bowlingTeam                  bowlerName  overs  \\\n",
       "0  Namibia Vs Sri Lanka   Sri Lanka          Maheesh Theekshana    4.0   \n",
       "1  Namibia Vs Sri Lanka   Sri Lanka         Dushmantha Chameera    4.0   \n",
       "2  Namibia Vs Sri Lanka   Sri Lanka             Pramod Madushan    4.0   \n",
       "3  Namibia Vs Sri Lanka   Sri Lanka         Chamika Karunaratne    4.0   \n",
       "4  Namibia Vs Sri Lanka   Sri Lanka  Wanindu Hasaranga de Silva    4.0   \n",
       "\n",
       "   maiden  runs  wickets  economy  0s  4s  6s  wides  noBalls     match_id  \n",
       "0       0    23        1     5.75   7   0   0      2        0  T20I # 1823  \n",
       "1       0    39        1     9.75   6   3   1      2        0  T20I # 1823  \n",
       "2       0    37        2     9.25   6   3   1      0        0  T20I # 1823  \n",
       "3       0    36        1     9.00   7   3   1      1        0  T20I # 1823  \n",
       "4       0    27        1     6.75   8   1   1      0        0  T20I # 1823  "
      ]
     },
     "execution_count": 376,
     "metadata": {},
     "output_type": "execute_result"
    }
   ],
   "source": [
    "bowling_data.head()"
   ]
  },
  {
   "cell_type": "code",
   "execution_count": 377,
   "id": "025cb1e9",
   "metadata": {},
   "outputs": [
    {
     "data": {
      "text/plain": [
       "match           object\n",
       "bowlingTeam     object\n",
       "bowlerName      object\n",
       "overs          float64\n",
       "maiden           int64\n",
       "runs             int64\n",
       "wickets          int64\n",
       "economy        float64\n",
       "0s               int64\n",
       "4s               int64\n",
       "6s               int64\n",
       "wides            int64\n",
       "noBalls          int64\n",
       "match_id        object\n",
       "dtype: object"
      ]
     },
     "execution_count": 377,
     "metadata": {},
     "output_type": "execute_result"
    }
   ],
   "source": [
    "bowling_data.dtypes"
   ]
  },
  {
   "cell_type": "code",
   "execution_count": 378,
   "id": "9076a98f",
   "metadata": {},
   "outputs": [
    {
     "data": {
      "text/plain": [
       "(500, 14)"
      ]
     },
     "execution_count": 378,
     "metadata": {},
     "output_type": "execute_result"
    }
   ],
   "source": [
    "bowling_data.shape"
   ]
  },
  {
   "cell_type": "code",
   "execution_count": 379,
   "id": "eedb71ac",
   "metadata": {},
   "outputs": [],
   "source": [
    "# Match Data \n"
   ]
  },
  {
   "cell_type": "code",
   "execution_count": 380,
   "id": "5c004a0d",
   "metadata": {},
   "outputs": [
    {
     "data": {
      "text/html": [
       "<div>\n",
       "<style scoped>\n",
       "    .dataframe tbody tr th:only-of-type {\n",
       "        vertical-align: middle;\n",
       "    }\n",
       "\n",
       "    .dataframe tbody tr th {\n",
       "        vertical-align: top;\n",
       "    }\n",
       "\n",
       "    .dataframe thead th {\n",
       "        text-align: right;\n",
       "    }\n",
       "</style>\n",
       "<table border=\"1\" class=\"dataframe\">\n",
       "  <thead>\n",
       "    <tr style=\"text-align: right;\">\n",
       "      <th></th>\n",
       "      <th>team1</th>\n",
       "      <th>team2</th>\n",
       "      <th>winner</th>\n",
       "      <th>margin</th>\n",
       "      <th>ground</th>\n",
       "      <th>matchDate</th>\n",
       "      <th>match_id</th>\n",
       "    </tr>\n",
       "  </thead>\n",
       "  <tbody>\n",
       "    <tr>\n",
       "      <th>0</th>\n",
       "      <td>Namibia</td>\n",
       "      <td>Sri Lanka</td>\n",
       "      <td>Namibia</td>\n",
       "      <td>55 runs</td>\n",
       "      <td>Geelong</td>\n",
       "      <td>Oct 16, 2022</td>\n",
       "      <td>T20I # 1823</td>\n",
       "    </tr>\n",
       "    <tr>\n",
       "      <th>1</th>\n",
       "      <td>Netherlands</td>\n",
       "      <td>U.A.E.</td>\n",
       "      <td>Netherlands</td>\n",
       "      <td>3 wickets</td>\n",
       "      <td>Geelong</td>\n",
       "      <td>Oct 16, 2022</td>\n",
       "      <td>T20I # 1825</td>\n",
       "    </tr>\n",
       "    <tr>\n",
       "      <th>2</th>\n",
       "      <td>Scotland</td>\n",
       "      <td>West Indies</td>\n",
       "      <td>Scotland</td>\n",
       "      <td>42 runs</td>\n",
       "      <td>Hobart</td>\n",
       "      <td>Oct 17, 2022</td>\n",
       "      <td>T20I # 1826</td>\n",
       "    </tr>\n",
       "    <tr>\n",
       "      <th>3</th>\n",
       "      <td>Ireland</td>\n",
       "      <td>Zimbabwe</td>\n",
       "      <td>Zimbabwe</td>\n",
       "      <td>31 runs</td>\n",
       "      <td>Hobart</td>\n",
       "      <td>Oct 17, 2022</td>\n",
       "      <td>T20I # 1828</td>\n",
       "    </tr>\n",
       "    <tr>\n",
       "      <th>4</th>\n",
       "      <td>Namibia</td>\n",
       "      <td>Netherlands</td>\n",
       "      <td>Netherlands</td>\n",
       "      <td>5 wickets</td>\n",
       "      <td>Geelong</td>\n",
       "      <td>Oct 18, 2022</td>\n",
       "      <td>T20I # 1830</td>\n",
       "    </tr>\n",
       "  </tbody>\n",
       "</table>\n",
       "</div>"
      ],
      "text/plain": [
       "         team1        team2       winner     margin   ground     matchDate  \\\n",
       "0      Namibia    Sri Lanka      Namibia    55 runs  Geelong  Oct 16, 2022   \n",
       "1  Netherlands       U.A.E.  Netherlands  3 wickets  Geelong  Oct 16, 2022   \n",
       "2     Scotland  West Indies     Scotland    42 runs   Hobart  Oct 17, 2022   \n",
       "3      Ireland     Zimbabwe     Zimbabwe    31 runs   Hobart  Oct 17, 2022   \n",
       "4      Namibia  Netherlands  Netherlands  5 wickets  Geelong  Oct 18, 2022   \n",
       "\n",
       "      match_id  \n",
       "0  T20I # 1823  \n",
       "1  T20I # 1825  \n",
       "2  T20I # 1826  \n",
       "3  T20I # 1828  \n",
       "4  T20I # 1830  "
      ]
     },
     "execution_count": 380,
     "metadata": {},
     "output_type": "execute_result"
    }
   ],
   "source": [
    "match_data.head()"
   ]
  },
  {
   "cell_type": "code",
   "execution_count": 381,
   "id": "e39c6508",
   "metadata": {},
   "outputs": [
    {
     "data": {
      "text/plain": [
       "team1        object\n",
       "team2        object\n",
       "winner       object\n",
       "margin       object\n",
       "ground       object\n",
       "matchDate    object\n",
       "match_id     object\n",
       "dtype: object"
      ]
     },
     "execution_count": 381,
     "metadata": {},
     "output_type": "execute_result"
    }
   ],
   "source": [
    "match_data.dtypes"
   ]
  },
  {
   "cell_type": "code",
   "execution_count": 382,
   "id": "926116af",
   "metadata": {},
   "outputs": [
    {
     "data": {
      "text/plain": [
       "(45, 7)"
      ]
     },
     "execution_count": 382,
     "metadata": {},
     "output_type": "execute_result"
    }
   ],
   "source": [
    "match_data.shape"
   ]
  },
  {
   "cell_type": "code",
   "execution_count": 383,
   "id": "34fd7667",
   "metadata": {},
   "outputs": [
    {
     "data": {
      "text/plain": [
       "team1        0\n",
       "team2        0\n",
       "winner       0\n",
       "margin       4\n",
       "ground       0\n",
       "matchDate    0\n",
       "match_id     0\n",
       "dtype: int64"
      ]
     },
     "execution_count": 383,
     "metadata": {},
     "output_type": "execute_result"
    }
   ],
   "source": [
    "match_data.isna().sum()"
   ]
  },
  {
   "cell_type": "code",
   "execution_count": 384,
   "id": "92e8e0d1",
   "metadata": {},
   "outputs": [],
   "source": [
    "match_data['margin']=match_data['margin'].fillna('Not_Available')"
   ]
  },
  {
   "cell_type": "code",
   "execution_count": 385,
   "id": "d375d0a8",
   "metadata": {},
   "outputs": [],
   "source": [
    "# Player info"
   ]
  },
  {
   "cell_type": "code",
   "execution_count": 386,
   "id": "cf82dda9",
   "metadata": {},
   "outputs": [
    {
     "data": {
      "text/html": [
       "<div>\n",
       "<style scoped>\n",
       "    .dataframe tbody tr th:only-of-type {\n",
       "        vertical-align: middle;\n",
       "    }\n",
       "\n",
       "    .dataframe tbody tr th {\n",
       "        vertical-align: top;\n",
       "    }\n",
       "\n",
       "    .dataframe thead th {\n",
       "        text-align: right;\n",
       "    }\n",
       "</style>\n",
       "<table border=\"1\" class=\"dataframe\">\n",
       "  <thead>\n",
       "    <tr style=\"text-align: right;\">\n",
       "      <th></th>\n",
       "      <th>name</th>\n",
       "      <th>team</th>\n",
       "      <th>image</th>\n",
       "      <th>battingStyle</th>\n",
       "      <th>bowlingStyle</th>\n",
       "      <th>playingRole</th>\n",
       "      <th>description</th>\n",
       "    </tr>\n",
       "  </thead>\n",
       "  <tbody>\n",
       "    <tr>\n",
       "      <th>0</th>\n",
       "      <td>Najmul Hossain Shanto</td>\n",
       "      <td>Bangladesh</td>\n",
       "      <td>NaN</td>\n",
       "      <td>Left hand Bat</td>\n",
       "      <td>Right arm Offbreak</td>\n",
       "      <td>Top order Batter</td>\n",
       "      <td>Nazmul Hossain Shanto emerged from an unusual ...</td>\n",
       "    </tr>\n",
       "    <tr>\n",
       "      <th>1</th>\n",
       "      <td>Soumya Sarkar</td>\n",
       "      <td>Bangladesh</td>\n",
       "      <td>NaN</td>\n",
       "      <td>Left hand Bat</td>\n",
       "      <td>Right arm Medium fast</td>\n",
       "      <td>Middle order Batter</td>\n",
       "      <td>A rarity among Bangladesh allrounders, top-ord...</td>\n",
       "    </tr>\n",
       "    <tr>\n",
       "      <th>2</th>\n",
       "      <td>Litton Das</td>\n",
       "      <td>Bangladesh</td>\n",
       "      <td>NaN</td>\n",
       "      <td>Right hand Bat</td>\n",
       "      <td>NaN</td>\n",
       "      <td>Wicketkeeper Batter</td>\n",
       "      <td>Liton Das is the first wicketkeeper-batsman in...</td>\n",
       "    </tr>\n",
       "    <tr>\n",
       "      <th>3</th>\n",
       "      <td>Shakib Al Hasan(c)</td>\n",
       "      <td>Bangladesh</td>\n",
       "      <td>NaN</td>\n",
       "      <td>Left hand Bat</td>\n",
       "      <td>Slow Left arm Orthodox</td>\n",
       "      <td>Allrounder</td>\n",
       "      <td>When the annals of Bangladesh cricket are sift...</td>\n",
       "    </tr>\n",
       "    <tr>\n",
       "      <th>4</th>\n",
       "      <td>Afif Hossain</td>\n",
       "      <td>Bangladesh</td>\n",
       "      <td>NaN</td>\n",
       "      <td>Left hand Bat</td>\n",
       "      <td>Right arm Offbreak</td>\n",
       "      <td>Allrounder</td>\n",
       "      <td>Bangladesh left-hander Afif Hossain made his T...</td>\n",
       "    </tr>\n",
       "  </tbody>\n",
       "</table>\n",
       "</div>"
      ],
      "text/plain": [
       "                    name        team image    battingStyle  \\\n",
       "0  Najmul Hossain Shanto  Bangladesh   NaN   Left hand Bat   \n",
       "1          Soumya Sarkar  Bangladesh   NaN   Left hand Bat   \n",
       "2             Litton Das  Bangladesh   NaN  Right hand Bat   \n",
       "3     Shakib Al Hasan(c)  Bangladesh   NaN   Left hand Bat   \n",
       "4           Afif Hossain  Bangladesh   NaN   Left hand Bat   \n",
       "\n",
       "             bowlingStyle          playingRole  \\\n",
       "0      Right arm Offbreak     Top order Batter   \n",
       "1   Right arm Medium fast  Middle order Batter   \n",
       "2                     NaN  Wicketkeeper Batter   \n",
       "3  Slow Left arm Orthodox           Allrounder   \n",
       "4      Right arm Offbreak           Allrounder   \n",
       "\n",
       "                                         description  \n",
       "0  Nazmul Hossain Shanto emerged from an unusual ...  \n",
       "1  A rarity among Bangladesh allrounders, top-ord...  \n",
       "2  Liton Das is the first wicketkeeper-batsman in...  \n",
       "3  When the annals of Bangladesh cricket are sift...  \n",
       "4  Bangladesh left-hander Afif Hossain made his T...  "
      ]
     },
     "execution_count": 386,
     "metadata": {},
     "output_type": "execute_result"
    }
   ],
   "source": [
    "player_info.head()"
   ]
  },
  {
   "cell_type": "code",
   "execution_count": 387,
   "id": "158fd1cf",
   "metadata": {},
   "outputs": [],
   "source": [
    "player_info.drop(columns=['image'],axis=1,inplace=True)"
   ]
  },
  {
   "cell_type": "code",
   "execution_count": 388,
   "id": "4970aa80",
   "metadata": {},
   "outputs": [
    {
     "data": {
      "text/plain": [
       "Index(['name', 'team', 'battingStyle', 'bowlingStyle', 'playingRole',\n",
       "       'description'],\n",
       "      dtype='object')"
      ]
     },
     "execution_count": 388,
     "metadata": {},
     "output_type": "execute_result"
    }
   ],
   "source": [
    "player_info.columns"
   ]
  },
  {
   "cell_type": "code",
   "execution_count": 389,
   "id": "f0d82c9a",
   "metadata": {},
   "outputs": [
    {
     "data": {
      "text/plain": [
       "name            object\n",
       "team            object\n",
       "battingStyle    object\n",
       "bowlingStyle    object\n",
       "playingRole     object\n",
       "description     object\n",
       "dtype: object"
      ]
     },
     "execution_count": 389,
     "metadata": {},
     "output_type": "execute_result"
    }
   ],
   "source": [
    "player_info.dtypes"
   ]
  },
  {
   "cell_type": "code",
   "execution_count": 390,
   "id": "7d1094c3",
   "metadata": {},
   "outputs": [
    {
     "data": {
      "text/plain": [
       "(219, 6)"
      ]
     },
     "execution_count": 390,
     "metadata": {},
     "output_type": "execute_result"
    }
   ],
   "source": [
    "player_info.shape"
   ]
  },
  {
   "cell_type": "markdown",
   "id": "15673d1a",
   "metadata": {},
   "source": [
    "## Step 2: Merge Data "
   ]
  },
  {
   "cell_type": "code",
   "execution_count": 391,
   "id": "4b1110ad",
   "metadata": {},
   "outputs": [],
   "source": [
    "merge_1=match_data.merge(batting_data,on='match_id')"
   ]
  },
  {
   "cell_type": "code",
   "execution_count": 392,
   "id": "b203e17f",
   "metadata": {},
   "outputs": [],
   "source": [
    "merged_data=merge_1.merge(bowling_data,on='match_id')"
   ]
  },
  {
   "cell_type": "code",
   "execution_count": 393,
   "id": "c6e5df76",
   "metadata": {},
   "outputs": [
    {
     "data": {
      "text/html": [
       "<div>\n",
       "<style scoped>\n",
       "    .dataframe tbody tr th:only-of-type {\n",
       "        vertical-align: middle;\n",
       "    }\n",
       "\n",
       "    .dataframe tbody tr th {\n",
       "        vertical-align: top;\n",
       "    }\n",
       "\n",
       "    .dataframe thead th {\n",
       "        text-align: right;\n",
       "    }\n",
       "</style>\n",
       "<table border=\"1\" class=\"dataframe\">\n",
       "  <thead>\n",
       "    <tr style=\"text-align: right;\">\n",
       "      <th></th>\n",
       "      <th>team1</th>\n",
       "      <th>team2</th>\n",
       "      <th>winner</th>\n",
       "      <th>margin</th>\n",
       "      <th>ground</th>\n",
       "      <th>matchDate</th>\n",
       "      <th>match_id</th>\n",
       "      <th>match_x</th>\n",
       "      <th>teamInnings</th>\n",
       "      <th>battingPos</th>\n",
       "      <th>...</th>\n",
       "      <th>overs</th>\n",
       "      <th>maiden</th>\n",
       "      <th>runs_y</th>\n",
       "      <th>wickets</th>\n",
       "      <th>economy</th>\n",
       "      <th>0s</th>\n",
       "      <th>4s_y</th>\n",
       "      <th>6s_y</th>\n",
       "      <th>wides</th>\n",
       "      <th>noBalls</th>\n",
       "    </tr>\n",
       "  </thead>\n",
       "  <tbody>\n",
       "    <tr>\n",
       "      <th>0</th>\n",
       "      <td>Namibia</td>\n",
       "      <td>Sri Lanka</td>\n",
       "      <td>Namibia</td>\n",
       "      <td>55 runs</td>\n",
       "      <td>Geelong</td>\n",
       "      <td>Oct 16, 2022</td>\n",
       "      <td>T20I # 1823</td>\n",
       "      <td>Namibia Vs Sri Lanka</td>\n",
       "      <td>Namibia</td>\n",
       "      <td>1</td>\n",
       "      <td>...</td>\n",
       "      <td>4.0</td>\n",
       "      <td>0</td>\n",
       "      <td>23</td>\n",
       "      <td>1</td>\n",
       "      <td>5.75</td>\n",
       "      <td>7</td>\n",
       "      <td>0</td>\n",
       "      <td>0</td>\n",
       "      <td>2</td>\n",
       "      <td>0</td>\n",
       "    </tr>\n",
       "    <tr>\n",
       "      <th>1</th>\n",
       "      <td>Namibia</td>\n",
       "      <td>Sri Lanka</td>\n",
       "      <td>Namibia</td>\n",
       "      <td>55 runs</td>\n",
       "      <td>Geelong</td>\n",
       "      <td>Oct 16, 2022</td>\n",
       "      <td>T20I # 1823</td>\n",
       "      <td>Namibia Vs Sri Lanka</td>\n",
       "      <td>Namibia</td>\n",
       "      <td>1</td>\n",
       "      <td>...</td>\n",
       "      <td>4.0</td>\n",
       "      <td>0</td>\n",
       "      <td>39</td>\n",
       "      <td>1</td>\n",
       "      <td>9.75</td>\n",
       "      <td>6</td>\n",
       "      <td>3</td>\n",
       "      <td>1</td>\n",
       "      <td>2</td>\n",
       "      <td>0</td>\n",
       "    </tr>\n",
       "    <tr>\n",
       "      <th>2</th>\n",
       "      <td>Namibia</td>\n",
       "      <td>Sri Lanka</td>\n",
       "      <td>Namibia</td>\n",
       "      <td>55 runs</td>\n",
       "      <td>Geelong</td>\n",
       "      <td>Oct 16, 2022</td>\n",
       "      <td>T20I # 1823</td>\n",
       "      <td>Namibia Vs Sri Lanka</td>\n",
       "      <td>Namibia</td>\n",
       "      <td>1</td>\n",
       "      <td>...</td>\n",
       "      <td>4.0</td>\n",
       "      <td>0</td>\n",
       "      <td>37</td>\n",
       "      <td>2</td>\n",
       "      <td>9.25</td>\n",
       "      <td>6</td>\n",
       "      <td>3</td>\n",
       "      <td>1</td>\n",
       "      <td>0</td>\n",
       "      <td>0</td>\n",
       "    </tr>\n",
       "    <tr>\n",
       "      <th>3</th>\n",
       "      <td>Namibia</td>\n",
       "      <td>Sri Lanka</td>\n",
       "      <td>Namibia</td>\n",
       "      <td>55 runs</td>\n",
       "      <td>Geelong</td>\n",
       "      <td>Oct 16, 2022</td>\n",
       "      <td>T20I # 1823</td>\n",
       "      <td>Namibia Vs Sri Lanka</td>\n",
       "      <td>Namibia</td>\n",
       "      <td>1</td>\n",
       "      <td>...</td>\n",
       "      <td>4.0</td>\n",
       "      <td>0</td>\n",
       "      <td>36</td>\n",
       "      <td>1</td>\n",
       "      <td>9.00</td>\n",
       "      <td>7</td>\n",
       "      <td>3</td>\n",
       "      <td>1</td>\n",
       "      <td>1</td>\n",
       "      <td>0</td>\n",
       "    </tr>\n",
       "    <tr>\n",
       "      <th>4</th>\n",
       "      <td>Namibia</td>\n",
       "      <td>Sri Lanka</td>\n",
       "      <td>Namibia</td>\n",
       "      <td>55 runs</td>\n",
       "      <td>Geelong</td>\n",
       "      <td>Oct 16, 2022</td>\n",
       "      <td>T20I # 1823</td>\n",
       "      <td>Namibia Vs Sri Lanka</td>\n",
       "      <td>Namibia</td>\n",
       "      <td>1</td>\n",
       "      <td>...</td>\n",
       "      <td>4.0</td>\n",
       "      <td>0</td>\n",
       "      <td>27</td>\n",
       "      <td>1</td>\n",
       "      <td>6.75</td>\n",
       "      <td>8</td>\n",
       "      <td>1</td>\n",
       "      <td>1</td>\n",
       "      <td>0</td>\n",
       "      <td>0</td>\n",
       "    </tr>\n",
       "  </tbody>\n",
       "</table>\n",
       "<p>5 rows × 30 columns</p>\n",
       "</div>"
      ],
      "text/plain": [
       "     team1      team2   winner   margin   ground     matchDate     match_id  \\\n",
       "0  Namibia  Sri Lanka  Namibia  55 runs  Geelong  Oct 16, 2022  T20I # 1823   \n",
       "1  Namibia  Sri Lanka  Namibia  55 runs  Geelong  Oct 16, 2022  T20I # 1823   \n",
       "2  Namibia  Sri Lanka  Namibia  55 runs  Geelong  Oct 16, 2022  T20I # 1823   \n",
       "3  Namibia  Sri Lanka  Namibia  55 runs  Geelong  Oct 16, 2022  T20I # 1823   \n",
       "4  Namibia  Sri Lanka  Namibia  55 runs  Geelong  Oct 16, 2022  T20I # 1823   \n",
       "\n",
       "                match_x teamInnings  battingPos  ... overs  maiden  runs_y  \\\n",
       "0  Namibia Vs Sri Lanka     Namibia           1  ...   4.0       0      23   \n",
       "1  Namibia Vs Sri Lanka     Namibia           1  ...   4.0       0      39   \n",
       "2  Namibia Vs Sri Lanka     Namibia           1  ...   4.0       0      37   \n",
       "3  Namibia Vs Sri Lanka     Namibia           1  ...   4.0       0      36   \n",
       "4  Namibia Vs Sri Lanka     Namibia           1  ...   4.0       0      27   \n",
       "\n",
       "   wickets  economy  0s 4s_y 6s_y wides noBalls  \n",
       "0        1     5.75   7    0    0     2       0  \n",
       "1        1     9.75   6    3    1     2       0  \n",
       "2        2     9.25   6    3    1     0       0  \n",
       "3        1     9.00   7    3    1     1       0  \n",
       "4        1     6.75   8    1    1     0       0  \n",
       "\n",
       "[5 rows x 30 columns]"
      ]
     },
     "execution_count": 393,
     "metadata": {},
     "output_type": "execute_result"
    }
   ],
   "source": [
    "merged_data.head()"
   ]
  },
  {
   "cell_type": "code",
   "execution_count": 394,
   "id": "e4371707",
   "metadata": {},
   "outputs": [
    {
     "data": {
      "text/plain": [
       "(8348, 30)"
      ]
     },
     "execution_count": 394,
     "metadata": {},
     "output_type": "execute_result"
    }
   ],
   "source": [
    "merged_data.shape"
   ]
  },
  {
   "cell_type": "markdown",
   "id": "828a0f64",
   "metadata": {},
   "source": [
    "## Exploratory Data Analysis"
   ]
  },
  {
   "cell_type": "code",
   "execution_count": 395,
   "id": "e4584d9b",
   "metadata": {},
   "outputs": [],
   "source": [
    "match_data=match_data.merge(batting_data,on='match_id')"
   ]
  },
  {
   "cell_type": "code",
   "execution_count": 396,
   "id": "5a7631cf",
   "metadata": {},
   "outputs": [
    {
     "data": {
      "text/html": [
       "<div>\n",
       "<style scoped>\n",
       "    .dataframe tbody tr th:only-of-type {\n",
       "        vertical-align: middle;\n",
       "    }\n",
       "\n",
       "    .dataframe tbody tr th {\n",
       "        vertical-align: top;\n",
       "    }\n",
       "\n",
       "    .dataframe thead th {\n",
       "        text-align: right;\n",
       "    }\n",
       "</style>\n",
       "<table border=\"1\" class=\"dataframe\">\n",
       "  <thead>\n",
       "    <tr style=\"text-align: right;\">\n",
       "      <th></th>\n",
       "      <th>team1</th>\n",
       "      <th>team2</th>\n",
       "      <th>winner</th>\n",
       "      <th>margin</th>\n",
       "      <th>ground</th>\n",
       "      <th>matchDate</th>\n",
       "      <th>match_id</th>\n",
       "      <th>match</th>\n",
       "      <th>teamInnings</th>\n",
       "      <th>battingPos</th>\n",
       "      <th>batsmanName</th>\n",
       "      <th>runs</th>\n",
       "      <th>balls</th>\n",
       "      <th>4s</th>\n",
       "      <th>6s</th>\n",
       "      <th>SR</th>\n",
       "      <th>out/not_out</th>\n",
       "    </tr>\n",
       "  </thead>\n",
       "  <tbody>\n",
       "    <tr>\n",
       "      <th>0</th>\n",
       "      <td>Namibia</td>\n",
       "      <td>Sri Lanka</td>\n",
       "      <td>Namibia</td>\n",
       "      <td>55 runs</td>\n",
       "      <td>Geelong</td>\n",
       "      <td>Oct 16, 2022</td>\n",
       "      <td>T20I # 1823</td>\n",
       "      <td>Namibia Vs Sri Lanka</td>\n",
       "      <td>Namibia</td>\n",
       "      <td>1</td>\n",
       "      <td>Michael van Lingen</td>\n",
       "      <td>3</td>\n",
       "      <td>6</td>\n",
       "      <td>0</td>\n",
       "      <td>0</td>\n",
       "      <td>50.00</td>\n",
       "      <td>out</td>\n",
       "    </tr>\n",
       "    <tr>\n",
       "      <th>1</th>\n",
       "      <td>Namibia</td>\n",
       "      <td>Sri Lanka</td>\n",
       "      <td>Namibia</td>\n",
       "      <td>55 runs</td>\n",
       "      <td>Geelong</td>\n",
       "      <td>Oct 16, 2022</td>\n",
       "      <td>T20I # 1823</td>\n",
       "      <td>Namibia Vs Sri Lanka</td>\n",
       "      <td>Namibia</td>\n",
       "      <td>2</td>\n",
       "      <td>Divan la Cock</td>\n",
       "      <td>9</td>\n",
       "      <td>9</td>\n",
       "      <td>1</td>\n",
       "      <td>0</td>\n",
       "      <td>100.00</td>\n",
       "      <td>out</td>\n",
       "    </tr>\n",
       "    <tr>\n",
       "      <th>2</th>\n",
       "      <td>Namibia</td>\n",
       "      <td>Sri Lanka</td>\n",
       "      <td>Namibia</td>\n",
       "      <td>55 runs</td>\n",
       "      <td>Geelong</td>\n",
       "      <td>Oct 16, 2022</td>\n",
       "      <td>T20I # 1823</td>\n",
       "      <td>Namibia Vs Sri Lanka</td>\n",
       "      <td>Namibia</td>\n",
       "      <td>3</td>\n",
       "      <td>Jan Nicol Loftie-Eaton</td>\n",
       "      <td>20</td>\n",
       "      <td>12</td>\n",
       "      <td>1</td>\n",
       "      <td>2</td>\n",
       "      <td>166.66</td>\n",
       "      <td>out</td>\n",
       "    </tr>\n",
       "    <tr>\n",
       "      <th>3</th>\n",
       "      <td>Namibia</td>\n",
       "      <td>Sri Lanka</td>\n",
       "      <td>Namibia</td>\n",
       "      <td>55 runs</td>\n",
       "      <td>Geelong</td>\n",
       "      <td>Oct 16, 2022</td>\n",
       "      <td>T20I # 1823</td>\n",
       "      <td>Namibia Vs Sri Lanka</td>\n",
       "      <td>Namibia</td>\n",
       "      <td>4</td>\n",
       "      <td>Stephan Baard</td>\n",
       "      <td>26</td>\n",
       "      <td>24</td>\n",
       "      <td>2</td>\n",
       "      <td>0</td>\n",
       "      <td>108.33</td>\n",
       "      <td>out</td>\n",
       "    </tr>\n",
       "    <tr>\n",
       "      <th>4</th>\n",
       "      <td>Namibia</td>\n",
       "      <td>Sri Lanka</td>\n",
       "      <td>Namibia</td>\n",
       "      <td>55 runs</td>\n",
       "      <td>Geelong</td>\n",
       "      <td>Oct 16, 2022</td>\n",
       "      <td>T20I # 1823</td>\n",
       "      <td>Namibia Vs Sri Lanka</td>\n",
       "      <td>Namibia</td>\n",
       "      <td>5</td>\n",
       "      <td>Gerhard Erasmus(c)</td>\n",
       "      <td>20</td>\n",
       "      <td>24</td>\n",
       "      <td>0</td>\n",
       "      <td>0</td>\n",
       "      <td>83.33</td>\n",
       "      <td>out</td>\n",
       "    </tr>\n",
       "  </tbody>\n",
       "</table>\n",
       "</div>"
      ],
      "text/plain": [
       "     team1      team2   winner   margin   ground     matchDate     match_id  \\\n",
       "0  Namibia  Sri Lanka  Namibia  55 runs  Geelong  Oct 16, 2022  T20I # 1823   \n",
       "1  Namibia  Sri Lanka  Namibia  55 runs  Geelong  Oct 16, 2022  T20I # 1823   \n",
       "2  Namibia  Sri Lanka  Namibia  55 runs  Geelong  Oct 16, 2022  T20I # 1823   \n",
       "3  Namibia  Sri Lanka  Namibia  55 runs  Geelong  Oct 16, 2022  T20I # 1823   \n",
       "4  Namibia  Sri Lanka  Namibia  55 runs  Geelong  Oct 16, 2022  T20I # 1823   \n",
       "\n",
       "                  match teamInnings  battingPos             batsmanName  runs  \\\n",
       "0  Namibia Vs Sri Lanka     Namibia           1      Michael van Lingen     3   \n",
       "1  Namibia Vs Sri Lanka     Namibia           2           Divan la Cock     9   \n",
       "2  Namibia Vs Sri Lanka     Namibia           3  Jan Nicol Loftie-Eaton    20   \n",
       "3  Namibia Vs Sri Lanka     Namibia           4           Stephan Baard    26   \n",
       "4  Namibia Vs Sri Lanka     Namibia           5      Gerhard Erasmus(c)    20   \n",
       "\n",
       "   balls  4s  6s      SR out/not_out  \n",
       "0      6   0   0   50.00         out  \n",
       "1      9   1   0  100.00         out  \n",
       "2     12   1   2  166.66         out  \n",
       "3     24   2   0  108.33         out  \n",
       "4     24   0   0   83.33         out  "
      ]
     },
     "execution_count": 396,
     "metadata": {},
     "output_type": "execute_result"
    }
   ],
   "source": [
    "match_data.head()"
   ]
  },
  {
   "cell_type": "code",
   "execution_count": 397,
   "id": "0d3f24ea",
   "metadata": {},
   "outputs": [],
   "source": [
    "match_data.rename(columns={'team1':'TeamA','team2':'TeamB','winner':'Winner','margin':'Won_by','ground':'Location','matchDate':'Match_Date','match_id':'Match_id','match':'Match','teamInnings':'Playing','battingPos':'Batting_Position','runs':'Runs'},inplace=True)"
   ]
  },
  {
   "cell_type": "code",
   "execution_count": 398,
   "id": "34dcca8e",
   "metadata": {},
   "outputs": [],
   "source": [
    "# Lets plot a histplot how many players scored how much runs \n",
    "import seaborn as sns\n",
    "import matplotlib.pyplot as plt\n"
   ]
  },
  {
   "cell_type": "code",
   "execution_count": 399,
   "id": "42254d5c",
   "metadata": {},
   "outputs": [
    {
     "data": {
      "text/plain": [
       "Text(0, 0.5, 'Frequency')"
      ]
     },
     "execution_count": 399,
     "metadata": {},
     "output_type": "execute_result"
    },
    {
     "data": {
      "image/png": "[encoded data removed]",
      "text/plain": [
       "<Figure size 640x480 with 1 Axes>"
      ]
     },
     "metadata": {},
     "output_type": "display_data"
    }
   ],
   "source": [
    "sns.histplot(match_data['Runs'],bins=30)\n",
    "plt.title('Distrubution how much runs each player scored per match')\n",
    "plt.xlabel('Runs')\n",
    "plt.ylabel('Frequency')"
   ]
  },
  {
   "cell_type": "code",
   "execution_count": 400,
   "id": "3221a591",
   "metadata": {},
   "outputs": [],
   "source": [
    "# This shows that a lot of batsman failed to perform well only a few number of batsman score above 40 \n",
    "# Top Scorers\n",
    "top_scrores=match_data.sort_values(by='Runs',ascending=False)"
   ]
  },
  {
   "cell_type": "code",
   "execution_count": 401,
   "id": "89d557a7",
   "metadata": {},
   "outputs": [],
   "source": [
    "top_run_scores=top_scrores.head(10)"
   ]
  },
  {
   "cell_type": "code",
   "execution_count": 402,
   "id": "d9291d03",
   "metadata": {},
   "outputs": [],
   "source": [
    "# Most Consistent\n",
    "consistent=match_data[(match_data['Batting_Position'] < 5) & (match_data['balls'] > 10)]\n",
    "consistent=consistent.groupby('batsmanName')['SR'].mean().reset_index().sort_values(by='SR',ascending=False)"
   ]
  },
  {
   "cell_type": "code",
   "execution_count": 403,
   "id": "ab31f08a",
   "metadata": {},
   "outputs": [],
   "source": [
    "consistent_players=consistent['batsmanName'].to_list()"
   ]
  },
  {
   "cell_type": "code",
   "execution_count": 404,
   "id": "3347d631",
   "metadata": {},
   "outputs": [
    {
     "name": "stdout",
     "output_type": "stream",
     "text": [
      "Top Batsman with consitent strike for T20 World Cup are \n",
      "1)Suryakumar Yadav\n",
      "2)Finn Allen\n",
      "3)Quinton de Kock\n",
      "4)Gulbadin Naib\n",
      "5)Glenn Phillips\n",
      "6)Jan Nicol Loftie-Eaton\n",
      "7)Glenn Maxwell\n",
      "8)Rilee Rossouw\n",
      "9)Mohammad Haris\n",
      "10)Iftikhar Ahmed\n"
     ]
    }
   ],
   "source": [
    "print(f'Top Batsman with consitent strike for T20 World Cup are ')\n",
    "for i,player in enumerate(consistent_players[0:10]):\n",
    "    print(f'{i+1}){player}')"
   ]
  },
  {
   "cell_type": "code",
   "execution_count": 405,
   "id": "8ffc5577",
   "metadata": {},
   "outputs": [
    {
     "data": {
      "text/plain": [
       "Text(0.5, 1.0, 'Top 3 batsman of 2020 T20I World Cup')"
      ]
     },
     "execution_count": 405,
     "metadata": {},
     "output_type": "execute_result"
    },
    {
     "data": {
      "image/png": "[encoded data removed]",
      "text/plain": [
       "<Figure size 640x480 with 1 Axes>"
      ]
     },
     "metadata": {},
     "output_type": "display_data"
    }
   ],
   "source": [
    "plt.bar(consistent_players[0:3],consistent['SR'][0:3])\n",
    "plt.xlabel('BatsMan Name')\n",
    "plt.ylabel('Strike Rate')\n",
    "plt.title('Top 3 batsman of 2020 T20I World Cup')\n"
   ]
  },
  {
   "cell_type": "code",
   "execution_count": 406,
   "id": "f6ff163c",
   "metadata": {},
   "outputs": [],
   "source": [
    "# Most wins by\n",
    "winners=match_data.groupby('Match')['Winner'].value_counts().reset_index()"
   ]
  },
  {
   "cell_type": "code",
   "execution_count": 407,
   "id": "dd38fab4",
   "metadata": {},
   "outputs": [],
   "source": [
    "winners.drop(columns='count',inplace=True)"
   ]
  },
  {
   "cell_type": "code",
   "execution_count": 408,
   "id": "cd418d4e",
   "metadata": {},
   "outputs": [],
   "source": [
    "new_=winners['Winner'].value_counts().reset_index()"
   ]
  },
  {
   "cell_type": "code",
   "execution_count": 409,
   "id": "7af7a17c",
   "metadata": {},
   "outputs": [],
   "source": [
    "new_.sort_values(by='count',ascending=False,inplace=True)"
   ]
  },
  {
   "cell_type": "code",
   "execution_count": 410,
   "id": "664a9c85",
   "metadata": {},
   "outputs": [
    {
     "data": {
      "text/plain": [
       "Text(0.5, 1.0, 'Team with most wins')"
      ]
     },
     "execution_count": 410,
     "metadata": {},
     "output_type": "execute_result"
    },
    {
     "data": {
      "image/png": "[encoded data removed]",
      "text/plain": [
       "<Figure size 640x480 with 1 Axes>"
      ]
     },
     "metadata": {},
     "output_type": "display_data"
    }
   ],
   "source": [
    "plt.bar(list(new_['Winner'].unique()[0:4]),new_['count'][0:4])\n",
    "plt.xlabel('Teams')\n",
    "plt.ylabel('Number of Wins')\n",
    "plt.title('Team with most wins')\n"
   ]
  },
  {
   "cell_type": "code",
   "execution_count": 411,
   "id": "5028ad04",
   "metadata": {},
   "outputs": [],
   "source": [
    "# England Pakistan SriLanka and India appears to be stronger team to win\n",
    "location=match_data.groupby('Location')['Runs'].sum().reset_index()"
   ]
  },
  {
   "cell_type": "code",
   "execution_count": 412,
   "id": "87cac6c1",
   "metadata": {},
   "outputs": [],
   "source": [
    "innings_played_stadium=[]\n",
    "for loca in location['Location'].to_list() :\n",
    " innings_played_stadium.append(len(match_data[match_data['Location']==loca]['Match_id'].unique()))"
   ]
  },
  {
   "cell_type": "code",
   "execution_count": 413,
   "id": "f618e96c",
   "metadata": {},
   "outputs": [],
   "source": [
    "avg_score_at_pitches=[(x/y)//2 for x,y in zip(location['Runs'].to_list(),innings_played_stadium) ]"
   ]
  },
  {
   "cell_type": "code",
   "execution_count": 414,
   "id": "7a3f6580",
   "metadata": {},
   "outputs": [
    {
     "data": {
      "text/plain": [
       "[145.0, 146.0, 122.0, 127.0, 133.0, 115.0, 141.0]"
      ]
     },
     "execution_count": 414,
     "metadata": {},
     "output_type": "execute_result"
    }
   ],
   "source": [
    "avg_score_at_pitches"
   ]
  },
  {
   "cell_type": "code",
   "execution_count": 415,
   "id": "d5e065f2",
   "metadata": {},
   "outputs": [],
   "source": [
    "avg_scores={} \n",
    "for x,y in zip(location['Location'].to_list(),avg_score_at_pitches):\n",
    "  avg_scores[x]=y"
   ]
  },
  {
   "cell_type": "code",
   "execution_count": 416,
   "id": "89053269",
   "metadata": {},
   "outputs": [
    {
     "name": "stdout",
     "output_type": "stream",
     "text": [
      "Average Score of First Innings at Adelaide is 145.0\n",
      "Average Score of First Innings at Brisbane is 146.0\n",
      "Average Score of First Innings at Geelong is 122.0\n",
      "Average Score of First Innings at Hobart is 127.0\n",
      "Average Score of First Innings at Melbourne is 133.0\n",
      "Average Score of First Innings at Perth is 115.0\n",
      "Average Score of First Innings at Sydney is 141.0\n"
     ]
    }
   ],
   "source": [
    "for key,value in avg_scores.items():\n",
    "    print(f'Average Score of First Innings at {key} is {value}')"
   ]
  },
  {
   "cell_type": "code",
   "execution_count": 417,
   "id": "7d2f1a3b",
   "metadata": {},
   "outputs": [
    {
     "data": {
      "text/plain": [
       "Text(0, 0.5, 'Score')"
      ]
     },
     "execution_count": 417,
     "metadata": {},
     "output_type": "execute_result"
    },
    {
     "data": {
      "image/png": "[encoded data removed]",
      "text/plain": [
       "<Figure size 640x480 with 1 Axes>"
      ]
     },
     "metadata": {},
     "output_type": "display_data"
    }
   ],
   "source": [
    "plt.bar(location['Location'].to_list(),avg_score_at_pitches)\n",
    "plt.title('Average Scores each innings at different stadium ')\n",
    "plt.xlabel('Stadium')\n",
    "plt.ylabel('Score')"
   ]
  },
  {
   "cell_type": "code",
   "execution_count": 418,
   "id": "65cf9058",
   "metadata": {},
   "outputs": [],
   "source": [
    "# Oppositon\n",
    "teams=list(match_data['Playing'].unique())"
   ]
  },
  {
   "cell_type": "code",
   "execution_count": 419,
   "id": "320395c5",
   "metadata": {},
   "outputs": [],
   "source": [
    "match_data_1=pd.read_csv('D:\\\\Cricket Data Analysis\\\\Data\\\\dim_match_summary.csv')"
   ]
  },
  {
   "cell_type": "code",
   "execution_count": 420,
   "id": "92ed842f",
   "metadata": {},
   "outputs": [],
   "source": [
    "# Now for bowlers\n",
    "bowling_data=bowling_data.merge(match_data_1,on='match_id')"
   ]
  },
  {
   "cell_type": "code",
   "execution_count": 421,
   "id": "58376964",
   "metadata": {},
   "outputs": [
    {
     "data": {
      "text/plain": [
       "Text(0, 0.5, 'Frequency')"
      ]
     },
     "execution_count": 421,
     "metadata": {},
     "output_type": "execute_result"
    },
    {
     "data": {
      "image/png": "[encoded data removed]",
      "text/plain": [
       "<Figure size 640x480 with 1 Axes>"
      ]
     },
     "metadata": {},
     "output_type": "display_data"
    }
   ],
   "source": [
    "sns.histplot(bowling_data['wickets'])\n",
    "plt.title('Distribution of Wickets')\n",
    "plt.xlabel('Wickets')\n",
    "plt.ylabel('Frequency')"
   ]
  },
  {
   "cell_type": "code",
   "execution_count": 422,
   "id": "60858fe3",
   "metadata": {},
   "outputs": [],
   "source": [
    "# This graph indicates most of the bowlers failed to take wickets around 175+ meanwhile no bowler took 5 wickets "
   ]
  },
  {
   "cell_type": "code",
   "execution_count": 423,
   "id": "23a722e5",
   "metadata": {},
   "outputs": [],
   "source": [
    "# most wickets by bowler\n",
    "most_wickets=bowling_data.groupby('bowlerName')['wickets'].sum().reset_index()"
   ]
  },
  {
   "cell_type": "code",
   "execution_count": 424,
   "id": "19e9976e",
   "metadata": {},
   "outputs": [],
   "source": [
    "sorted_=most_wickets.sort_values(by='wickets',ascending=False)"
   ]
  },
  {
   "cell_type": "code",
   "execution_count": 425,
   "id": "de19dd1a",
   "metadata": {},
   "outputs": [
    {
     "name": "stdout",
     "output_type": "stream",
     "text": [
      "Top 10 bowlers with most wicket\n",
      "1)Wanindu Hasaranga de Silva\n",
      "2)Bas de Leede\n",
      "3)Sam Curran\n",
      "4)Blessing Muzarabani\n",
      "5)Paul van Meekeren\n",
      "6)Josh Little\n",
      "7)Shadab Khan\n",
      "8)Shaheen Shah Afridi\n",
      "9)Anrich Nortje\n",
      "10)Sikandar Raza\n"
     ]
    }
   ],
   "source": [
    "# Top 10 bowler with most wickets are \n",
    "print('Top 10 bowlers with most wicket')\n",
    "for i,name in enumerate(sorted_['bowlerName'].to_list()[0:10]):\n",
    "    print(f'{i+1}){name}')"
   ]
  },
  {
   "cell_type": "code",
   "execution_count": 426,
   "id": "3421d1a5",
   "metadata": {},
   "outputs": [
    {
     "data": {
      "text/plain": [
       "Text(0.5, 1.0, 'Top 3 wicket taking bowlers in t20 world cup 2022')"
      ]
     },
     "execution_count": 426,
     "metadata": {},
     "output_type": "execute_result"
    },
    {
     "data": {
      "image/png": "[encoded data removed]",
      "text/plain": [
       "<Figure size 640x480 with 1 Axes>"
      ]
     },
     "metadata": {},
     "output_type": "display_data"
    }
   ],
   "source": [
    "plt.bar(sorted_['bowlerName'][0:3],sorted_['wickets'][0:3])\n",
    "plt.xlabel('Player Name')\n",
    "plt.ylabel('Wickets Taken')\n",
    "plt.title('Top 3 wicket taking bowlers in t20 world cup 2022')"
   ]
  },
  {
   "cell_type": "code",
   "execution_count": 427,
   "id": "2cae482d",
   "metadata": {},
   "outputs": [],
   "source": [
    "# Average bowling economy of each team \n",
    "bowling_economy=bowling_data.groupby('bowlingTeam')['economy'].mean().reset_index()"
   ]
  },
  {
   "cell_type": "code",
   "execution_count": 428,
   "id": "338a68ab",
   "metadata": {},
   "outputs": [],
   "source": [
    "# Most wicket taking team \n",
    "bowling_wickets=bowling_data.groupby('bowlingTeam')['wickets'].sum().reset_index()\n"
   ]
  },
  {
   "cell_type": "code",
   "execution_count": 429,
   "id": "9223c495",
   "metadata": {},
   "outputs": [],
   "source": [
    "# Lets see average runs scored by each team \n",
    "average_run=match_data.groupby('Playing')['Runs'].sum().reset_index()"
   ]
  },
  {
   "cell_type": "code",
   "execution_count": 430,
   "id": "aa3e1850",
   "metadata": {},
   "outputs": [],
   "source": [
    "# Matches Played by each team \n",
    "matches_played=match_data.groupby('Match_id')['TeamA'].value_counts().reset_index()"
   ]
  },
  {
   "cell_type": "code",
   "execution_count": 431,
   "id": "de7a0be7",
   "metadata": {},
   "outputs": [],
   "source": [
    "nd_=matches_played['TeamA'].value_counts().reset_index()"
   ]
  },
  {
   "cell_type": "code",
   "execution_count": 432,
   "id": "00fc1c81",
   "metadata": {},
   "outputs": [],
   "source": [
    "# Matches Played by each team \n",
    "matches_played_B=match_data.groupby('Match_id')['TeamB'].value_counts().reset_index()"
   ]
  },
  {
   "cell_type": "code",
   "execution_count": 433,
   "id": "f9360423",
   "metadata": {},
   "outputs": [],
   "source": [
    "matches_played_B.rename(columns={'TeamB':'TeamA'},inplace=True)"
   ]
  },
  {
   "cell_type": "code",
   "execution_count": 434,
   "id": "10222d6f",
   "metadata": {},
   "outputs": [],
   "source": [
    "nd_1=matches_played_B['TeamA'].value_counts().reset_index()"
   ]
  },
  {
   "cell_type": "code",
   "execution_count": 435,
   "id": "9b23ad5d",
   "metadata": {},
   "outputs": [],
   "source": [
    "matches_play=nd_.merge(nd_1,on='TeamA',how='outer')"
   ]
  },
  {
   "cell_type": "code",
   "execution_count": 436,
   "id": "cbdcf0d6",
   "metadata": {},
   "outputs": [],
   "source": [
    "matches_play.replace(np.NaN,float(0),inplace=True)"
   ]
  },
  {
   "cell_type": "code",
   "execution_count": 437,
   "id": "93470214",
   "metadata": {},
   "outputs": [],
   "source": [
    "matches_play['Match Played']=matches_play['count_x']+matches_play['count_y']"
   ]
  },
  {
   "cell_type": "code",
   "execution_count": 438,
   "id": "b9fb85e3",
   "metadata": {},
   "outputs": [],
   "source": [
    "matches_play.drop(columns=['count_x','count_y'],inplace=True)"
   ]
  },
  {
   "cell_type": "code",
   "execution_count": 439,
   "id": "f214b922",
   "metadata": {},
   "outputs": [],
   "source": [
    "def handles(value):\n",
    "    return int(value)"
   ]
  },
  {
   "cell_type": "code",
   "execution_count": 440,
   "id": "e067c840",
   "metadata": {},
   "outputs": [],
   "source": [
    "matches_play['Match Played']=matches_play['Match Played'].apply(handles)"
   ]
  },
  {
   "cell_type": "code",
   "execution_count": 441,
   "id": "bfb249e2",
   "metadata": {},
   "outputs": [],
   "source": [
    "matches_play.rename(columns={'TeamA':'Teams'},inplace=True)"
   ]
  },
  {
   "cell_type": "code",
   "execution_count": 442,
   "id": "cb7382e2",
   "metadata": {},
   "outputs": [],
   "source": [
    "average_run.rename(columns={'Playing':'Teams'},inplace=True)"
   ]
  },
  {
   "cell_type": "code",
   "execution_count": 443,
   "id": "18e99b2f",
   "metadata": {},
   "outputs": [],
   "source": [
    "strong=average_run.merge(matches_play,on='Teams')"
   ]
  },
  {
   "cell_type": "code",
   "execution_count": 444,
   "id": "6c9ffe8b",
   "metadata": {},
   "outputs": [],
   "source": [
    "strong['Average Score Per Innings']=strong['Runs']//strong['Match Played']"
   ]
  },
  {
   "cell_type": "code",
   "execution_count": 445,
   "id": "623cb325",
   "metadata": {},
   "outputs": [],
   "source": [
    "bowling_wickets.rename(columns={'bowlingTeam':'Teams'},inplace=True)"
   ]
  },
  {
   "cell_type": "code",
   "execution_count": 446,
   "id": "ff7f60ed",
   "metadata": {},
   "outputs": [],
   "source": [
    "team=strong.merge(bowling_wickets,on='Teams')"
   ]
  },
  {
   "cell_type": "code",
   "execution_count": 447,
   "id": "fac18fef",
   "metadata": {},
   "outputs": [],
   "source": [
    "bowling_economy.rename(columns={'bowlingTeam':'Teams'},inplace=True)"
   ]
  },
  {
   "cell_type": "code",
   "execution_count": 448,
   "id": "55e64081",
   "metadata": {},
   "outputs": [],
   "source": [
    "team=team.merge(bowling_economy,on='Teams')"
   ]
  },
  {
   "cell_type": "code",
   "execution_count": 449,
   "id": "06c1f3df",
   "metadata": {},
   "outputs": [],
   "source": [
    "team['Economy']=round(team['economy'],2)"
   ]
  },
  {
   "cell_type": "code",
   "execution_count": 450,
   "id": "c42aadf2",
   "metadata": {},
   "outputs": [],
   "source": [
    "team.drop(columns=['economy'],inplace=True)"
   ]
  },
  {
   "cell_type": "code",
   "execution_count": 451,
   "id": "8d55f6ea",
   "metadata": {},
   "outputs": [],
   "source": [
    "new_.rename(columns={'Winner':'Teams'},inplace=True)"
   ]
  },
  {
   "cell_type": "code",
   "execution_count": 452,
   "id": "37a4ce3c",
   "metadata": {},
   "outputs": [],
   "source": [
    "team=team.merge(new_,on='Teams',how='outer')"
   ]
  },
  {
   "cell_type": "code",
   "execution_count": 453,
   "id": "13486b0b",
   "metadata": {},
   "outputs": [],
   "source": [
    "team.rename(columns={'count':'Wins'},inplace=True)"
   ]
  },
  {
   "cell_type": "code",
   "execution_count": 454,
   "id": "2d8476f0",
   "metadata": {},
   "outputs": [],
   "source": [
    "team['Wins']=team['Wins'].fillna(float(0))"
   ]
  },
  {
   "cell_type": "code",
   "execution_count": 455,
   "id": "acdf43ed",
   "metadata": {},
   "outputs": [],
   "source": [
    "team.dropna(inplace=True)"
   ]
  },
  {
   "cell_type": "code",
   "execution_count": 456,
   "id": "79439256",
   "metadata": {},
   "outputs": [
    {
     "data": {
      "text/html": [
       "<div>\n",
       "<style scoped>\n",
       "    .dataframe tbody tr th:only-of-type {\n",
       "        vertical-align: middle;\n",
       "    }\n",
       "\n",
       "    .dataframe tbody tr th {\n",
       "        vertical-align: top;\n",
       "    }\n",
       "\n",
       "    .dataframe thead th {\n",
       "        text-align: right;\n",
       "    }\n",
       "</style>\n",
       "<table border=\"1\" class=\"dataframe\">\n",
       "  <thead>\n",
       "    <tr style=\"text-align: right;\">\n",
       "      <th></th>\n",
       "      <th>Teams</th>\n",
       "      <th>Runs</th>\n",
       "      <th>Match Played</th>\n",
       "      <th>Average Score Per Innings</th>\n",
       "      <th>wickets</th>\n",
       "      <th>Economy</th>\n",
       "      <th>Wins</th>\n",
       "    </tr>\n",
       "  </thead>\n",
       "  <tbody>\n",
       "    <tr>\n",
       "      <th>0</th>\n",
       "      <td>Afghanistan</td>\n",
       "      <td>399.0</td>\n",
       "      <td>3.0</td>\n",
       "      <td>133.0</td>\n",
       "      <td>16.0</td>\n",
       "      <td>8.30</td>\n",
       "      <td>0.0</td>\n",
       "    </tr>\n",
       "    <tr>\n",
       "      <th>1</th>\n",
       "      <td>Australia</td>\n",
       "      <td>577.0</td>\n",
       "      <td>4.0</td>\n",
       "      <td>144.0</td>\n",
       "      <td>22.0</td>\n",
       "      <td>8.28</td>\n",
       "      <td>3.0</td>\n",
       "    </tr>\n",
       "    <tr>\n",
       "      <th>2</th>\n",
       "      <td>Bangladesh</td>\n",
       "      <td>629.0</td>\n",
       "      <td>5.0</td>\n",
       "      <td>125.0</td>\n",
       "      <td>29.0</td>\n",
       "      <td>8.29</td>\n",
       "      <td>2.0</td>\n",
       "    </tr>\n",
       "    <tr>\n",
       "      <th>3</th>\n",
       "      <td>England</td>\n",
       "      <td>798.0</td>\n",
       "      <td>6.0</td>\n",
       "      <td>133.0</td>\n",
       "      <td>45.0</td>\n",
       "      <td>7.44</td>\n",
       "      <td>5.0</td>\n",
       "    </tr>\n",
       "    <tr>\n",
       "      <th>4</th>\n",
       "      <td>India</td>\n",
       "      <td>966.0</td>\n",
       "      <td>6.0</td>\n",
       "      <td>161.0</td>\n",
       "      <td>37.0</td>\n",
       "      <td>8.05</td>\n",
       "      <td>4.0</td>\n",
       "    </tr>\n",
       "    <tr>\n",
       "      <th>5</th>\n",
       "      <td>Ireland</td>\n",
       "      <td>989.0</td>\n",
       "      <td>7.0</td>\n",
       "      <td>141.0</td>\n",
       "      <td>33.0</td>\n",
       "      <td>8.40</td>\n",
       "      <td>3.0</td>\n",
       "    </tr>\n",
       "    <tr>\n",
       "      <th>6</th>\n",
       "      <td>Namibia</td>\n",
       "      <td>398.0</td>\n",
       "      <td>3.0</td>\n",
       "      <td>132.0</td>\n",
       "      <td>16.0</td>\n",
       "      <td>7.13</td>\n",
       "      <td>1.0</td>\n",
       "    </tr>\n",
       "    <tr>\n",
       "      <th>7</th>\n",
       "      <td>Netherlands</td>\n",
       "      <td>957.0</td>\n",
       "      <td>8.0</td>\n",
       "      <td>119.0</td>\n",
       "      <td>50.0</td>\n",
       "      <td>6.93</td>\n",
       "      <td>4.0</td>\n",
       "    </tr>\n",
       "    <tr>\n",
       "      <th>8</th>\n",
       "      <td>New Zealand</td>\n",
       "      <td>820.0</td>\n",
       "      <td>5.0</td>\n",
       "      <td>164.0</td>\n",
       "      <td>37.0</td>\n",
       "      <td>7.02</td>\n",
       "      <td>3.0</td>\n",
       "    </tr>\n",
       "    <tr>\n",
       "      <th>9</th>\n",
       "      <td>Pakistan</td>\n",
       "      <td>928.0</td>\n",
       "      <td>7.0</td>\n",
       "      <td>132.0</td>\n",
       "      <td>45.0</td>\n",
       "      <td>6.72</td>\n",
       "      <td>4.0</td>\n",
       "    </tr>\n",
       "    <tr>\n",
       "      <th>10</th>\n",
       "      <td>Scotland</td>\n",
       "      <td>433.0</td>\n",
       "      <td>3.0</td>\n",
       "      <td>144.0</td>\n",
       "      <td>18.0</td>\n",
       "      <td>7.86</td>\n",
       "      <td>1.0</td>\n",
       "    </tr>\n",
       "    <tr>\n",
       "      <th>11</th>\n",
       "      <td>South Africa</td>\n",
       "      <td>617.0</td>\n",
       "      <td>5.0</td>\n",
       "      <td>123.0</td>\n",
       "      <td>33.0</td>\n",
       "      <td>7.47</td>\n",
       "      <td>2.0</td>\n",
       "    </tr>\n",
       "    <tr>\n",
       "      <th>12</th>\n",
       "      <td>Sri Lanka</td>\n",
       "      <td>1038.0</td>\n",
       "      <td>8.0</td>\n",
       "      <td>129.0</td>\n",
       "      <td>53.0</td>\n",
       "      <td>7.27</td>\n",
       "      <td>4.0</td>\n",
       "    </tr>\n",
       "    <tr>\n",
       "      <th>13</th>\n",
       "      <td>U.A.E.</td>\n",
       "      <td>312.0</td>\n",
       "      <td>3.0</td>\n",
       "      <td>104.0</td>\n",
       "      <td>21.0</td>\n",
       "      <td>7.08</td>\n",
       "      <td>1.0</td>\n",
       "    </tr>\n",
       "    <tr>\n",
       "      <th>14</th>\n",
       "      <td>West Indies</td>\n",
       "      <td>385.0</td>\n",
       "      <td>3.0</td>\n",
       "      <td>128.0</td>\n",
       "      <td>16.0</td>\n",
       "      <td>8.19</td>\n",
       "      <td>1.0</td>\n",
       "    </tr>\n",
       "    <tr>\n",
       "      <th>15</th>\n",
       "      <td>Zimbabwe</td>\n",
       "      <td>923.0</td>\n",
       "      <td>8.0</td>\n",
       "      <td>115.0</td>\n",
       "      <td>44.0</td>\n",
       "      <td>7.86</td>\n",
       "      <td>3.0</td>\n",
       "    </tr>\n",
       "  </tbody>\n",
       "</table>\n",
       "</div>"
      ],
      "text/plain": [
       "           Teams    Runs  Match Played  Average Score Per Innings  wickets  \\\n",
       "0    Afghanistan   399.0           3.0                      133.0     16.0   \n",
       "1      Australia   577.0           4.0                      144.0     22.0   \n",
       "2     Bangladesh   629.0           5.0                      125.0     29.0   \n",
       "3        England   798.0           6.0                      133.0     45.0   \n",
       "4          India   966.0           6.0                      161.0     37.0   \n",
       "5        Ireland   989.0           7.0                      141.0     33.0   \n",
       "6        Namibia   398.0           3.0                      132.0     16.0   \n",
       "7    Netherlands   957.0           8.0                      119.0     50.0   \n",
       "8    New Zealand   820.0           5.0                      164.0     37.0   \n",
       "9       Pakistan   928.0           7.0                      132.0     45.0   \n",
       "10      Scotland   433.0           3.0                      144.0     18.0   \n",
       "11  South Africa   617.0           5.0                      123.0     33.0   \n",
       "12     Sri Lanka  1038.0           8.0                      129.0     53.0   \n",
       "13        U.A.E.   312.0           3.0                      104.0     21.0   \n",
       "14   West Indies   385.0           3.0                      128.0     16.0   \n",
       "15      Zimbabwe   923.0           8.0                      115.0     44.0   \n",
       "\n",
       "    Economy  Wins  \n",
       "0      8.30   0.0  \n",
       "1      8.28   3.0  \n",
       "2      8.29   2.0  \n",
       "3      7.44   5.0  \n",
       "4      8.05   4.0  \n",
       "5      8.40   3.0  \n",
       "6      7.13   1.0  \n",
       "7      6.93   4.0  \n",
       "8      7.02   3.0  \n",
       "9      6.72   4.0  \n",
       "10     7.86   1.0  \n",
       "11     7.47   2.0  \n",
       "12     7.27   4.0  \n",
       "13     7.08   1.0  \n",
       "14     8.19   1.0  \n",
       "15     7.86   3.0  "
      ]
     },
     "execution_count": 456,
     "metadata": {},
     "output_type": "execute_result"
    }
   ],
   "source": [
    "team"
   ]
  },
  {
   "cell_type": "code",
   "execution_count": 457,
   "id": "a756f051",
   "metadata": {},
   "outputs": [],
   "source": [
    "team=team.sort_values(by=['Average Score Per Innings','wickets'],ascending=False).reset_index()"
   ]
  },
  {
   "cell_type": "code",
   "execution_count": 458,
   "id": "5f4dcc53",
   "metadata": {},
   "outputs": [],
   "source": [
    "team.drop(columns=['index'],inplace=True)"
   ]
  },
  {
   "cell_type": "code",
   "execution_count": 459,
   "id": "59b40c88",
   "metadata": {},
   "outputs": [
    {
     "data": {
      "text/plain": [
       "Text(0.5, 1.0, 'Team with top average score per innings')"
      ]
     },
     "execution_count": 459,
     "metadata": {},
     "output_type": "execute_result"
    },
    {
     "data": {
      "image/png": "[encoded data removed]",
      "text/plain": [
       "<Figure size 640x480 with 1 Axes>"
      ]
     },
     "metadata": {},
     "output_type": "display_data"
    }
   ],
   "source": [
    "# Top 3 player with average innings per score\n",
    "plt.bar(team['Teams'][0:3].to_list(),team['Average Score Per Innings'][0:3].to_list())\n",
    "plt.xlabel('Team name')\n",
    "plt.ylabel('Average Score Per Innings')\n",
    "plt.title('Team with top average score per innings')"
   ]
  },
  {
   "cell_type": "code",
   "execution_count": 460,
   "id": "d9168243",
   "metadata": {},
   "outputs": [
    {
     "data": {
      "text/plain": [
       "Text(0.5, 1.0, 'Team with Good Economy')"
      ]
     },
     "execution_count": 460,
     "metadata": {},
     "output_type": "execute_result"
    },
    {
     "data": {
      "image/png": "[encoded data removed]",
      "text/plain": [
       "<Figure size 640x480 with 1 Axes>"
      ]
     },
     "metadata": {},
     "output_type": "display_data"
    }
   ],
   "source": [
    "plt.bar(team['Teams'][0:3].to_list(),team['Economy'][0:3].to_list())\n",
    "plt.xlabel('Team name')\n",
    "plt.ylabel('Economy')\n",
    "plt.title('Team with Good Economy')"
   ]
  },
  {
   "cell_type": "markdown",
   "id": "1fc01ba9",
   "metadata": {},
   "source": [
    "## Feature Engineering"
   ]
  },
  {
   "cell_type": "code",
   "execution_count": 461,
   "id": "02d8a5ab",
   "metadata": {},
   "outputs": [],
   "source": [
    "# Lets predict player would score in a match \n",
    "batting=pd.read_csv('D:\\\\Cricket Data Analysis\\\\Data\\\\fact_bating_summary.csv')"
   ]
  },
  {
   "cell_type": "code",
   "execution_count": 462,
   "id": "ba02289a",
   "metadata": {},
   "outputs": [],
   "source": [
    "batting=batting[batting['battingPos']<8]"
   ]
  },
  {
   "cell_type": "code",
   "execution_count": 463,
   "id": "ffd470eb",
   "metadata": {},
   "outputs": [],
   "source": [
    "batting['SR']=batting['SR'].replace('-',0)"
   ]
  },
  {
   "cell_type": "code",
   "execution_count": 464,
   "id": "8c2ee846",
   "metadata": {},
   "outputs": [],
   "source": [
    "batting['SR']=batting['SR'].astype(float)"
   ]
  },
  {
   "cell_type": "code",
   "execution_count": 465,
   "id": "a4992084",
   "metadata": {},
   "outputs": [
    {
     "data": {
      "text/html": [
       "<div>\n",
       "<style scoped>\n",
       "    .dataframe tbody tr th:only-of-type {\n",
       "        vertical-align: middle;\n",
       "    }\n",
       "\n",
       "    .dataframe tbody tr th {\n",
       "        vertical-align: top;\n",
       "    }\n",
       "\n",
       "    .dataframe thead th {\n",
       "        text-align: right;\n",
       "    }\n",
       "</style>\n",
       "<table border=\"1\" class=\"dataframe\">\n",
       "  <thead>\n",
       "    <tr style=\"text-align: right;\">\n",
       "      <th></th>\n",
       "      <th>battingPos</th>\n",
       "      <th>runs</th>\n",
       "      <th>balls</th>\n",
       "      <th>4s</th>\n",
       "      <th>6s</th>\n",
       "      <th>SR</th>\n",
       "    </tr>\n",
       "  </thead>\n",
       "  <tbody>\n",
       "    <tr>\n",
       "      <th>battingPos</th>\n",
       "      <td>1.000000</td>\n",
       "      <td>-0.237044</td>\n",
       "      <td>-0.283933</td>\n",
       "      <td>-0.262746</td>\n",
       "      <td>-0.164082</td>\n",
       "      <td>-0.067815</td>\n",
       "    </tr>\n",
       "    <tr>\n",
       "      <th>runs</th>\n",
       "      <td>-0.237044</td>\n",
       "      <td>1.000000</td>\n",
       "      <td>0.931387</td>\n",
       "      <td>0.858394</td>\n",
       "      <td>0.740670</td>\n",
       "      <td>0.621806</td>\n",
       "    </tr>\n",
       "    <tr>\n",
       "      <th>balls</th>\n",
       "      <td>-0.283933</td>\n",
       "      <td>0.931387</td>\n",
       "      <td>1.000000</td>\n",
       "      <td>0.770845</td>\n",
       "      <td>0.572323</td>\n",
       "      <td>0.440323</td>\n",
       "    </tr>\n",
       "    <tr>\n",
       "      <th>4s</th>\n",
       "      <td>-0.262746</td>\n",
       "      <td>0.858394</td>\n",
       "      <td>0.770845</td>\n",
       "      <td>1.000000</td>\n",
       "      <td>0.474652</td>\n",
       "      <td>0.584112</td>\n",
       "    </tr>\n",
       "    <tr>\n",
       "      <th>6s</th>\n",
       "      <td>-0.164082</td>\n",
       "      <td>0.740670</td>\n",
       "      <td>0.572323</td>\n",
       "      <td>0.474652</td>\n",
       "      <td>1.000000</td>\n",
       "      <td>0.549599</td>\n",
       "    </tr>\n",
       "    <tr>\n",
       "      <th>SR</th>\n",
       "      <td>-0.067815</td>\n",
       "      <td>0.621806</td>\n",
       "      <td>0.440323</td>\n",
       "      <td>0.584112</td>\n",
       "      <td>0.549599</td>\n",
       "      <td>1.000000</td>\n",
       "    </tr>\n",
       "  </tbody>\n",
       "</table>\n",
       "</div>"
      ],
      "text/plain": [
       "            battingPos      runs     balls        4s        6s        SR\n",
       "battingPos    1.000000 -0.237044 -0.283933 -0.262746 -0.164082 -0.067815\n",
       "runs         -0.237044  1.000000  0.931387  0.858394  0.740670  0.621806\n",
       "balls        -0.283933  0.931387  1.000000  0.770845  0.572323  0.440323\n",
       "4s           -0.262746  0.858394  0.770845  1.000000  0.474652  0.584112\n",
       "6s           -0.164082  0.740670  0.572323  0.474652  1.000000  0.549599\n",
       "SR           -0.067815  0.621806  0.440323  0.584112  0.549599  1.000000"
      ]
     },
     "execution_count": 465,
     "metadata": {},
     "output_type": "execute_result"
    }
   ],
   "source": [
    "batting.select_dtypes(include=['int64','float64']).corr()"
   ]
  },
  {
   "cell_type": "code",
   "execution_count": 466,
   "id": "87db5f70",
   "metadata": {},
   "outputs": [
    {
     "data": {
      "text/plain": [
       "Index(['match', 'teamInnings', 'battingPos', 'batsmanName', 'runs', 'balls',\n",
       "       '4s', '6s', 'SR', 'out/not_out', 'match_id'],\n",
       "      dtype='object')"
      ]
     },
     "execution_count": 466,
     "metadata": {},
     "output_type": "execute_result"
    }
   ],
   "source": [
    "batting.columns"
   ]
  },
  {
   "cell_type": "code",
   "execution_count": 467,
   "id": "7aadc76b",
   "metadata": {},
   "outputs": [],
   "source": [
    "batting=batting.groupby('batsmanName')[['runs','4s','6s']].sum().reset_index()"
   ]
  },
  {
   "cell_type": "code",
   "execution_count": 468,
   "id": "55f65bbf",
   "metadata": {},
   "outputs": [
    {
     "data": {
      "text/html": [
       "<div>\n",
       "<style scoped>\n",
       "    .dataframe tbody tr th:only-of-type {\n",
       "        vertical-align: middle;\n",
       "    }\n",
       "\n",
       "    .dataframe tbody tr th {\n",
       "        vertical-align: top;\n",
       "    }\n",
       "\n",
       "    .dataframe thead th {\n",
       "        text-align: right;\n",
       "    }\n",
       "</style>\n",
       "<table border=\"1\" class=\"dataframe\">\n",
       "  <thead>\n",
       "    <tr style=\"text-align: right;\">\n",
       "      <th></th>\n",
       "      <th>batsmanName</th>\n",
       "      <th>runs</th>\n",
       "      <th>4s</th>\n",
       "      <th>6s</th>\n",
       "    </tr>\n",
       "  </thead>\n",
       "  <tbody>\n",
       "    <tr>\n",
       "      <th>0</th>\n",
       "      <td>Aaron Finch(c)</td>\n",
       "      <td>107</td>\n",
       "      <td>6</td>\n",
       "      <td>5</td>\n",
       "    </tr>\n",
       "    <tr>\n",
       "      <th>1</th>\n",
       "      <td>Aayan Afzal Khan</td>\n",
       "      <td>19</td>\n",
       "      <td>1</td>\n",
       "      <td>0</td>\n",
       "    </tr>\n",
       "    <tr>\n",
       "      <th>2</th>\n",
       "      <td>Afif Hossain</td>\n",
       "      <td>95</td>\n",
       "      <td>6</td>\n",
       "      <td>3</td>\n",
       "    </tr>\n",
       "    <tr>\n",
       "      <th>3</th>\n",
       "      <td>Aiden Markram</td>\n",
       "      <td>99</td>\n",
       "      <td>13</td>\n",
       "      <td>1</td>\n",
       "    </tr>\n",
       "    <tr>\n",
       "      <th>4</th>\n",
       "      <td>Alex Hales</td>\n",
       "      <td>212</td>\n",
       "      <td>19</td>\n",
       "      <td>10</td>\n",
       "    </tr>\n",
       "  </tbody>\n",
       "</table>\n",
       "</div>"
      ],
      "text/plain": [
       "        batsmanName  runs  4s  6s\n",
       "0    Aaron Finch(c)   107   6   5\n",
       "1  Aayan Afzal Khan    19   1   0\n",
       "2      Afif Hossain    95   6   3\n",
       "3     Aiden Markram    99  13   1\n",
       "4        Alex Hales   212  19  10"
      ]
     },
     "execution_count": 468,
     "metadata": {},
     "output_type": "execute_result"
    }
   ],
   "source": [
    "batting.head()"
   ]
  },
  {
   "cell_type": "code",
   "execution_count": 469,
   "id": "0c8cb54b",
   "metadata": {},
   "outputs": [],
   "source": [
    "from sklearn.linear_model import LinearRegression\n",
    "from sklearn.model_selection import train_test_split\n",
    "from sklearn.preprocessing import StandardScaler"
   ]
  },
  {
   "cell_type": "code",
   "execution_count": 470,
   "id": "f4a5a65f",
   "metadata": {},
   "outputs": [],
   "source": [
    "xtrain,xtest,ytrain,ytest=train_test_split(batting[['4s','6s']],batting['runs'],test_size=0.2,random_state=42)"
   ]
  },
  {
   "cell_type": "code",
   "execution_count": 471,
   "id": "f9d13f69",
   "metadata": {},
   "outputs": [],
   "source": [
    "lr=LinearRegression()\n"
   ]
  },
  {
   "cell_type": "code",
   "execution_count": 472,
   "id": "ba5197e7",
   "metadata": {},
   "outputs": [
    {
     "data": {
      "text/html": [
       "<style>#sk-container-id-8 {\n",
       "  /* Definition of color scheme common for light and dark mode */\n",
       "  --sklearn-color-text: black;\n",
       "  --sklearn-color-line: gray;\n",
       "  /* Definition of color scheme for unfitted estimators */\n",
       "  --sklearn-color-unfitted-level-0: #fff5e6;\n",
       "  --sklearn-color-unfitted-level-1: #f6e4d2;\n",
       "  --sklearn-color-unfitted-level-2: #ffe0b3;\n",
       "  --sklearn-color-unfitted-level-3: chocolate;\n",
       "  /* Definition of color scheme for fitted estimators */\n",
       "  --sklearn-color-fitted-level-0: #f0f8ff;\n",
       "  --sklearn-color-fitted-level-1: #d4ebff;\n",
       "  --sklearn-color-fitted-level-2: #b3dbfd;\n",
       "  --sklearn-color-fitted-level-3: cornflowerblue;\n",
       "\n",
       "  /* Specific color for light theme */\n",
       "  --sklearn-color-text-on-default-background: var(--sg-text-color, var(--theme-code-foreground, var(--jp-content-font-color1, black)));\n",
       "  --sklearn-color-background: var(--sg-background-color, var(--theme-background, var(--jp-layout-color0, white)));\n",
       "  --sklearn-color-border-box: var(--sg-text-color, var(--theme-code-foreground, var(--jp-content-font-color1, black)));\n",
       "  --sklearn-color-icon: #696969;\n",
       "\n",
       "  @media (prefers-color-scheme: dark) {\n",
       "    /* Redefinition of color scheme for dark theme */\n",
       "    --sklearn-color-text-on-default-background: var(--sg-text-color, var(--theme-code-foreground, var(--jp-content-font-color1, white)));\n",
       "    --sklearn-color-background: var(--sg-background-color, var(--theme-background, var(--jp-layout-color0, #111)));\n",
       "    --sklearn-color-border-box: var(--sg-text-color, var(--theme-code-foreground, var(--jp-content-font-color1, white)));\n",
       "    --sklearn-color-icon: #878787;\n",
       "  }\n",
       "}\n",
       "\n",
       "#sk-container-id-8 {\n",
       "  color: var(--sklearn-color-text);\n",
       "}\n",
       "\n",
       "#sk-container-id-8 pre {\n",
       "  padding: 0;\n",
       "}\n",
       "\n",
       "#sk-container-id-8 input.sk-hidden--visually {\n",
       "  border: 0;\n",
       "  clip: rect(1px 1px 1px 1px);\n",
       "  clip: rect(1px, 1px, 1px, 1px);\n",
       "  height: 1px;\n",
       "  margin: -1px;\n",
       "  overflow: hidden;\n",
       "  padding: 0;\n",
       "  position: absolute;\n",
       "  width: 1px;\n",
       "}\n",
       "\n",
       "#sk-container-id-8 div.sk-dashed-wrapped {\n",
       "  border: 1px dashed var(--sklearn-color-line);\n",
       "  margin: 0 0.4em 0.5em 0.4em;\n",
       "  box-sizing: border-box;\n",
       "  padding-bottom: 0.4em;\n",
       "  background-color: var(--sklearn-color-background);\n",
       "}\n",
       "\n",
       "#sk-container-id-8 div.sk-container {\n",
       "  /* jupyter's `normalize.less` sets `[hidden] { display: none; }`\n",
       "     but bootstrap.min.css set `[hidden] { display: none !important; }`\n",
       "     so we also need the `!important` here to be able to override the\n",
       "     default hidden behavior on the sphinx rendered scikit-learn.org.\n",
       "     See: https://github.com/scikit-learn/scikit-learn/issues/21755 */\n",
       "  display: inline-block !important;\n",
       "  position: relative;\n",
       "}\n",
       "\n",
       "#sk-container-id-8 div.sk-text-repr-fallback {\n",
       "  display: none;\n",
       "}\n",
       "\n",
       "div.sk-parallel-item,\n",
       "div.sk-serial,\n",
       "div.sk-item {\n",
       "  /* draw centered vertical line to link estimators */\n",
       "  background-image: linear-gradient(var(--sklearn-color-text-on-default-background), var(--sklearn-color-text-on-default-background));\n",
       "  background-size: 2px 100%;\n",
       "  background-repeat: no-repeat;\n",
       "  background-position: center center;\n",
       "}\n",
       "\n",
       "/* Parallel-specific style estimator block */\n",
       "\n",
       "#sk-container-id-8 div.sk-parallel-item::after {\n",
       "  content: \"\";\n",
       "  width: 100%;\n",
       "  border-bottom: 2px solid var(--sklearn-color-text-on-default-background);\n",
       "  flex-grow: 1;\n",
       "}\n",
       "\n",
       "#sk-container-id-8 div.sk-parallel {\n",
       "  display: flex;\n",
       "  align-items: stretch;\n",
       "  justify-content: center;\n",
       "  background-color: var(--sklearn-color-background);\n",
       "  position: relative;\n",
       "}\n",
       "\n",
       "#sk-container-id-8 div.sk-parallel-item {\n",
       "  display: flex;\n",
       "  flex-direction: column;\n",
       "}\n",
       "\n",
       "#sk-container-id-8 div.sk-parallel-item:first-child::after {\n",
       "  align-self: flex-end;\n",
       "  width: 50%;\n",
       "}\n",
       "\n",
       "#sk-container-id-8 div.sk-parallel-item:last-child::after {\n",
       "  align-self: flex-start;\n",
       "  width: 50%;\n",
       "}\n",
       "\n",
       "#sk-container-id-8 div.sk-parallel-item:only-child::after {\n",
       "  width: 0;\n",
       "}\n",
       "\n",
       "/* Serial-specific style estimator block */\n",
       "\n",
       "#sk-container-id-8 div.sk-serial {\n",
       "  display: flex;\n",
       "  flex-direction: column;\n",
       "  align-items: center;\n",
       "  background-color: var(--sklearn-color-background);\n",
       "  padding-right: 1em;\n",
       "  padding-left: 1em;\n",
       "}\n",
       "\n",
       "\n",
       "/* Toggleable style: style used for estimator/Pipeline/ColumnTransformer box that is\n",
       "clickable and can be expanded/collapsed.\n",
       "- Pipeline and ColumnTransformer use this feature and define the default style\n",
       "- Estimators will overwrite some part of the style using the `sk-estimator` class\n",
       "*/\n",
       "\n",
       "/* Pipeline and ColumnTransformer style (default) */\n",
       "\n",
       "#sk-container-id-8 div.sk-toggleable {\n",
       "  /* Default theme specific background. It is overwritten whether we have a\n",
       "  specific estimator or a Pipeline/ColumnTransformer */\n",
       "  background-color: var(--sklearn-color-background);\n",
       "}\n",
       "\n",
       "/* Toggleable label */\n",
       "#sk-container-id-8 label.sk-toggleable__label {\n",
       "  cursor: pointer;\n",
       "  display: block;\n",
       "  width: 100%;\n",
       "  margin-bottom: 0;\n",
       "  padding: 0.5em;\n",
       "  box-sizing: border-box;\n",
       "  text-align: center;\n",
       "}\n",
       "\n",
       "#sk-container-id-8 label.sk-toggleable__label-arrow:before {\n",
       "  /* Arrow on the left of the label */\n",
       "  content: \"▸\";\n",
       "  float: left;\n",
       "  margin-right: 0.25em;\n",
       "  color: var(--sklearn-color-icon);\n",
       "}\n",
       "\n",
       "#sk-container-id-8 label.sk-toggleable__label-arrow:hover:before {\n",
       "  color: var(--sklearn-color-text);\n",
       "}\n",
       "\n",
       "/* Toggleable content - dropdown */\n",
       "\n",
       "#sk-container-id-8 div.sk-toggleable__content {\n",
       "  max-height: 0;\n",
       "  max-width: 0;\n",
       "  overflow: hidden;\n",
       "  text-align: left;\n",
       "  /* unfitted */\n",
       "  background-color: var(--sklearn-color-unfitted-level-0);\n",
       "}\n",
       "\n",
       "#sk-container-id-8 div.sk-toggleable__content.fitted {\n",
       "  /* fitted */\n",
       "  background-color: var(--sklearn-color-fitted-level-0);\n",
       "}\n",
       "\n",
       "#sk-container-id-8 div.sk-toggleable__content pre {\n",
       "  margin: 0.2em;\n",
       "  border-radius: 0.25em;\n",
       "  color: var(--sklearn-color-text);\n",
       "  /* unfitted */\n",
       "  background-color: var(--sklearn-color-unfitted-level-0);\n",
       "}\n",
       "\n",
       "#sk-container-id-8 div.sk-toggleable__content.fitted pre {\n",
       "  /* unfitted */\n",
       "  background-color: var(--sklearn-color-fitted-level-0);\n",
       "}\n",
       "\n",
       "#sk-container-id-8 input.sk-toggleable__control:checked~div.sk-toggleable__content {\n",
       "  /* Expand drop-down */\n",
       "  max-height: 200px;\n",
       "  max-width: 100%;\n",
       "  overflow: auto;\n",
       "}\n",
       "\n",
       "#sk-container-id-8 input.sk-toggleable__control:checked~label.sk-toggleable__label-arrow:before {\n",
       "  content: \"▾\";\n",
       "}\n",
       "\n",
       "/* Pipeline/ColumnTransformer-specific style */\n",
       "\n",
       "#sk-container-id-8 div.sk-label input.sk-toggleable__control:checked~label.sk-toggleable__label {\n",
       "  color: var(--sklearn-color-text);\n",
       "  background-color: var(--sklearn-color-unfitted-level-2);\n",
       "}\n",
       "\n",
       "#sk-container-id-8 div.sk-label.fitted input.sk-toggleable__control:checked~label.sk-toggleable__label {\n",
       "  background-color: var(--sklearn-color-fitted-level-2);\n",
       "}\n",
       "\n",
       "/* Estimator-specific style */\n",
       "\n",
       "/* Colorize estimator box */\n",
       "#sk-container-id-8 div.sk-estimator input.sk-toggleable__control:checked~label.sk-toggleable__label {\n",
       "  /* unfitted */\n",
       "  background-color: var(--sklearn-color-unfitted-level-2);\n",
       "}\n",
       "\n",
       "#sk-container-id-8 div.sk-estimator.fitted input.sk-toggleable__control:checked~label.sk-toggleable__label {\n",
       "  /* fitted */\n",
       "  background-color: var(--sklearn-color-fitted-level-2);\n",
       "}\n",
       "\n",
       "#sk-container-id-8 div.sk-label label.sk-toggleable__label,\n",
       "#sk-container-id-8 div.sk-label label {\n",
       "  /* The background is the default theme color */\n",
       "  color: var(--sklearn-color-text-on-default-background);\n",
       "}\n",
       "\n",
       "/* On hover, darken the color of the background */\n",
       "#sk-container-id-8 div.sk-label:hover label.sk-toggleable__label {\n",
       "  color: var(--sklearn-color-text);\n",
       "  background-color: var(--sklearn-color-unfitted-level-2);\n",
       "}\n",
       "\n",
       "/* Label box, darken color on hover, fitted */\n",
       "#sk-container-id-8 div.sk-label.fitted:hover label.sk-toggleable__label.fitted {\n",
       "  color: var(--sklearn-color-text);\n",
       "  background-color: var(--sklearn-color-fitted-level-2);\n",
       "}\n",
       "\n",
       "/* Estimator label */\n",
       "\n",
       "#sk-container-id-8 div.sk-label label {\n",
       "  font-family: monospace;\n",
       "  font-weight: bold;\n",
       "  display: inline-block;\n",
       "  line-height: 1.2em;\n",
       "}\n",
       "\n",
       "#sk-container-id-8 div.sk-label-container {\n",
       "  text-align: center;\n",
       "}\n",
       "\n",
       "/* Estimator-specific */\n",
       "#sk-container-id-8 div.sk-estimator {\n",
       "  font-family: monospace;\n",
       "  border: 1px dotted var(--sklearn-color-border-box);\n",
       "  border-radius: 0.25em;\n",
       "  box-sizing: border-box;\n",
       "  margin-bottom: 0.5em;\n",
       "  /* unfitted */\n",
       "  background-color: var(--sklearn-color-unfitted-level-0);\n",
       "}\n",
       "\n",
       "#sk-container-id-8 div.sk-estimator.fitted {\n",
       "  /* fitted */\n",
       "  background-color: var(--sklearn-color-fitted-level-0);\n",
       "}\n",
       "\n",
       "/* on hover */\n",
       "#sk-container-id-8 div.sk-estimator:hover {\n",
       "  /* unfitted */\n",
       "  background-color: var(--sklearn-color-unfitted-level-2);\n",
       "}\n",
       "\n",
       "#sk-container-id-8 div.sk-estimator.fitted:hover {\n",
       "  /* fitted */\n",
       "  background-color: var(--sklearn-color-fitted-level-2);\n",
       "}\n",
       "\n",
       "/* Specification for estimator info (e.g. \"i\" and \"?\") */\n",
       "\n",
       "/* Common style for \"i\" and \"?\" */\n",
       "\n",
       ".sk-estimator-doc-link,\n",
       "a:link.sk-estimator-doc-link,\n",
       "a:visited.sk-estimator-doc-link {\n",
       "  float: right;\n",
       "  font-size: smaller;\n",
       "  line-height: 1em;\n",
       "  font-family: monospace;\n",
       "  background-color: var(--sklearn-color-background);\n",
       "  border-radius: 1em;\n",
       "  height: 1em;\n",
       "  width: 1em;\n",
       "  text-decoration: none !important;\n",
       "  margin-left: 1ex;\n",
       "  /* unfitted */\n",
       "  border: var(--sklearn-color-unfitted-level-1) 1pt solid;\n",
       "  color: var(--sklearn-color-unfitted-level-1);\n",
       "}\n",
       "\n",
       ".sk-estimator-doc-link.fitted,\n",
       "a:link.sk-estimator-doc-link.fitted,\n",
       "a:visited.sk-estimator-doc-link.fitted {\n",
       "  /* fitted */\n",
       "  border: var(--sklearn-color-fitted-level-1) 1pt solid;\n",
       "  color: var(--sklearn-color-fitted-level-1);\n",
       "}\n",
       "\n",
       "/* On hover */\n",
       "div.sk-estimator:hover .sk-estimator-doc-link:hover,\n",
       ".sk-estimator-doc-link:hover,\n",
       "div.sk-label-container:hover .sk-estimator-doc-link:hover,\n",
       ".sk-estimator-doc-link:hover {\n",
       "  /* unfitted */\n",
       "  background-color: var(--sklearn-color-unfitted-level-3);\n",
       "  color: var(--sklearn-color-background);\n",
       "  text-decoration: none;\n",
       "}\n",
       "\n",
       "div.sk-estimator.fitted:hover .sk-estimator-doc-link.fitted:hover,\n",
       ".sk-estimator-doc-link.fitted:hover,\n",
       "div.sk-label-container:hover .sk-estimator-doc-link.fitted:hover,\n",
       ".sk-estimator-doc-link.fitted:hover {\n",
       "  /* fitted */\n",
       "  background-color: var(--sklearn-color-fitted-level-3);\n",
       "  color: var(--sklearn-color-background);\n",
       "  text-decoration: none;\n",
       "}\n",
       "\n",
       "/* Span, style for the box shown on hovering the info icon */\n",
       ".sk-estimator-doc-link span {\n",
       "  display: none;\n",
       "  z-index: 9999;\n",
       "  position: relative;\n",
       "  font-weight: normal;\n",
       "  right: .2ex;\n",
       "  padding: .5ex;\n",
       "  margin: .5ex;\n",
       "  width: min-content;\n",
       "  min-width: 20ex;\n",
       "  max-width: 50ex;\n",
       "  color: var(--sklearn-color-text);\n",
       "  box-shadow: 2pt 2pt 4pt #999;\n",
       "  /* unfitted */\n",
       "  background: var(--sklearn-color-unfitted-level-0);\n",
       "  border: .5pt solid var(--sklearn-color-unfitted-level-3);\n",
       "}\n",
       "\n",
       ".sk-estimator-doc-link.fitted span {\n",
       "  /* fitted */\n",
       "  background: var(--sklearn-color-fitted-level-0);\n",
       "  border: var(--sklearn-color-fitted-level-3);\n",
       "}\n",
       "\n",
       ".sk-estimator-doc-link:hover span {\n",
       "  display: block;\n",
       "}\n",
       "\n",
       "/* \"?\"-specific style due to the `<a>` HTML tag */\n",
       "\n",
       "#sk-container-id-8 a.estimator_doc_link {\n",
       "  float: right;\n",
       "  font-size: 1rem;\n",
       "  line-height: 1em;\n",
       "  font-family: monospace;\n",
       "  background-color: var(--sklearn-color-background);\n",
       "  border-radius: 1rem;\n",
       "  height: 1rem;\n",
       "  width: 1rem;\n",
       "  text-decoration: none;\n",
       "  /* unfitted */\n",
       "  color: var(--sklearn-color-unfitted-level-1);\n",
       "  border: var(--sklearn-color-unfitted-level-1) 1pt solid;\n",
       "}\n",
       "\n",
       "#sk-container-id-8 a.estimator_doc_link.fitted {\n",
       "  /* fitted */\n",
       "  border: var(--sklearn-color-fitted-level-1) 1pt solid;\n",
       "  color: var(--sklearn-color-fitted-level-1);\n",
       "}\n",
       "\n",
       "/* On hover */\n",
       "#sk-container-id-8 a.estimator_doc_link:hover {\n",
       "  /* unfitted */\n",
       "  background-color: var(--sklearn-color-unfitted-level-3);\n",
       "  color: var(--sklearn-color-background);\n",
       "  text-decoration: none;\n",
       "}\n",
       "\n",
       "#sk-container-id-8 a.estimator_doc_link.fitted:hover {\n",
       "  /* fitted */\n",
       "  background-color: var(--sklearn-color-fitted-level-3);\n",
       "}\n",
       "</style><div id=\"sk-container-id-8\" class=\"sk-top-container\"><div class=\"sk-text-repr-fallback\"><pre>LinearRegression()</pre><b>In a Jupyter environment, please rerun this cell to show the HTML representation or trust the notebook. <br />On GitHub, the HTML representation is unable to render, please try loading this page with nbviewer.org.</b></div><div class=\"sk-container\" hidden><div class=\"sk-item\"><div class=\"sk-estimator fitted sk-toggleable\"><input class=\"sk-toggleable__control sk-hidden--visually\" id=\"sk-estimator-id-12\" type=\"checkbox\" checked><label for=\"sk-estimator-id-12\" class=\"sk-toggleable__label fitted sk-toggleable__label-arrow fitted\">&nbsp;&nbsp;LinearRegression<a class=\"sk-estimator-doc-link fitted\" rel=\"noreferrer\" target=\"_blank\" href=\"https://scikit-learn.org/1.5/modules/generated/sklearn.linear_model.LinearRegression.html\">?<span>Documentation for LinearRegression</span></a><span class=\"sk-estimator-doc-link fitted\">i<span>Fitted</span></span></label><div class=\"sk-toggleable__content fitted\"><pre>LinearRegression()</pre></div> </div></div></div></div>"
      ],
      "text/plain": [
       "LinearRegression()"
      ]
     },
     "execution_count": 472,
     "metadata": {},
     "output_type": "execute_result"
    }
   ],
   "source": [
    "lr.fit(xtrain,ytrain)"
   ]
  },
  {
   "cell_type": "code",
   "execution_count": 473,
   "id": "bb869ad5",
   "metadata": {},
   "outputs": [
    {
     "data": {
      "text/plain": [
       "array([7.63278557, 7.38717592])"
      ]
     },
     "execution_count": 473,
     "metadata": {},
     "output_type": "execute_result"
    }
   ],
   "source": [
    "lr.coef_"
   ]
  },
  {
   "cell_type": "code",
   "execution_count": 474,
   "id": "c7e7cad9",
   "metadata": {},
   "outputs": [
    {
     "data": {
      "text/plain": [
       "10.273178829628925"
      ]
     },
     "execution_count": 474,
     "metadata": {},
     "output_type": "execute_result"
    }
   ],
   "source": [
    "lr.intercept_"
   ]
  },
  {
   "cell_type": "code",
   "execution_count": 475,
   "id": "a0062cdb",
   "metadata": {},
   "outputs": [],
   "source": [
    "yhat=lr.predict(xtest)"
   ]
  },
  {
   "cell_type": "code",
   "execution_count": 476,
   "id": "6d8d12ec",
   "metadata": {},
   "outputs": [
    {
     "data": {
      "text/plain": [
       "Text(0.5, 1.0, 'Comparision Between actual Values and Predicted values')"
      ]
     },
     "execution_count": 476,
     "metadata": {},
     "output_type": "execute_result"
    },
    {
     "data": {
      "image/png": "[encoded data removed]",
      "text/plain": [
       "<Figure size 640x480 with 1 Axes>"
      ]
     },
     "metadata": {},
     "output_type": "display_data"
    }
   ],
   "source": [
    "sns.kdeplot(ytest,color='r')\n",
    "sns.kdeplot(yhat,color='b')\n",
    "plt.title('Comparision Between actual Values and Predicted values')"
   ]
  },
  {
   "cell_type": "code",
   "execution_count": 477,
   "id": "4dd67c50",
   "metadata": {},
   "outputs": [
    {
     "data": {
      "text/plain": [
       "0.9296675244937258"
      ]
     },
     "execution_count": 477,
     "metadata": {},
     "output_type": "execute_result"
    }
   ],
   "source": [
    "lr.score(xtrain,ytrain)"
   ]
  },
  {
   "cell_type": "code",
   "execution_count": 478,
   "id": "947ee13b",
   "metadata": {},
   "outputs": [
    {
     "data": {
      "text/plain": [
       "0.9201020081815687"
      ]
     },
     "execution_count": 478,
     "metadata": {},
     "output_type": "execute_result"
    }
   ],
   "source": [
    "lr.score(xtest,ytest)"
   ]
  },
  {
   "cell_type": "code",
   "execution_count": 479,
   "id": "77a24c87",
   "metadata": {},
   "outputs": [],
   "source": [
    "from sklearn.model_selection import cross_val_score\n",
    "rcross=cross_val_score(lr,batting[['4s','6s']],batting['runs'],cv=4)"
   ]
  },
  {
   "cell_type": "code",
   "execution_count": 480,
   "id": "ce57b0b2",
   "metadata": {},
   "outputs": [
    {
     "data": {
      "text/plain": [
       "array([0.90280825, 0.91776875, 0.94283452, 0.93326342])"
      ]
     },
     "execution_count": 480,
     "metadata": {},
     "output_type": "execute_result"
    }
   ],
   "source": [
    "rcross"
   ]
  },
  {
   "cell_type": "code",
   "execution_count": 481,
   "id": "985c06d0",
   "metadata": {},
   "outputs": [],
   "source": [
    "alpha=[{'alpha':[0.1,1,10,1000]}]\n"
   ]
  },
  {
   "cell_type": "code",
   "execution_count": 482,
   "id": "d3108532",
   "metadata": {},
   "outputs": [],
   "source": [
    "from sklearn.linear_model import Ridge\n",
    "from sklearn.model_selection import GridSearchCV\n",
    "from sklearn.preprocessing import StandardScaler"
   ]
  },
  {
   "cell_type": "code",
   "execution_count": 483,
   "id": "4ed59eb8",
   "metadata": {},
   "outputs": [],
   "source": [
    "grid=GridSearchCV(Ridge(),param_grid=alpha)"
   ]
  },
  {
   "cell_type": "code",
   "execution_count": 484,
   "id": "cd673060",
   "metadata": {},
   "outputs": [],
   "source": [
    "scaler=StandardScaler()"
   ]
  },
  {
   "cell_type": "code",
   "execution_count": 485,
   "id": "294e3a08",
   "metadata": {},
   "outputs": [
    {
     "data": {
      "text/html": [
       "<style>#sk-container-id-9 {\n",
       "  /* Definition of color scheme common for light and dark mode */\n",
       "  --sklearn-color-text: black;\n",
       "  --sklearn-color-line: gray;\n",
       "  /* Definition of color scheme for unfitted estimators */\n",
       "  --sklearn-color-unfitted-level-0: #fff5e6;\n",
       "  --sklearn-color-unfitted-level-1: #f6e4d2;\n",
       "  --sklearn-color-unfitted-level-2: #ffe0b3;\n",
       "  --sklearn-color-unfitted-level-3: chocolate;\n",
       "  /* Definition of color scheme for fitted estimators */\n",
       "  --sklearn-color-fitted-level-0: #f0f8ff;\n",
       "  --sklearn-color-fitted-level-1: #d4ebff;\n",
       "  --sklearn-color-fitted-level-2: #b3dbfd;\n",
       "  --sklearn-color-fitted-level-3: cornflowerblue;\n",
       "\n",
       "  /* Specific color for light theme */\n",
       "  --sklearn-color-text-on-default-background: var(--sg-text-color, var(--theme-code-foreground, var(--jp-content-font-color1, black)));\n",
       "  --sklearn-color-background: var(--sg-background-color, var(--theme-background, var(--jp-layout-color0, white)));\n",
       "  --sklearn-color-border-box: var(--sg-text-color, var(--theme-code-foreground, var(--jp-content-font-color1, black)));\n",
       "  --sklearn-color-icon: #696969;\n",
       "\n",
       "  @media (prefers-color-scheme: dark) {\n",
       "    /* Redefinition of color scheme for dark theme */\n",
       "    --sklearn-color-text-on-default-background: var(--sg-text-color, var(--theme-code-foreground, var(--jp-content-font-color1, white)));\n",
       "    --sklearn-color-background: var(--sg-background-color, var(--theme-background, var(--jp-layout-color0, #111)));\n",
       "    --sklearn-color-border-box: var(--sg-text-color, var(--theme-code-foreground, var(--jp-content-font-color1, white)));\n",
       "    --sklearn-color-icon: #878787;\n",
       "  }\n",
       "}\n",
       "\n",
       "#sk-container-id-9 {\n",
       "  color: var(--sklearn-color-text);\n",
       "}\n",
       "\n",
       "#sk-container-id-9 pre {\n",
       "  padding: 0;\n",
       "}\n",
       "\n",
       "#sk-container-id-9 input.sk-hidden--visually {\n",
       "  border: 0;\n",
       "  clip: rect(1px 1px 1px 1px);\n",
       "  clip: rect(1px, 1px, 1px, 1px);\n",
       "  height: 1px;\n",
       "  margin: -1px;\n",
       "  overflow: hidden;\n",
       "  padding: 0;\n",
       "  position: absolute;\n",
       "  width: 1px;\n",
       "}\n",
       "\n",
       "#sk-container-id-9 div.sk-dashed-wrapped {\n",
       "  border: 1px dashed var(--sklearn-color-line);\n",
       "  margin: 0 0.4em 0.5em 0.4em;\n",
       "  box-sizing: border-box;\n",
       "  padding-bottom: 0.4em;\n",
       "  background-color: var(--sklearn-color-background);\n",
       "}\n",
       "\n",
       "#sk-container-id-9 div.sk-container {\n",
       "  /* jupyter's `normalize.less` sets `[hidden] { display: none; }`\n",
       "     but bootstrap.min.css set `[hidden] { display: none !important; }`\n",
       "     so we also need the `!important` here to be able to override the\n",
       "     default hidden behavior on the sphinx rendered scikit-learn.org.\n",
       "     See: https://github.com/scikit-learn/scikit-learn/issues/21755 */\n",
       "  display: inline-block !important;\n",
       "  position: relative;\n",
       "}\n",
       "\n",
       "#sk-container-id-9 div.sk-text-repr-fallback {\n",
       "  display: none;\n",
       "}\n",
       "\n",
       "div.sk-parallel-item,\n",
       "div.sk-serial,\n",
       "div.sk-item {\n",
       "  /* draw centered vertical line to link estimators */\n",
       "  background-image: linear-gradient(var(--sklearn-color-text-on-default-background), var(--sklearn-color-text-on-default-background));\n",
       "  background-size: 2px 100%;\n",
       "  background-repeat: no-repeat;\n",
       "  background-position: center center;\n",
       "}\n",
       "\n",
       "/* Parallel-specific style estimator block */\n",
       "\n",
       "#sk-container-id-9 div.sk-parallel-item::after {\n",
       "  content: \"\";\n",
       "  width: 100%;\n",
       "  border-bottom: 2px solid var(--sklearn-color-text-on-default-background);\n",
       "  flex-grow: 1;\n",
       "}\n",
       "\n",
       "#sk-container-id-9 div.sk-parallel {\n",
       "  display: flex;\n",
       "  align-items: stretch;\n",
       "  justify-content: center;\n",
       "  background-color: var(--sklearn-color-background);\n",
       "  position: relative;\n",
       "}\n",
       "\n",
       "#sk-container-id-9 div.sk-parallel-item {\n",
       "  display: flex;\n",
       "  flex-direction: column;\n",
       "}\n",
       "\n",
       "#sk-container-id-9 div.sk-parallel-item:first-child::after {\n",
       "  align-self: flex-end;\n",
       "  width: 50%;\n",
       "}\n",
       "\n",
       "#sk-container-id-9 div.sk-parallel-item:last-child::after {\n",
       "  align-self: flex-start;\n",
       "  width: 50%;\n",
       "}\n",
       "\n",
       "#sk-container-id-9 div.sk-parallel-item:only-child::after {\n",
       "  width: 0;\n",
       "}\n",
       "\n",
       "/* Serial-specific style estimator block */\n",
       "\n",
       "#sk-container-id-9 div.sk-serial {\n",
       "  display: flex;\n",
       "  flex-direction: column;\n",
       "  align-items: center;\n",
       "  background-color: var(--sklearn-color-background);\n",
       "  padding-right: 1em;\n",
       "  padding-left: 1em;\n",
       "}\n",
       "\n",
       "\n",
       "/* Toggleable style: style used for estimator/Pipeline/ColumnTransformer box that is\n",
       "clickable and can be expanded/collapsed.\n",
       "- Pipeline and ColumnTransformer use this feature and define the default style\n",
       "- Estimators will overwrite some part of the style using the `sk-estimator` class\n",
       "*/\n",
       "\n",
       "/* Pipeline and ColumnTransformer style (default) */\n",
       "\n",
       "#sk-container-id-9 div.sk-toggleable {\n",
       "  /* Default theme specific background. It is overwritten whether we have a\n",
       "  specific estimator or a Pipeline/ColumnTransformer */\n",
       "  background-color: var(--sklearn-color-background);\n",
       "}\n",
       "\n",
       "/* Toggleable label */\n",
       "#sk-container-id-9 label.sk-toggleable__label {\n",
       "  cursor: pointer;\n",
       "  display: block;\n",
       "  width: 100%;\n",
       "  margin-bottom: 0;\n",
       "  padding: 0.5em;\n",
       "  box-sizing: border-box;\n",
       "  text-align: center;\n",
       "}\n",
       "\n",
       "#sk-container-id-9 label.sk-toggleable__label-arrow:before {\n",
       "  /* Arrow on the left of the label */\n",
       "  content: \"▸\";\n",
       "  float: left;\n",
       "  margin-right: 0.25em;\n",
       "  color: var(--sklearn-color-icon);\n",
       "}\n",
       "\n",
       "#sk-container-id-9 label.sk-toggleable__label-arrow:hover:before {\n",
       "  color: var(--sklearn-color-text);\n",
       "}\n",
       "\n",
       "/* Toggleable content - dropdown */\n",
       "\n",
       "#sk-container-id-9 div.sk-toggleable__content {\n",
       "  max-height: 0;\n",
       "  max-width: 0;\n",
       "  overflow: hidden;\n",
       "  text-align: left;\n",
       "  /* unfitted */\n",
       "  background-color: var(--sklearn-color-unfitted-level-0);\n",
       "}\n",
       "\n",
       "#sk-container-id-9 div.sk-toggleable__content.fitted {\n",
       "  /* fitted */\n",
       "  background-color: var(--sklearn-color-fitted-level-0);\n",
       "}\n",
       "\n",
       "#sk-container-id-9 div.sk-toggleable__content pre {\n",
       "  margin: 0.2em;\n",
       "  border-radius: 0.25em;\n",
       "  color: var(--sklearn-color-text);\n",
       "  /* unfitted */\n",
       "  background-color: var(--sklearn-color-unfitted-level-0);\n",
       "}\n",
       "\n",
       "#sk-container-id-9 div.sk-toggleable__content.fitted pre {\n",
       "  /* unfitted */\n",
       "  background-color: var(--sklearn-color-fitted-level-0);\n",
       "}\n",
       "\n",
       "#sk-container-id-9 input.sk-toggleable__control:checked~div.sk-toggleable__content {\n",
       "  /* Expand drop-down */\n",
       "  max-height: 200px;\n",
       "  max-width: 100%;\n",
       "  overflow: auto;\n",
       "}\n",
       "\n",
       "#sk-container-id-9 input.sk-toggleable__control:checked~label.sk-toggleable__label-arrow:before {\n",
       "  content: \"▾\";\n",
       "}\n",
       "\n",
       "/* Pipeline/ColumnTransformer-specific style */\n",
       "\n",
       "#sk-container-id-9 div.sk-label input.sk-toggleable__control:checked~label.sk-toggleable__label {\n",
       "  color: var(--sklearn-color-text);\n",
       "  background-color: var(--sklearn-color-unfitted-level-2);\n",
       "}\n",
       "\n",
       "#sk-container-id-9 div.sk-label.fitted input.sk-toggleable__control:checked~label.sk-toggleable__label {\n",
       "  background-color: var(--sklearn-color-fitted-level-2);\n",
       "}\n",
       "\n",
       "/* Estimator-specific style */\n",
       "\n",
       "/* Colorize estimator box */\n",
       "#sk-container-id-9 div.sk-estimator input.sk-toggleable__control:checked~label.sk-toggleable__label {\n",
       "  /* unfitted */\n",
       "  background-color: var(--sklearn-color-unfitted-level-2);\n",
       "}\n",
       "\n",
       "#sk-container-id-9 div.sk-estimator.fitted input.sk-toggleable__control:checked~label.sk-toggleable__label {\n",
       "  /* fitted */\n",
       "  background-color: var(--sklearn-color-fitted-level-2);\n",
       "}\n",
       "\n",
       "#sk-container-id-9 div.sk-label label.sk-toggleable__label,\n",
       "#sk-container-id-9 div.sk-label label {\n",
       "  /* The background is the default theme color */\n",
       "  color: var(--sklearn-color-text-on-default-background);\n",
       "}\n",
       "\n",
       "/* On hover, darken the color of the background */\n",
       "#sk-container-id-9 div.sk-label:hover label.sk-toggleable__label {\n",
       "  color: var(--sklearn-color-text);\n",
       "  background-color: var(--sklearn-color-unfitted-level-2);\n",
       "}\n",
       "\n",
       "/* Label box, darken color on hover, fitted */\n",
       "#sk-container-id-9 div.sk-label.fitted:hover label.sk-toggleable__label.fitted {\n",
       "  color: var(--sklearn-color-text);\n",
       "  background-color: var(--sklearn-color-fitted-level-2);\n",
       "}\n",
       "\n",
       "/* Estimator label */\n",
       "\n",
       "#sk-container-id-9 div.sk-label label {\n",
       "  font-family: monospace;\n",
       "  font-weight: bold;\n",
       "  display: inline-block;\n",
       "  line-height: 1.2em;\n",
       "}\n",
       "\n",
       "#sk-container-id-9 div.sk-label-container {\n",
       "  text-align: center;\n",
       "}\n",
       "\n",
       "/* Estimator-specific */\n",
       "#sk-container-id-9 div.sk-estimator {\n",
       "  font-family: monospace;\n",
       "  border: 1px dotted var(--sklearn-color-border-box);\n",
       "  border-radius: 0.25em;\n",
       "  box-sizing: border-box;\n",
       "  margin-bottom: 0.5em;\n",
       "  /* unfitted */\n",
       "  background-color: var(--sklearn-color-unfitted-level-0);\n",
       "}\n",
       "\n",
       "#sk-container-id-9 div.sk-estimator.fitted {\n",
       "  /* fitted */\n",
       "  background-color: var(--sklearn-color-fitted-level-0);\n",
       "}\n",
       "\n",
       "/* on hover */\n",
       "#sk-container-id-9 div.sk-estimator:hover {\n",
       "  /* unfitted */\n",
       "  background-color: var(--sklearn-color-unfitted-level-2);\n",
       "}\n",
       "\n",
       "#sk-container-id-9 div.sk-estimator.fitted:hover {\n",
       "  /* fitted */\n",
       "  background-color: var(--sklearn-color-fitted-level-2);\n",
       "}\n",
       "\n",
       "/* Specification for estimator info (e.g. \"i\" and \"?\") */\n",
       "\n",
       "/* Common style for \"i\" and \"?\" */\n",
       "\n",
       ".sk-estimator-doc-link,\n",
       "a:link.sk-estimator-doc-link,\n",
       "a:visited.sk-estimator-doc-link {\n",
       "  float: right;\n",
       "  font-size: smaller;\n",
       "  line-height: 1em;\n",
       "  font-family: monospace;\n",
       "  background-color: var(--sklearn-color-background);\n",
       "  border-radius: 1em;\n",
       "  height: 1em;\n",
       "  width: 1em;\n",
       "  text-decoration: none !important;\n",
       "  margin-left: 1ex;\n",
       "  /* unfitted */\n",
       "  border: var(--sklearn-color-unfitted-level-1) 1pt solid;\n",
       "  color: var(--sklearn-color-unfitted-level-1);\n",
       "}\n",
       "\n",
       ".sk-estimator-doc-link.fitted,\n",
       "a:link.sk-estimator-doc-link.fitted,\n",
       "a:visited.sk-estimator-doc-link.fitted {\n",
       "  /* fitted */\n",
       "  border: var(--sklearn-color-fitted-level-1) 1pt solid;\n",
       "  color: var(--sklearn-color-fitted-level-1);\n",
       "}\n",
       "\n",
       "/* On hover */\n",
       "div.sk-estimator:hover .sk-estimator-doc-link:hover,\n",
       ".sk-estimator-doc-link:hover,\n",
       "div.sk-label-container:hover .sk-estimator-doc-link:hover,\n",
       ".sk-estimator-doc-link:hover {\n",
       "  /* unfitted */\n",
       "  background-color: var(--sklearn-color-unfitted-level-3);\n",
       "  color: var(--sklearn-color-background);\n",
       "  text-decoration: none;\n",
       "}\n",
       "\n",
       "div.sk-estimator.fitted:hover .sk-estimator-doc-link.fitted:hover,\n",
       ".sk-estimator-doc-link.fitted:hover,\n",
       "div.sk-label-container:hover .sk-estimator-doc-link.fitted:hover,\n",
       ".sk-estimator-doc-link.fitted:hover {\n",
       "  /* fitted */\n",
       "  background-color: var(--sklearn-color-fitted-level-3);\n",
       "  color: var(--sklearn-color-background);\n",
       "  text-decoration: none;\n",
       "}\n",
       "\n",
       "/* Span, style for the box shown on hovering the info icon */\n",
       ".sk-estimator-doc-link span {\n",
       "  display: none;\n",
       "  z-index: 9999;\n",
       "  position: relative;\n",
       "  font-weight: normal;\n",
       "  right: .2ex;\n",
       "  padding: .5ex;\n",
       "  margin: .5ex;\n",
       "  width: min-content;\n",
       "  min-width: 20ex;\n",
       "  max-width: 50ex;\n",
       "  color: var(--sklearn-color-text);\n",
       "  box-shadow: 2pt 2pt 4pt #999;\n",
       "  /* unfitted */\n",
       "  background: var(--sklearn-color-unfitted-level-0);\n",
       "  border: .5pt solid var(--sklearn-color-unfitted-level-3);\n",
       "}\n",
       "\n",
       ".sk-estimator-doc-link.fitted span {\n",
       "  /* fitted */\n",
       "  background: var(--sklearn-color-fitted-level-0);\n",
       "  border: var(--sklearn-color-fitted-level-3);\n",
       "}\n",
       "\n",
       ".sk-estimator-doc-link:hover span {\n",
       "  display: block;\n",
       "}\n",
       "\n",
       "/* \"?\"-specific style due to the `<a>` HTML tag */\n",
       "\n",
       "#sk-container-id-9 a.estimator_doc_link {\n",
       "  float: right;\n",
       "  font-size: 1rem;\n",
       "  line-height: 1em;\n",
       "  font-family: monospace;\n",
       "  background-color: var(--sklearn-color-background);\n",
       "  border-radius: 1rem;\n",
       "  height: 1rem;\n",
       "  width: 1rem;\n",
       "  text-decoration: none;\n",
       "  /* unfitted */\n",
       "  color: var(--sklearn-color-unfitted-level-1);\n",
       "  border: var(--sklearn-color-unfitted-level-1) 1pt solid;\n",
       "}\n",
       "\n",
       "#sk-container-id-9 a.estimator_doc_link.fitted {\n",
       "  /* fitted */\n",
       "  border: var(--sklearn-color-fitted-level-1) 1pt solid;\n",
       "  color: var(--sklearn-color-fitted-level-1);\n",
       "}\n",
       "\n",
       "/* On hover */\n",
       "#sk-container-id-9 a.estimator_doc_link:hover {\n",
       "  /* unfitted */\n",
       "  background-color: var(--sklearn-color-unfitted-level-3);\n",
       "  color: var(--sklearn-color-background);\n",
       "  text-decoration: none;\n",
       "}\n",
       "\n",
       "#sk-container-id-9 a.estimator_doc_link.fitted:hover {\n",
       "  /* fitted */\n",
       "  background-color: var(--sklearn-color-fitted-level-3);\n",
       "}\n",
       "</style><div id=\"sk-container-id-9\" class=\"sk-top-container\"><div class=\"sk-text-repr-fallback\"><pre>GridSearchCV(estimator=Ridge(), param_grid=[{&#x27;alpha&#x27;: [0.1, 1, 10, 1000]}])</pre><b>In a Jupyter environment, please rerun this cell to show the HTML representation or trust the notebook. <br />On GitHub, the HTML representation is unable to render, please try loading this page with nbviewer.org.</b></div><div class=\"sk-container\" hidden><div class=\"sk-item sk-dashed-wrapped\"><div class=\"sk-label-container\"><div class=\"sk-label fitted sk-toggleable\"><input class=\"sk-toggleable__control sk-hidden--visually\" id=\"sk-estimator-id-13\" type=\"checkbox\" ><label for=\"sk-estimator-id-13\" class=\"sk-toggleable__label fitted sk-toggleable__label-arrow fitted\">&nbsp;&nbsp;GridSearchCV<a class=\"sk-estimator-doc-link fitted\" rel=\"noreferrer\" target=\"_blank\" href=\"https://scikit-learn.org/1.5/modules/generated/sklearn.model_selection.GridSearchCV.html\">?<span>Documentation for GridSearchCV</span></a><span class=\"sk-estimator-doc-link fitted\">i<span>Fitted</span></span></label><div class=\"sk-toggleable__content fitted\"><pre>GridSearchCV(estimator=Ridge(), param_grid=[{&#x27;alpha&#x27;: [0.1, 1, 10, 1000]}])</pre></div> </div></div><div class=\"sk-parallel\"><div class=\"sk-parallel-item\"><div class=\"sk-item\"><div class=\"sk-label-container\"><div class=\"sk-label fitted sk-toggleable\"><input class=\"sk-toggleable__control sk-hidden--visually\" id=\"sk-estimator-id-14\" type=\"checkbox\" ><label for=\"sk-estimator-id-14\" class=\"sk-toggleable__label fitted sk-toggleable__label-arrow fitted\">best_estimator_: Ridge</label><div class=\"sk-toggleable__content fitted\"><pre>Ridge(alpha=1)</pre></div> </div></div><div class=\"sk-serial\"><div class=\"sk-item\"><div class=\"sk-estimator fitted sk-toggleable\"><input class=\"sk-toggleable__control sk-hidden--visually\" id=\"sk-estimator-id-15\" type=\"checkbox\" ><label for=\"sk-estimator-id-15\" class=\"sk-toggleable__label fitted sk-toggleable__label-arrow fitted\">&nbsp;Ridge<a class=\"sk-estimator-doc-link fitted\" rel=\"noreferrer\" target=\"_blank\" href=\"https://scikit-learn.org/1.5/modules/generated/sklearn.linear_model.Ridge.html\">?<span>Documentation for Ridge</span></a></label><div class=\"sk-toggleable__content fitted\"><pre>Ridge(alpha=1)</pre></div> </div></div></div></div></div></div></div></div></div>"
      ],
      "text/plain": [
       "GridSearchCV(estimator=Ridge(), param_grid=[{'alpha': [0.1, 1, 10, 1000]}])"
      ]
     },
     "execution_count": 485,
     "metadata": {},
     "output_type": "execute_result"
    }
   ],
   "source": [
    "grid.fit(scaler.fit_transform(xtrain),ytrain)"
   ]
  },
  {
   "cell_type": "code",
   "execution_count": 486,
   "id": "be234248",
   "metadata": {},
   "outputs": [
    {
     "data": {
      "text/plain": [
       "{'alpha': 1}"
      ]
     },
     "execution_count": 486,
     "metadata": {},
     "output_type": "execute_result"
    }
   ],
   "source": [
    "grid.best_params_"
   ]
  },
  {
   "cell_type": "code",
   "execution_count": 487,
   "id": "d7819108",
   "metadata": {},
   "outputs": [
    {
     "data": {
      "text/plain": [
       "0.9135169194793381"
      ]
     },
     "execution_count": 487,
     "metadata": {},
     "output_type": "execute_result"
    }
   ],
   "source": [
    "grid.best_score_"
   ]
  },
  {
   "cell_type": "code",
   "execution_count": 488,
   "id": "4dd14c33",
   "metadata": {},
   "outputs": [
    {
     "data": {
      "text/html": [
       "<style>#sk-container-id-10 {\n",
       "  /* Definition of color scheme common for light and dark mode */\n",
       "  --sklearn-color-text: black;\n",
       "  --sklearn-color-line: gray;\n",
       "  /* Definition of color scheme for unfitted estimators */\n",
       "  --sklearn-color-unfitted-level-0: #fff5e6;\n",
       "  --sklearn-color-unfitted-level-1: #f6e4d2;\n",
       "  --sklearn-color-unfitted-level-2: #ffe0b3;\n",
       "  --sklearn-color-unfitted-level-3: chocolate;\n",
       "  /* Definition of color scheme for fitted estimators */\n",
       "  --sklearn-color-fitted-level-0: #f0f8ff;\n",
       "  --sklearn-color-fitted-level-1: #d4ebff;\n",
       "  --sklearn-color-fitted-level-2: #b3dbfd;\n",
       "  --sklearn-color-fitted-level-3: cornflowerblue;\n",
       "\n",
       "  /* Specific color for light theme */\n",
       "  --sklearn-color-text-on-default-background: var(--sg-text-color, var(--theme-code-foreground, var(--jp-content-font-color1, black)));\n",
       "  --sklearn-color-background: var(--sg-background-color, var(--theme-background, var(--jp-layout-color0, white)));\n",
       "  --sklearn-color-border-box: var(--sg-text-color, var(--theme-code-foreground, var(--jp-content-font-color1, black)));\n",
       "  --sklearn-color-icon: #696969;\n",
       "\n",
       "  @media (prefers-color-scheme: dark) {\n",
       "    /* Redefinition of color scheme for dark theme */\n",
       "    --sklearn-color-text-on-default-background: var(--sg-text-color, var(--theme-code-foreground, var(--jp-content-font-color1, white)));\n",
       "    --sklearn-color-background: var(--sg-background-color, var(--theme-background, var(--jp-layout-color0, #111)));\n",
       "    --sklearn-color-border-box: var(--sg-text-color, var(--theme-code-foreground, var(--jp-content-font-color1, white)));\n",
       "    --sklearn-color-icon: #878787;\n",
       "  }\n",
       "}\n",
       "\n",
       "#sk-container-id-10 {\n",
       "  color: var(--sklearn-color-text);\n",
       "}\n",
       "\n",
       "#sk-container-id-10 pre {\n",
       "  padding: 0;\n",
       "}\n",
       "\n",
       "#sk-container-id-10 input.sk-hidden--visually {\n",
       "  border: 0;\n",
       "  clip: rect(1px 1px 1px 1px);\n",
       "  clip: rect(1px, 1px, 1px, 1px);\n",
       "  height: 1px;\n",
       "  margin: -1px;\n",
       "  overflow: hidden;\n",
       "  padding: 0;\n",
       "  position: absolute;\n",
       "  width: 1px;\n",
       "}\n",
       "\n",
       "#sk-container-id-10 div.sk-dashed-wrapped {\n",
       "  border: 1px dashed var(--sklearn-color-line);\n",
       "  margin: 0 0.4em 0.5em 0.4em;\n",
       "  box-sizing: border-box;\n",
       "  padding-bottom: 0.4em;\n",
       "  background-color: var(--sklearn-color-background);\n",
       "}\n",
       "\n",
       "#sk-container-id-10 div.sk-container {\n",
       "  /* jupyter's `normalize.less` sets `[hidden] { display: none; }`\n",
       "     but bootstrap.min.css set `[hidden] { display: none !important; }`\n",
       "     so we also need the `!important` here to be able to override the\n",
       "     default hidden behavior on the sphinx rendered scikit-learn.org.\n",
       "     See: https://github.com/scikit-learn/scikit-learn/issues/21755 */\n",
       "  display: inline-block !important;\n",
       "  position: relative;\n",
       "}\n",
       "\n",
       "#sk-container-id-10 div.sk-text-repr-fallback {\n",
       "  display: none;\n",
       "}\n",
       "\n",
       "div.sk-parallel-item,\n",
       "div.sk-serial,\n",
       "div.sk-item {\n",
       "  /* draw centered vertical line to link estimators */\n",
       "  background-image: linear-gradient(var(--sklearn-color-text-on-default-background), var(--sklearn-color-text-on-default-background));\n",
       "  background-size: 2px 100%;\n",
       "  background-repeat: no-repeat;\n",
       "  background-position: center center;\n",
       "}\n",
       "\n",
       "/* Parallel-specific style estimator block */\n",
       "\n",
       "#sk-container-id-10 div.sk-parallel-item::after {\n",
       "  content: \"\";\n",
       "  width: 100%;\n",
       "  border-bottom: 2px solid var(--sklearn-color-text-on-default-background);\n",
       "  flex-grow: 1;\n",
       "}\n",
       "\n",
       "#sk-container-id-10 div.sk-parallel {\n",
       "  display: flex;\n",
       "  align-items: stretch;\n",
       "  justify-content: center;\n",
       "  background-color: var(--sklearn-color-background);\n",
       "  position: relative;\n",
       "}\n",
       "\n",
       "#sk-container-id-10 div.sk-parallel-item {\n",
       "  display: flex;\n",
       "  flex-direction: column;\n",
       "}\n",
       "\n",
       "#sk-container-id-10 div.sk-parallel-item:first-child::after {\n",
       "  align-self: flex-end;\n",
       "  width: 50%;\n",
       "}\n",
       "\n",
       "#sk-container-id-10 div.sk-parallel-item:last-child::after {\n",
       "  align-self: flex-start;\n",
       "  width: 50%;\n",
       "}\n",
       "\n",
       "#sk-container-id-10 div.sk-parallel-item:only-child::after {\n",
       "  width: 0;\n",
       "}\n",
       "\n",
       "/* Serial-specific style estimator block */\n",
       "\n",
       "#sk-container-id-10 div.sk-serial {\n",
       "  display: flex;\n",
       "  flex-direction: column;\n",
       "  align-items: center;\n",
       "  background-color: var(--sklearn-color-background);\n",
       "  padding-right: 1em;\n",
       "  padding-left: 1em;\n",
       "}\n",
       "\n",
       "\n",
       "/* Toggleable style: style used for estimator/Pipeline/ColumnTransformer box that is\n",
       "clickable and can be expanded/collapsed.\n",
       "- Pipeline and ColumnTransformer use this feature and define the default style\n",
       "- Estimators will overwrite some part of the style using the `sk-estimator` class\n",
       "*/\n",
       "\n",
       "/* Pipeline and ColumnTransformer style (default) */\n",
       "\n",
       "#sk-container-id-10 div.sk-toggleable {\n",
       "  /* Default theme specific background. It is overwritten whether we have a\n",
       "  specific estimator or a Pipeline/ColumnTransformer */\n",
       "  background-color: var(--sklearn-color-background);\n",
       "}\n",
       "\n",
       "/* Toggleable label */\n",
       "#sk-container-id-10 label.sk-toggleable__label {\n",
       "  cursor: pointer;\n",
       "  display: block;\n",
       "  width: 100%;\n",
       "  margin-bottom: 0;\n",
       "  padding: 0.5em;\n",
       "  box-sizing: border-box;\n",
       "  text-align: center;\n",
       "}\n",
       "\n",
       "#sk-container-id-10 label.sk-toggleable__label-arrow:before {\n",
       "  /* Arrow on the left of the label */\n",
       "  content: \"▸\";\n",
       "  float: left;\n",
       "  margin-right: 0.25em;\n",
       "  color: var(--sklearn-color-icon);\n",
       "}\n",
       "\n",
       "#sk-container-id-10 label.sk-toggleable__label-arrow:hover:before {\n",
       "  color: var(--sklearn-color-text);\n",
       "}\n",
       "\n",
       "/* Toggleable content - dropdown */\n",
       "\n",
       "#sk-container-id-10 div.sk-toggleable__content {\n",
       "  max-height: 0;\n",
       "  max-width: 0;\n",
       "  overflow: hidden;\n",
       "  text-align: left;\n",
       "  /* unfitted */\n",
       "  background-color: var(--sklearn-color-unfitted-level-0);\n",
       "}\n",
       "\n",
       "#sk-container-id-10 div.sk-toggleable__content.fitted {\n",
       "  /* fitted */\n",
       "  background-color: var(--sklearn-color-fitted-level-0);\n",
       "}\n",
       "\n",
       "#sk-container-id-10 div.sk-toggleable__content pre {\n",
       "  margin: 0.2em;\n",
       "  border-radius: 0.25em;\n",
       "  color: var(--sklearn-color-text);\n",
       "  /* unfitted */\n",
       "  background-color: var(--sklearn-color-unfitted-level-0);\n",
       "}\n",
       "\n",
       "#sk-container-id-10 div.sk-toggleable__content.fitted pre {\n",
       "  /* unfitted */\n",
       "  background-color: var(--sklearn-color-fitted-level-0);\n",
       "}\n",
       "\n",
       "#sk-container-id-10 input.sk-toggleable__control:checked~div.sk-toggleable__content {\n",
       "  /* Expand drop-down */\n",
       "  max-height: 200px;\n",
       "  max-width: 100%;\n",
       "  overflow: auto;\n",
       "}\n",
       "\n",
       "#sk-container-id-10 input.sk-toggleable__control:checked~label.sk-toggleable__label-arrow:before {\n",
       "  content: \"▾\";\n",
       "}\n",
       "\n",
       "/* Pipeline/ColumnTransformer-specific style */\n",
       "\n",
       "#sk-container-id-10 div.sk-label input.sk-toggleable__control:checked~label.sk-toggleable__label {\n",
       "  color: var(--sklearn-color-text);\n",
       "  background-color: var(--sklearn-color-unfitted-level-2);\n",
       "}\n",
       "\n",
       "#sk-container-id-10 div.sk-label.fitted input.sk-toggleable__control:checked~label.sk-toggleable__label {\n",
       "  background-color: var(--sklearn-color-fitted-level-2);\n",
       "}\n",
       "\n",
       "/* Estimator-specific style */\n",
       "\n",
       "/* Colorize estimator box */\n",
       "#sk-container-id-10 div.sk-estimator input.sk-toggleable__control:checked~label.sk-toggleable__label {\n",
       "  /* unfitted */\n",
       "  background-color: var(--sklearn-color-unfitted-level-2);\n",
       "}\n",
       "\n",
       "#sk-container-id-10 div.sk-estimator.fitted input.sk-toggleable__control:checked~label.sk-toggleable__label {\n",
       "  /* fitted */\n",
       "  background-color: var(--sklearn-color-fitted-level-2);\n",
       "}\n",
       "\n",
       "#sk-container-id-10 div.sk-label label.sk-toggleable__label,\n",
       "#sk-container-id-10 div.sk-label label {\n",
       "  /* The background is the default theme color */\n",
       "  color: var(--sklearn-color-text-on-default-background);\n",
       "}\n",
       "\n",
       "/* On hover, darken the color of the background */\n",
       "#sk-container-id-10 div.sk-label:hover label.sk-toggleable__label {\n",
       "  color: var(--sklearn-color-text);\n",
       "  background-color: var(--sklearn-color-unfitted-level-2);\n",
       "}\n",
       "\n",
       "/* Label box, darken color on hover, fitted */\n",
       "#sk-container-id-10 div.sk-label.fitted:hover label.sk-toggleable__label.fitted {\n",
       "  color: var(--sklearn-color-text);\n",
       "  background-color: var(--sklearn-color-fitted-level-2);\n",
       "}\n",
       "\n",
       "/* Estimator label */\n",
       "\n",
       "#sk-container-id-10 div.sk-label label {\n",
       "  font-family: monospace;\n",
       "  font-weight: bold;\n",
       "  display: inline-block;\n",
       "  line-height: 1.2em;\n",
       "}\n",
       "\n",
       "#sk-container-id-10 div.sk-label-container {\n",
       "  text-align: center;\n",
       "}\n",
       "\n",
       "/* Estimator-specific */\n",
       "#sk-container-id-10 div.sk-estimator {\n",
       "  font-family: monospace;\n",
       "  border: 1px dotted var(--sklearn-color-border-box);\n",
       "  border-radius: 0.25em;\n",
       "  box-sizing: border-box;\n",
       "  margin-bottom: 0.5em;\n",
       "  /* unfitted */\n",
       "  background-color: var(--sklearn-color-unfitted-level-0);\n",
       "}\n",
       "\n",
       "#sk-container-id-10 div.sk-estimator.fitted {\n",
       "  /* fitted */\n",
       "  background-color: var(--sklearn-color-fitted-level-0);\n",
       "}\n",
       "\n",
       "/* on hover */\n",
       "#sk-container-id-10 div.sk-estimator:hover {\n",
       "  /* unfitted */\n",
       "  background-color: var(--sklearn-color-unfitted-level-2);\n",
       "}\n",
       "\n",
       "#sk-container-id-10 div.sk-estimator.fitted:hover {\n",
       "  /* fitted */\n",
       "  background-color: var(--sklearn-color-fitted-level-2);\n",
       "}\n",
       "\n",
       "/* Specification for estimator info (e.g. \"i\" and \"?\") */\n",
       "\n",
       "/* Common style for \"i\" and \"?\" */\n",
       "\n",
       ".sk-estimator-doc-link,\n",
       "a:link.sk-estimator-doc-link,\n",
       "a:visited.sk-estimator-doc-link {\n",
       "  float: right;\n",
       "  font-size: smaller;\n",
       "  line-height: 1em;\n",
       "  font-family: monospace;\n",
       "  background-color: var(--sklearn-color-background);\n",
       "  border-radius: 1em;\n",
       "  height: 1em;\n",
       "  width: 1em;\n",
       "  text-decoration: none !important;\n",
       "  margin-left: 1ex;\n",
       "  /* unfitted */\n",
       "  border: var(--sklearn-color-unfitted-level-1) 1pt solid;\n",
       "  color: var(--sklearn-color-unfitted-level-1);\n",
       "}\n",
       "\n",
       ".sk-estimator-doc-link.fitted,\n",
       "a:link.sk-estimator-doc-link.fitted,\n",
       "a:visited.sk-estimator-doc-link.fitted {\n",
       "  /* fitted */\n",
       "  border: var(--sklearn-color-fitted-level-1) 1pt solid;\n",
       "  color: var(--sklearn-color-fitted-level-1);\n",
       "}\n",
       "\n",
       "/* On hover */\n",
       "div.sk-estimator:hover .sk-estimator-doc-link:hover,\n",
       ".sk-estimator-doc-link:hover,\n",
       "div.sk-label-container:hover .sk-estimator-doc-link:hover,\n",
       ".sk-estimator-doc-link:hover {\n",
       "  /* unfitted */\n",
       "  background-color: var(--sklearn-color-unfitted-level-3);\n",
       "  color: var(--sklearn-color-background);\n",
       "  text-decoration: none;\n",
       "}\n",
       "\n",
       "div.sk-estimator.fitted:hover .sk-estimator-doc-link.fitted:hover,\n",
       ".sk-estimator-doc-link.fitted:hover,\n",
       "div.sk-label-container:hover .sk-estimator-doc-link.fitted:hover,\n",
       ".sk-estimator-doc-link.fitted:hover {\n",
       "  /* fitted */\n",
       "  background-color: var(--sklearn-color-fitted-level-3);\n",
       "  color: var(--sklearn-color-background);\n",
       "  text-decoration: none;\n",
       "}\n",
       "\n",
       "/* Span, style for the box shown on hovering the info icon */\n",
       ".sk-estimator-doc-link span {\n",
       "  display: none;\n",
       "  z-index: 9999;\n",
       "  position: relative;\n",
       "  font-weight: normal;\n",
       "  right: .2ex;\n",
       "  padding: .5ex;\n",
       "  margin: .5ex;\n",
       "  width: min-content;\n",
       "  min-width: 20ex;\n",
       "  max-width: 50ex;\n",
       "  color: var(--sklearn-color-text);\n",
       "  box-shadow: 2pt 2pt 4pt #999;\n",
       "  /* unfitted */\n",
       "  background: var(--sklearn-color-unfitted-level-0);\n",
       "  border: .5pt solid var(--sklearn-color-unfitted-level-3);\n",
       "}\n",
       "\n",
       ".sk-estimator-doc-link.fitted span {\n",
       "  /* fitted */\n",
       "  background: var(--sklearn-color-fitted-level-0);\n",
       "  border: var(--sklearn-color-fitted-level-3);\n",
       "}\n",
       "\n",
       ".sk-estimator-doc-link:hover span {\n",
       "  display: block;\n",
       "}\n",
       "\n",
       "/* \"?\"-specific style due to the `<a>` HTML tag */\n",
       "\n",
       "#sk-container-id-10 a.estimator_doc_link {\n",
       "  float: right;\n",
       "  font-size: 1rem;\n",
       "  line-height: 1em;\n",
       "  font-family: monospace;\n",
       "  background-color: var(--sklearn-color-background);\n",
       "  border-radius: 1rem;\n",
       "  height: 1rem;\n",
       "  width: 1rem;\n",
       "  text-decoration: none;\n",
       "  /* unfitted */\n",
       "  color: var(--sklearn-color-unfitted-level-1);\n",
       "  border: var(--sklearn-color-unfitted-level-1) 1pt solid;\n",
       "}\n",
       "\n",
       "#sk-container-id-10 a.estimator_doc_link.fitted {\n",
       "  /* fitted */\n",
       "  border: var(--sklearn-color-fitted-level-1) 1pt solid;\n",
       "  color: var(--sklearn-color-fitted-level-1);\n",
       "}\n",
       "\n",
       "/* On hover */\n",
       "#sk-container-id-10 a.estimator_doc_link:hover {\n",
       "  /* unfitted */\n",
       "  background-color: var(--sklearn-color-unfitted-level-3);\n",
       "  color: var(--sklearn-color-background);\n",
       "  text-decoration: none;\n",
       "}\n",
       "\n",
       "#sk-container-id-10 a.estimator_doc_link.fitted:hover {\n",
       "  /* fitted */\n",
       "  background-color: var(--sklearn-color-fitted-level-3);\n",
       "}\n",
       "</style><div id=\"sk-container-id-10\" class=\"sk-top-container\"><div class=\"sk-text-repr-fallback\"><pre>Ridge(alpha=1)</pre><b>In a Jupyter environment, please rerun this cell to show the HTML representation or trust the notebook. <br />On GitHub, the HTML representation is unable to render, please try loading this page with nbviewer.org.</b></div><div class=\"sk-container\" hidden><div class=\"sk-item\"><div class=\"sk-estimator fitted sk-toggleable\"><input class=\"sk-toggleable__control sk-hidden--visually\" id=\"sk-estimator-id-16\" type=\"checkbox\" checked><label for=\"sk-estimator-id-16\" class=\"sk-toggleable__label fitted sk-toggleable__label-arrow fitted\">&nbsp;&nbsp;Ridge<a class=\"sk-estimator-doc-link fitted\" rel=\"noreferrer\" target=\"_blank\" href=\"https://scikit-learn.org/1.5/modules/generated/sklearn.linear_model.Ridge.html\">?<span>Documentation for Ridge</span></a><span class=\"sk-estimator-doc-link fitted\">i<span>Fitted</span></span></label><div class=\"sk-toggleable__content fitted\"><pre>Ridge(alpha=1)</pre></div> </div></div></div></div>"
      ],
      "text/plain": [
       "Ridge(alpha=1)"
      ]
     },
     "execution_count": 488,
     "metadata": {},
     "output_type": "execute_result"
    }
   ],
   "source": [
    "grid.best_estimator_"
   ]
  },
  {
   "cell_type": "code",
   "execution_count": 494,
   "id": "631947b2",
   "metadata": {},
   "outputs": [],
   "source": [
    "predict=grid.predict(scaler.fit_transform(xtest))"
   ]
  },
  {
   "cell_type": "code",
   "execution_count": 489,
   "id": "4096ffe4",
   "metadata": {},
   "outputs": [
    {
     "data": {
      "text/plain": [
       "0.8898301373509437"
      ]
     },
     "execution_count": 489,
     "metadata": {},
     "output_type": "execute_result"
    }
   ],
   "source": [
    "grid.score(scaler.fit_transform(xtest),ytest)"
   ]
  },
  {
   "cell_type": "markdown",
   "id": "c2f86044",
   "metadata": {},
   "source": [
    "## Compare Models"
   ]
  },
  {
   "cell_type": "code",
   "execution_count": 490,
   "id": "1fc4b7e0",
   "metadata": {},
   "outputs": [],
   "source": [
    "from sklearn.metrics import mean_squared_error"
   ]
  },
  {
   "cell_type": "code",
   "execution_count": 504,
   "id": "a1d4b85d",
   "metadata": {},
   "outputs": [
    {
     "name": "stdout",
     "output_type": "stream",
     "text": [
      "MSE : 407.7 , R2 value : 0.92\n"
     ]
    }
   ],
   "source": [
    "# For regression Model \n",
    "print(f'MSE : {round(mean_squared_error(yhat,ytest),2)} , R2 value : {round(lr.score(xtest,ytest),2)}')"
   ]
  },
  {
   "cell_type": "code",
   "execution_count": 505,
   "id": "22b03e17",
   "metadata": {},
   "outputs": [
    {
     "name": "stdout",
     "output_type": "stream",
     "text": [
      "MSE : 562.17 , R2 value : 0.89\n"
     ]
    }
   ],
   "source": [
    "# For Ridge Model\n",
    "print(f'MSE : {round(mean_squared_error(ytest,predict),2)} , R2 value : {round(grid.score(scaler.fit_transform(xtest),ytest),2)}')"
   ]
  }
 ],
 "metadata": {
  "kernelspec": {
   "display_name": "base",
   "language": "python",
   "name": "python3"
  },
  "language_info": {
   "codemirror_mode": {
    "name": "ipython",
    "version": 3
   },
   "file_extension": ".py",
   "mimetype": "text/x-python",
   "name": "python",
   "nbconvert_exporter": "python",
   "pygments_lexer": "ipython3",
   "version": "3.12.7"
  }
 },
 "nbformat": 4,
 "nbformat_minor": 5
}
