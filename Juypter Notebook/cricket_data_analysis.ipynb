{
 "cells": [
  {
   "cell_type": "markdown",
   "id": "82e68f4a",
   "metadata": {},
   "source": [
    "# Lets Data hit SIX"
   ]
  },
  {
   "cell_type": "markdown",
   "id": "37f1083d",
   "metadata": {},
   "source": [
    "Working on different data sets to analyse and predict how cricket player will perform in a given match"
   ]
  },
  {
   "cell_type": "markdown",
   "id": "01be14a5",
   "metadata": {},
   "source": [
    "### Step 1 : Data Loading and Understanding"
   ]
  },
  {
   "cell_type": "code",
   "execution_count": 2,
   "id": "e53b3d91",
   "metadata": {},
   "outputs": [],
   "source": [
    "import pandas as pd\n",
    "import numpy as np"
   ]
  },
  {
   "cell_type": "code",
   "execution_count": 3,
   "id": "16b6fab8",
   "metadata": {},
   "outputs": [],
   "source": [
    "batting_data=pd.read_csv('D:\\\\Cricket Data Analysis\\\\Data\\\\fact_bating_summary.csv')\n",
    "bowling_data=pd.read_csv('D:\\\\Cricket Data Analysis\\\\Data\\\\fact_bowling_summary.csv')\n",
    "match_data=pd.read_csv('D:\\\\Cricket Data Analysis\\\\Data\\\\dim_match_summary.csv')\n",
    "player_info=pd.read_csv('D:\\\\Cricket Data Analysis\\\\Data\\\\dim_players.csv')\n"
   ]
  },
  {
   "cell_type": "code",
   "execution_count": 4,
   "id": "91201992",
   "metadata": {},
   "outputs": [
    {
     "data": {
      "text/html": [
       "<div>\n",
       "<style scoped>\n",
       "    .dataframe tbody tr th:only-of-type {\n",
       "        vertical-align: middle;\n",
       "    }\n",
       "\n",
       "    .dataframe tbody tr th {\n",
       "        vertical-align: top;\n",
       "    }\n",
       "\n",
       "    .dataframe thead th {\n",
       "        text-align: right;\n",
       "    }\n",
       "</style>\n",
       "<table border=\"1\" class=\"dataframe\">\n",
       "  <thead>\n",
       "    <tr style=\"text-align: right;\">\n",
       "      <th></th>\n",
       "      <th>match</th>\n",
       "      <th>teamInnings</th>\n",
       "      <th>battingPos</th>\n",
       "      <th>batsmanName</th>\n",
       "      <th>runs</th>\n",
       "      <th>balls</th>\n",
       "      <th>4s</th>\n",
       "      <th>6s</th>\n",
       "      <th>SR</th>\n",
       "      <th>out/not_out</th>\n",
       "      <th>match_id</th>\n",
       "    </tr>\n",
       "  </thead>\n",
       "  <tbody>\n",
       "    <tr>\n",
       "      <th>0</th>\n",
       "      <td>Namibia Vs Sri Lanka</td>\n",
       "      <td>Namibia</td>\n",
       "      <td>1</td>\n",
       "      <td>Michael van Lingen</td>\n",
       "      <td>3</td>\n",
       "      <td>6</td>\n",
       "      <td>0</td>\n",
       "      <td>0</td>\n",
       "      <td>50.00</td>\n",
       "      <td>out</td>\n",
       "      <td>T20I # 1823</td>\n",
       "    </tr>\n",
       "    <tr>\n",
       "      <th>1</th>\n",
       "      <td>Namibia Vs Sri Lanka</td>\n",
       "      <td>Namibia</td>\n",
       "      <td>2</td>\n",
       "      <td>Divan la Cock</td>\n",
       "      <td>9</td>\n",
       "      <td>9</td>\n",
       "      <td>1</td>\n",
       "      <td>0</td>\n",
       "      <td>100.00</td>\n",
       "      <td>out</td>\n",
       "      <td>T20I # 1823</td>\n",
       "    </tr>\n",
       "    <tr>\n",
       "      <th>2</th>\n",
       "      <td>Namibia Vs Sri Lanka</td>\n",
       "      <td>Namibia</td>\n",
       "      <td>3</td>\n",
       "      <td>Jan Nicol Loftie-Eaton</td>\n",
       "      <td>20</td>\n",
       "      <td>12</td>\n",
       "      <td>1</td>\n",
       "      <td>2</td>\n",
       "      <td>166.66</td>\n",
       "      <td>out</td>\n",
       "      <td>T20I # 1823</td>\n",
       "    </tr>\n",
       "    <tr>\n",
       "      <th>3</th>\n",
       "      <td>Namibia Vs Sri Lanka</td>\n",
       "      <td>Namibia</td>\n",
       "      <td>4</td>\n",
       "      <td>Stephan Baard</td>\n",
       "      <td>26</td>\n",
       "      <td>24</td>\n",
       "      <td>2</td>\n",
       "      <td>0</td>\n",
       "      <td>108.33</td>\n",
       "      <td>out</td>\n",
       "      <td>T20I # 1823</td>\n",
       "    </tr>\n",
       "    <tr>\n",
       "      <th>4</th>\n",
       "      <td>Namibia Vs Sri Lanka</td>\n",
       "      <td>Namibia</td>\n",
       "      <td>5</td>\n",
       "      <td>Gerhard Erasmus(c)</td>\n",
       "      <td>20</td>\n",
       "      <td>24</td>\n",
       "      <td>0</td>\n",
       "      <td>0</td>\n",
       "      <td>83.33</td>\n",
       "      <td>out</td>\n",
       "      <td>T20I # 1823</td>\n",
       "    </tr>\n",
       "  </tbody>\n",
       "</table>\n",
       "</div>"
      ],
      "text/plain": [
       "                  match teamInnings  battingPos             batsmanName  runs  \\\n",
       "0  Namibia Vs Sri Lanka     Namibia           1      Michael van Lingen     3   \n",
       "1  Namibia Vs Sri Lanka     Namibia           2           Divan la Cock     9   \n",
       "2  Namibia Vs Sri Lanka     Namibia           3  Jan Nicol Loftie-Eaton    20   \n",
       "3  Namibia Vs Sri Lanka     Namibia           4           Stephan Baard    26   \n",
       "4  Namibia Vs Sri Lanka     Namibia           5      Gerhard Erasmus(c)    20   \n",
       "\n",
       "   balls  4s  6s      SR out/not_out     match_id  \n",
       "0      6   0   0   50.00         out  T20I # 1823  \n",
       "1      9   1   0  100.00         out  T20I # 1823  \n",
       "2     12   1   2  166.66         out  T20I # 1823  \n",
       "3     24   2   0  108.33         out  T20I # 1823  \n",
       "4     24   0   0   83.33         out  T20I # 1823  "
      ]
     },
     "execution_count": 4,
     "metadata": {},
     "output_type": "execute_result"
    }
   ],
   "source": [
    "# Batting Data\n",
    "batting_data.head()"
   ]
  },
  {
   "cell_type": "code",
   "execution_count": 5,
   "id": "69def32e",
   "metadata": {},
   "outputs": [
    {
     "data": {
      "text/plain": [
       "match          object\n",
       "teamInnings    object\n",
       "battingPos      int64\n",
       "batsmanName    object\n",
       "runs            int64\n",
       "balls           int64\n",
       "4s              int64\n",
       "6s              int64\n",
       "SR             object\n",
       "out/not_out    object\n",
       "match_id       object\n",
       "dtype: object"
      ]
     },
     "execution_count": 5,
     "metadata": {},
     "output_type": "execute_result"
    }
   ],
   "source": [
    "batting_data.dtypes"
   ]
  },
  {
   "cell_type": "code",
   "execution_count": 6,
   "id": "42b708a4",
   "metadata": {},
   "outputs": [],
   "source": [
    "batting_data['SR']=batting_data['SR'].replace('-',0)"
   ]
  },
  {
   "cell_type": "code",
   "execution_count": 7,
   "id": "ebde34ff",
   "metadata": {},
   "outputs": [],
   "source": [
    "def handle(value):\n",
    "    return float(value.replace('',np.NaN).strip())"
   ]
  },
  {
   "cell_type": "code",
   "execution_count": 8,
   "id": "cee1c479",
   "metadata": {},
   "outputs": [],
   "source": [
    "batting_data['SR']=batting_data['SR'].astype(float)"
   ]
  },
  {
   "cell_type": "code",
   "execution_count": 9,
   "id": "e3a6be11",
   "metadata": {},
   "outputs": [
    {
     "data": {
      "text/plain": [
       "(699, 11)"
      ]
     },
     "execution_count": 9,
     "metadata": {},
     "output_type": "execute_result"
    }
   ],
   "source": [
    "batting_data.shape"
   ]
  },
  {
   "cell_type": "code",
   "execution_count": 10,
   "id": "47521139",
   "metadata": {},
   "outputs": [
    {
     "data": {
      "text/plain": [
       "match          0\n",
       "teamInnings    0\n",
       "battingPos     0\n",
       "batsmanName    0\n",
       "runs           0\n",
       "balls          0\n",
       "4s             0\n",
       "6s             0\n",
       "SR             0\n",
       "out/not_out    0\n",
       "match_id       0\n",
       "dtype: int64"
      ]
     },
     "execution_count": 10,
     "metadata": {},
     "output_type": "execute_result"
    }
   ],
   "source": [
    "batting_data.isna().sum()"
   ]
  },
  {
   "cell_type": "code",
   "execution_count": 11,
   "id": "1a5bb727",
   "metadata": {},
   "outputs": [],
   "source": [
    "# Bowling Data"
   ]
  },
  {
   "cell_type": "code",
   "execution_count": 12,
   "id": "c927d8c9",
   "metadata": {},
   "outputs": [
    {
     "data": {
      "text/html": [
       "<div>\n",
       "<style scoped>\n",
       "    .dataframe tbody tr th:only-of-type {\n",
       "        vertical-align: middle;\n",
       "    }\n",
       "\n",
       "    .dataframe tbody tr th {\n",
       "        vertical-align: top;\n",
       "    }\n",
       "\n",
       "    .dataframe thead th {\n",
       "        text-align: right;\n",
       "    }\n",
       "</style>\n",
       "<table border=\"1\" class=\"dataframe\">\n",
       "  <thead>\n",
       "    <tr style=\"text-align: right;\">\n",
       "      <th></th>\n",
       "      <th>match</th>\n",
       "      <th>bowlingTeam</th>\n",
       "      <th>bowlerName</th>\n",
       "      <th>overs</th>\n",
       "      <th>maiden</th>\n",
       "      <th>runs</th>\n",
       "      <th>wickets</th>\n",
       "      <th>economy</th>\n",
       "      <th>0s</th>\n",
       "      <th>4s</th>\n",
       "      <th>6s</th>\n",
       "      <th>wides</th>\n",
       "      <th>noBalls</th>\n",
       "      <th>match_id</th>\n",
       "    </tr>\n",
       "  </thead>\n",
       "  <tbody>\n",
       "    <tr>\n",
       "      <th>0</th>\n",
       "      <td>Namibia Vs Sri Lanka</td>\n",
       "      <td>Sri Lanka</td>\n",
       "      <td>Maheesh Theekshana</td>\n",
       "      <td>4.0</td>\n",
       "      <td>0</td>\n",
       "      <td>23</td>\n",
       "      <td>1</td>\n",
       "      <td>5.75</td>\n",
       "      <td>7</td>\n",
       "      <td>0</td>\n",
       "      <td>0</td>\n",
       "      <td>2</td>\n",
       "      <td>0</td>\n",
       "      <td>T20I # 1823</td>\n",
       "    </tr>\n",
       "    <tr>\n",
       "      <th>1</th>\n",
       "      <td>Namibia Vs Sri Lanka</td>\n",
       "      <td>Sri Lanka</td>\n",
       "      <td>Dushmantha Chameera</td>\n",
       "      <td>4.0</td>\n",
       "      <td>0</td>\n",
       "      <td>39</td>\n",
       "      <td>1</td>\n",
       "      <td>9.75</td>\n",
       "      <td>6</td>\n",
       "      <td>3</td>\n",
       "      <td>1</td>\n",
       "      <td>2</td>\n",
       "      <td>0</td>\n",
       "      <td>T20I # 1823</td>\n",
       "    </tr>\n",
       "    <tr>\n",
       "      <th>2</th>\n",
       "      <td>Namibia Vs Sri Lanka</td>\n",
       "      <td>Sri Lanka</td>\n",
       "      <td>Pramod Madushan</td>\n",
       "      <td>4.0</td>\n",
       "      <td>0</td>\n",
       "      <td>37</td>\n",
       "      <td>2</td>\n",
       "      <td>9.25</td>\n",
       "      <td>6</td>\n",
       "      <td>3</td>\n",
       "      <td>1</td>\n",
       "      <td>0</td>\n",
       "      <td>0</td>\n",
       "      <td>T20I # 1823</td>\n",
       "    </tr>\n",
       "    <tr>\n",
       "      <th>3</th>\n",
       "      <td>Namibia Vs Sri Lanka</td>\n",
       "      <td>Sri Lanka</td>\n",
       "      <td>Chamika Karunaratne</td>\n",
       "      <td>4.0</td>\n",
       "      <td>0</td>\n",
       "      <td>36</td>\n",
       "      <td>1</td>\n",
       "      <td>9.00</td>\n",
       "      <td>7</td>\n",
       "      <td>3</td>\n",
       "      <td>1</td>\n",
       "      <td>1</td>\n",
       "      <td>0</td>\n",
       "      <td>T20I # 1823</td>\n",
       "    </tr>\n",
       "    <tr>\n",
       "      <th>4</th>\n",
       "      <td>Namibia Vs Sri Lanka</td>\n",
       "      <td>Sri Lanka</td>\n",
       "      <td>Wanindu Hasaranga de Silva</td>\n",
       "      <td>4.0</td>\n",
       "      <td>0</td>\n",
       "      <td>27</td>\n",
       "      <td>1</td>\n",
       "      <td>6.75</td>\n",
       "      <td>8</td>\n",
       "      <td>1</td>\n",
       "      <td>1</td>\n",
       "      <td>0</td>\n",
       "      <td>0</td>\n",
       "      <td>T20I # 1823</td>\n",
       "    </tr>\n",
       "  </tbody>\n",
       "</table>\n",
       "</div>"
      ],
      "text/plain": [
       "                  match bowlingTeam                  bowlerName  overs  \\\n",
       "0  Namibia Vs Sri Lanka   Sri Lanka          Maheesh Theekshana    4.0   \n",
       "1  Namibia Vs Sri Lanka   Sri Lanka         Dushmantha Chameera    4.0   \n",
       "2  Namibia Vs Sri Lanka   Sri Lanka             Pramod Madushan    4.0   \n",
       "3  Namibia Vs Sri Lanka   Sri Lanka         Chamika Karunaratne    4.0   \n",
       "4  Namibia Vs Sri Lanka   Sri Lanka  Wanindu Hasaranga de Silva    4.0   \n",
       "\n",
       "   maiden  runs  wickets  economy  0s  4s  6s  wides  noBalls     match_id  \n",
       "0       0    23        1     5.75   7   0   0      2        0  T20I # 1823  \n",
       "1       0    39        1     9.75   6   3   1      2        0  T20I # 1823  \n",
       "2       0    37        2     9.25   6   3   1      0        0  T20I # 1823  \n",
       "3       0    36        1     9.00   7   3   1      1        0  T20I # 1823  \n",
       "4       0    27        1     6.75   8   1   1      0        0  T20I # 1823  "
      ]
     },
     "execution_count": 12,
     "metadata": {},
     "output_type": "execute_result"
    }
   ],
   "source": [
    "bowling_data.head()"
   ]
  },
  {
   "cell_type": "code",
   "execution_count": 13,
   "id": "025cb1e9",
   "metadata": {},
   "outputs": [
    {
     "data": {
      "text/plain": [
       "match           object\n",
       "bowlingTeam     object\n",
       "bowlerName      object\n",
       "overs          float64\n",
       "maiden           int64\n",
       "runs             int64\n",
       "wickets          int64\n",
       "economy        float64\n",
       "0s               int64\n",
       "4s               int64\n",
       "6s               int64\n",
       "wides            int64\n",
       "noBalls          int64\n",
       "match_id        object\n",
       "dtype: object"
      ]
     },
     "execution_count": 13,
     "metadata": {},
     "output_type": "execute_result"
    }
   ],
   "source": [
    "bowling_data.dtypes"
   ]
  },
  {
   "cell_type": "code",
   "execution_count": 14,
   "id": "9076a98f",
   "metadata": {},
   "outputs": [
    {
     "data": {
      "text/plain": [
       "(500, 14)"
      ]
     },
     "execution_count": 14,
     "metadata": {},
     "output_type": "execute_result"
    }
   ],
   "source": [
    "bowling_data.shape"
   ]
  },
  {
   "cell_type": "code",
   "execution_count": 15,
   "id": "eedb71ac",
   "metadata": {},
   "outputs": [],
   "source": [
    "# Match Data \n"
   ]
  },
  {
   "cell_type": "code",
   "execution_count": 16,
   "id": "5c004a0d",
   "metadata": {},
   "outputs": [
    {
     "data": {
      "text/html": [
       "<div>\n",
       "<style scoped>\n",
       "    .dataframe tbody tr th:only-of-type {\n",
       "        vertical-align: middle;\n",
       "    }\n",
       "\n",
       "    .dataframe tbody tr th {\n",
       "        vertical-align: top;\n",
       "    }\n",
       "\n",
       "    .dataframe thead th {\n",
       "        text-align: right;\n",
       "    }\n",
       "</style>\n",
       "<table border=\"1\" class=\"dataframe\">\n",
       "  <thead>\n",
       "    <tr style=\"text-align: right;\">\n",
       "      <th></th>\n",
       "      <th>team1</th>\n",
       "      <th>team2</th>\n",
       "      <th>winner</th>\n",
       "      <th>margin</th>\n",
       "      <th>ground</th>\n",
       "      <th>matchDate</th>\n",
       "      <th>match_id</th>\n",
       "    </tr>\n",
       "  </thead>\n",
       "  <tbody>\n",
       "    <tr>\n",
       "      <th>0</th>\n",
       "      <td>Namibia</td>\n",
       "      <td>Sri Lanka</td>\n",
       "      <td>Namibia</td>\n",
       "      <td>55 runs</td>\n",
       "      <td>Geelong</td>\n",
       "      <td>Oct 16, 2022</td>\n",
       "      <td>T20I # 1823</td>\n",
       "    </tr>\n",
       "    <tr>\n",
       "      <th>1</th>\n",
       "      <td>Netherlands</td>\n",
       "      <td>U.A.E.</td>\n",
       "      <td>Netherlands</td>\n",
       "      <td>3 wickets</td>\n",
       "      <td>Geelong</td>\n",
       "      <td>Oct 16, 2022</td>\n",
       "      <td>T20I # 1825</td>\n",
       "    </tr>\n",
       "    <tr>\n",
       "      <th>2</th>\n",
       "      <td>Scotland</td>\n",
       "      <td>West Indies</td>\n",
       "      <td>Scotland</td>\n",
       "      <td>42 runs</td>\n",
       "      <td>Hobart</td>\n",
       "      <td>Oct 17, 2022</td>\n",
       "      <td>T20I # 1826</td>\n",
       "    </tr>\n",
       "    <tr>\n",
       "      <th>3</th>\n",
       "      <td>Ireland</td>\n",
       "      <td>Zimbabwe</td>\n",
       "      <td>Zimbabwe</td>\n",
       "      <td>31 runs</td>\n",
       "      <td>Hobart</td>\n",
       "      <td>Oct 17, 2022</td>\n",
       "      <td>T20I # 1828</td>\n",
       "    </tr>\n",
       "    <tr>\n",
       "      <th>4</th>\n",
       "      <td>Namibia</td>\n",
       "      <td>Netherlands</td>\n",
       "      <td>Netherlands</td>\n",
       "      <td>5 wickets</td>\n",
       "      <td>Geelong</td>\n",
       "      <td>Oct 18, 2022</td>\n",
       "      <td>T20I # 1830</td>\n",
       "    </tr>\n",
       "  </tbody>\n",
       "</table>\n",
       "</div>"
      ],
      "text/plain": [
       "         team1        team2       winner     margin   ground     matchDate  \\\n",
       "0      Namibia    Sri Lanka      Namibia    55 runs  Geelong  Oct 16, 2022   \n",
       "1  Netherlands       U.A.E.  Netherlands  3 wickets  Geelong  Oct 16, 2022   \n",
       "2     Scotland  West Indies     Scotland    42 runs   Hobart  Oct 17, 2022   \n",
       "3      Ireland     Zimbabwe     Zimbabwe    31 runs   Hobart  Oct 17, 2022   \n",
       "4      Namibia  Netherlands  Netherlands  5 wickets  Geelong  Oct 18, 2022   \n",
       "\n",
       "      match_id  \n",
       "0  T20I # 1823  \n",
       "1  T20I # 1825  \n",
       "2  T20I # 1826  \n",
       "3  T20I # 1828  \n",
       "4  T20I # 1830  "
      ]
     },
     "execution_count": 16,
     "metadata": {},
     "output_type": "execute_result"
    }
   ],
   "source": [
    "match_data.head()"
   ]
  },
  {
   "cell_type": "code",
   "execution_count": 17,
   "id": "e39c6508",
   "metadata": {},
   "outputs": [
    {
     "data": {
      "text/plain": [
       "team1        object\n",
       "team2        object\n",
       "winner       object\n",
       "margin       object\n",
       "ground       object\n",
       "matchDate    object\n",
       "match_id     object\n",
       "dtype: object"
      ]
     },
     "execution_count": 17,
     "metadata": {},
     "output_type": "execute_result"
    }
   ],
   "source": [
    "match_data.dtypes"
   ]
  },
  {
   "cell_type": "code",
   "execution_count": 18,
   "id": "926116af",
   "metadata": {},
   "outputs": [
    {
     "data": {
      "text/plain": [
       "(45, 7)"
      ]
     },
     "execution_count": 18,
     "metadata": {},
     "output_type": "execute_result"
    }
   ],
   "source": [
    "match_data.shape"
   ]
  },
  {
   "cell_type": "code",
   "execution_count": 19,
   "id": "34fd7667",
   "metadata": {},
   "outputs": [
    {
     "data": {
      "text/plain": [
       "team1        0\n",
       "team2        0\n",
       "winner       0\n",
       "margin       4\n",
       "ground       0\n",
       "matchDate    0\n",
       "match_id     0\n",
       "dtype: int64"
      ]
     },
     "execution_count": 19,
     "metadata": {},
     "output_type": "execute_result"
    }
   ],
   "source": [
    "match_data.isna().sum()"
   ]
  },
  {
   "cell_type": "code",
   "execution_count": 20,
   "id": "92e8e0d1",
   "metadata": {},
   "outputs": [],
   "source": [
    "match_data['margin']=match_data['margin'].fillna('Not_Available')"
   ]
  },
  {
   "cell_type": "code",
   "execution_count": 21,
   "id": "d375d0a8",
   "metadata": {},
   "outputs": [],
   "source": [
    "# Player info"
   ]
  },
  {
   "cell_type": "code",
   "execution_count": 22,
   "id": "cf82dda9",
   "metadata": {},
   "outputs": [
    {
     "data": {
      "text/html": [
       "<div>\n",
       "<style scoped>\n",
       "    .dataframe tbody tr th:only-of-type {\n",
       "        vertical-align: middle;\n",
       "    }\n",
       "\n",
       "    .dataframe tbody tr th {\n",
       "        vertical-align: top;\n",
       "    }\n",
       "\n",
       "    .dataframe thead th {\n",
       "        text-align: right;\n",
       "    }\n",
       "</style>\n",
       "<table border=\"1\" class=\"dataframe\">\n",
       "  <thead>\n",
       "    <tr style=\"text-align: right;\">\n",
       "      <th></th>\n",
       "      <th>name</th>\n",
       "      <th>team</th>\n",
       "      <th>image</th>\n",
       "      <th>battingStyle</th>\n",
       "      <th>bowlingStyle</th>\n",
       "      <th>playingRole</th>\n",
       "      <th>description</th>\n",
       "    </tr>\n",
       "  </thead>\n",
       "  <tbody>\n",
       "    <tr>\n",
       "      <th>0</th>\n",
       "      <td>Najmul Hossain Shanto</td>\n",
       "      <td>Bangladesh</td>\n",
       "      <td>NaN</td>\n",
       "      <td>Left hand Bat</td>\n",
       "      <td>Right arm Offbreak</td>\n",
       "      <td>Top order Batter</td>\n",
       "      <td>Nazmul Hossain Shanto emerged from an unusual ...</td>\n",
       "    </tr>\n",
       "    <tr>\n",
       "      <th>1</th>\n",
       "      <td>Soumya Sarkar</td>\n",
       "      <td>Bangladesh</td>\n",
       "      <td>NaN</td>\n",
       "      <td>Left hand Bat</td>\n",
       "      <td>Right arm Medium fast</td>\n",
       "      <td>Middle order Batter</td>\n",
       "      <td>A rarity among Bangladesh allrounders, top-ord...</td>\n",
       "    </tr>\n",
       "    <tr>\n",
       "      <th>2</th>\n",
       "      <td>Litton Das</td>\n",
       "      <td>Bangladesh</td>\n",
       "      <td>NaN</td>\n",
       "      <td>Right hand Bat</td>\n",
       "      <td>NaN</td>\n",
       "      <td>Wicketkeeper Batter</td>\n",
       "      <td>Liton Das is the first wicketkeeper-batsman in...</td>\n",
       "    </tr>\n",
       "    <tr>\n",
       "      <th>3</th>\n",
       "      <td>Shakib Al Hasan(c)</td>\n",
       "      <td>Bangladesh</td>\n",
       "      <td>NaN</td>\n",
       "      <td>Left hand Bat</td>\n",
       "      <td>Slow Left arm Orthodox</td>\n",
       "      <td>Allrounder</td>\n",
       "      <td>When the annals of Bangladesh cricket are sift...</td>\n",
       "    </tr>\n",
       "    <tr>\n",
       "      <th>4</th>\n",
       "      <td>Afif Hossain</td>\n",
       "      <td>Bangladesh</td>\n",
       "      <td>NaN</td>\n",
       "      <td>Left hand Bat</td>\n",
       "      <td>Right arm Offbreak</td>\n",
       "      <td>Allrounder</td>\n",
       "      <td>Bangladesh left-hander Afif Hossain made his T...</td>\n",
       "    </tr>\n",
       "  </tbody>\n",
       "</table>\n",
       "</div>"
      ],
      "text/plain": [
       "                    name        team image    battingStyle  \\\n",
       "0  Najmul Hossain Shanto  Bangladesh   NaN   Left hand Bat   \n",
       "1          Soumya Sarkar  Bangladesh   NaN   Left hand Bat   \n",
       "2             Litton Das  Bangladesh   NaN  Right hand Bat   \n",
       "3     Shakib Al Hasan(c)  Bangladesh   NaN   Left hand Bat   \n",
       "4           Afif Hossain  Bangladesh   NaN   Left hand Bat   \n",
       "\n",
       "             bowlingStyle          playingRole  \\\n",
       "0      Right arm Offbreak     Top order Batter   \n",
       "1   Right arm Medium fast  Middle order Batter   \n",
       "2                     NaN  Wicketkeeper Batter   \n",
       "3  Slow Left arm Orthodox           Allrounder   \n",
       "4      Right arm Offbreak           Allrounder   \n",
       "\n",
       "                                         description  \n",
       "0  Nazmul Hossain Shanto emerged from an unusual ...  \n",
       "1  A rarity among Bangladesh allrounders, top-ord...  \n",
       "2  Liton Das is the first wicketkeeper-batsman in...  \n",
       "3  When the annals of Bangladesh cricket are sift...  \n",
       "4  Bangladesh left-hander Afif Hossain made his T...  "
      ]
     },
     "execution_count": 22,
     "metadata": {},
     "output_type": "execute_result"
    }
   ],
   "source": [
    "player_info.head()"
   ]
  },
  {
   "cell_type": "code",
   "execution_count": 23,
   "id": "158fd1cf",
   "metadata": {},
   "outputs": [],
   "source": [
    "player_info.drop(columns=['image'],axis=1,inplace=True)"
   ]
  },
  {
   "cell_type": "code",
   "execution_count": 24,
   "id": "4970aa80",
   "metadata": {},
   "outputs": [
    {
     "data": {
      "text/plain": [
       "Index(['name', 'team', 'battingStyle', 'bowlingStyle', 'playingRole',\n",
       "       'description'],\n",
       "      dtype='object')"
      ]
     },
     "execution_count": 24,
     "metadata": {},
     "output_type": "execute_result"
    }
   ],
   "source": [
    "player_info.columns"
   ]
  },
  {
   "cell_type": "code",
   "execution_count": 25,
   "id": "f0d82c9a",
   "metadata": {},
   "outputs": [
    {
     "data": {
      "text/plain": [
       "name            object\n",
       "team            object\n",
       "battingStyle    object\n",
       "bowlingStyle    object\n",
       "playingRole     object\n",
       "description     object\n",
       "dtype: object"
      ]
     },
     "execution_count": 25,
     "metadata": {},
     "output_type": "execute_result"
    }
   ],
   "source": [
    "player_info.dtypes"
   ]
  },
  {
   "cell_type": "code",
   "execution_count": 26,
   "id": "7d1094c3",
   "metadata": {},
   "outputs": [
    {
     "data": {
      "text/plain": [
       "(219, 6)"
      ]
     },
     "execution_count": 26,
     "metadata": {},
     "output_type": "execute_result"
    }
   ],
   "source": [
    "player_info.shape"
   ]
  },
  {
   "cell_type": "markdown",
   "id": "15673d1a",
   "metadata": {},
   "source": [
    "## Step 2: Merge Data "
   ]
  },
  {
   "cell_type": "code",
   "execution_count": 27,
   "id": "4b1110ad",
   "metadata": {},
   "outputs": [],
   "source": [
    "merge_1=match_data.merge(batting_data,on='match_id')"
   ]
  },
  {
   "cell_type": "code",
   "execution_count": 28,
   "id": "b203e17f",
   "metadata": {},
   "outputs": [],
   "source": [
    "merged_data=merge_1.merge(bowling_data,on='match_id')"
   ]
  },
  {
   "cell_type": "code",
   "execution_count": 29,
   "id": "c6e5df76",
   "metadata": {},
   "outputs": [
    {
     "data": {
      "text/html": [
       "<div>\n",
       "<style scoped>\n",
       "    .dataframe tbody tr th:only-of-type {\n",
       "        vertical-align: middle;\n",
       "    }\n",
       "\n",
       "    .dataframe tbody tr th {\n",
       "        vertical-align: top;\n",
       "    }\n",
       "\n",
       "    .dataframe thead th {\n",
       "        text-align: right;\n",
       "    }\n",
       "</style>\n",
       "<table border=\"1\" class=\"dataframe\">\n",
       "  <thead>\n",
       "    <tr style=\"text-align: right;\">\n",
       "      <th></th>\n",
       "      <th>team1</th>\n",
       "      <th>team2</th>\n",
       "      <th>winner</th>\n",
       "      <th>margin</th>\n",
       "      <th>ground</th>\n",
       "      <th>matchDate</th>\n",
       "      <th>match_id</th>\n",
       "      <th>match_x</th>\n",
       "      <th>teamInnings</th>\n",
       "      <th>battingPos</th>\n",
       "      <th>...</th>\n",
       "      <th>overs</th>\n",
       "      <th>maiden</th>\n",
       "      <th>runs_y</th>\n",
       "      <th>wickets</th>\n",
       "      <th>economy</th>\n",
       "      <th>0s</th>\n",
       "      <th>4s_y</th>\n",
       "      <th>6s_y</th>\n",
       "      <th>wides</th>\n",
       "      <th>noBalls</th>\n",
       "    </tr>\n",
       "  </thead>\n",
       "  <tbody>\n",
       "    <tr>\n",
       "      <th>0</th>\n",
       "      <td>Namibia</td>\n",
       "      <td>Sri Lanka</td>\n",
       "      <td>Namibia</td>\n",
       "      <td>55 runs</td>\n",
       "      <td>Geelong</td>\n",
       "      <td>Oct 16, 2022</td>\n",
       "      <td>T20I # 1823</td>\n",
       "      <td>Namibia Vs Sri Lanka</td>\n",
       "      <td>Namibia</td>\n",
       "      <td>1</td>\n",
       "      <td>...</td>\n",
       "      <td>4.0</td>\n",
       "      <td>0</td>\n",
       "      <td>23</td>\n",
       "      <td>1</td>\n",
       "      <td>5.75</td>\n",
       "      <td>7</td>\n",
       "      <td>0</td>\n",
       "      <td>0</td>\n",
       "      <td>2</td>\n",
       "      <td>0</td>\n",
       "    </tr>\n",
       "    <tr>\n",
       "      <th>1</th>\n",
       "      <td>Namibia</td>\n",
       "      <td>Sri Lanka</td>\n",
       "      <td>Namibia</td>\n",
       "      <td>55 runs</td>\n",
       "      <td>Geelong</td>\n",
       "      <td>Oct 16, 2022</td>\n",
       "      <td>T20I # 1823</td>\n",
       "      <td>Namibia Vs Sri Lanka</td>\n",
       "      <td>Namibia</td>\n",
       "      <td>1</td>\n",
       "      <td>...</td>\n",
       "      <td>4.0</td>\n",
       "      <td>0</td>\n",
       "      <td>39</td>\n",
       "      <td>1</td>\n",
       "      <td>9.75</td>\n",
       "      <td>6</td>\n",
       "      <td>3</td>\n",
       "      <td>1</td>\n",
       "      <td>2</td>\n",
       "      <td>0</td>\n",
       "    </tr>\n",
       "    <tr>\n",
       "      <th>2</th>\n",
       "      <td>Namibia</td>\n",
       "      <td>Sri Lanka</td>\n",
       "      <td>Namibia</td>\n",
       "      <td>55 runs</td>\n",
       "      <td>Geelong</td>\n",
       "      <td>Oct 16, 2022</td>\n",
       "      <td>T20I # 1823</td>\n",
       "      <td>Namibia Vs Sri Lanka</td>\n",
       "      <td>Namibia</td>\n",
       "      <td>1</td>\n",
       "      <td>...</td>\n",
       "      <td>4.0</td>\n",
       "      <td>0</td>\n",
       "      <td>37</td>\n",
       "      <td>2</td>\n",
       "      <td>9.25</td>\n",
       "      <td>6</td>\n",
       "      <td>3</td>\n",
       "      <td>1</td>\n",
       "      <td>0</td>\n",
       "      <td>0</td>\n",
       "    </tr>\n",
       "    <tr>\n",
       "      <th>3</th>\n",
       "      <td>Namibia</td>\n",
       "      <td>Sri Lanka</td>\n",
       "      <td>Namibia</td>\n",
       "      <td>55 runs</td>\n",
       "      <td>Geelong</td>\n",
       "      <td>Oct 16, 2022</td>\n",
       "      <td>T20I # 1823</td>\n",
       "      <td>Namibia Vs Sri Lanka</td>\n",
       "      <td>Namibia</td>\n",
       "      <td>1</td>\n",
       "      <td>...</td>\n",
       "      <td>4.0</td>\n",
       "      <td>0</td>\n",
       "      <td>36</td>\n",
       "      <td>1</td>\n",
       "      <td>9.00</td>\n",
       "      <td>7</td>\n",
       "      <td>3</td>\n",
       "      <td>1</td>\n",
       "      <td>1</td>\n",
       "      <td>0</td>\n",
       "    </tr>\n",
       "    <tr>\n",
       "      <th>4</th>\n",
       "      <td>Namibia</td>\n",
       "      <td>Sri Lanka</td>\n",
       "      <td>Namibia</td>\n",
       "      <td>55 runs</td>\n",
       "      <td>Geelong</td>\n",
       "      <td>Oct 16, 2022</td>\n",
       "      <td>T20I # 1823</td>\n",
       "      <td>Namibia Vs Sri Lanka</td>\n",
       "      <td>Namibia</td>\n",
       "      <td>1</td>\n",
       "      <td>...</td>\n",
       "      <td>4.0</td>\n",
       "      <td>0</td>\n",
       "      <td>27</td>\n",
       "      <td>1</td>\n",
       "      <td>6.75</td>\n",
       "      <td>8</td>\n",
       "      <td>1</td>\n",
       "      <td>1</td>\n",
       "      <td>0</td>\n",
       "      <td>0</td>\n",
       "    </tr>\n",
       "  </tbody>\n",
       "</table>\n",
       "<p>5 rows × 30 columns</p>\n",
       "</div>"
      ],
      "text/plain": [
       "     team1      team2   winner   margin   ground     matchDate     match_id  \\\n",
       "0  Namibia  Sri Lanka  Namibia  55 runs  Geelong  Oct 16, 2022  T20I # 1823   \n",
       "1  Namibia  Sri Lanka  Namibia  55 runs  Geelong  Oct 16, 2022  T20I # 1823   \n",
       "2  Namibia  Sri Lanka  Namibia  55 runs  Geelong  Oct 16, 2022  T20I # 1823   \n",
       "3  Namibia  Sri Lanka  Namibia  55 runs  Geelong  Oct 16, 2022  T20I # 1823   \n",
       "4  Namibia  Sri Lanka  Namibia  55 runs  Geelong  Oct 16, 2022  T20I # 1823   \n",
       "\n",
       "                match_x teamInnings  battingPos  ... overs  maiden  runs_y  \\\n",
       "0  Namibia Vs Sri Lanka     Namibia           1  ...   4.0       0      23   \n",
       "1  Namibia Vs Sri Lanka     Namibia           1  ...   4.0       0      39   \n",
       "2  Namibia Vs Sri Lanka     Namibia           1  ...   4.0       0      37   \n",
       "3  Namibia Vs Sri Lanka     Namibia           1  ...   4.0       0      36   \n",
       "4  Namibia Vs Sri Lanka     Namibia           1  ...   4.0       0      27   \n",
       "\n",
       "   wickets  economy  0s 4s_y 6s_y wides noBalls  \n",
       "0        1     5.75   7    0    0     2       0  \n",
       "1        1     9.75   6    3    1     2       0  \n",
       "2        2     9.25   6    3    1     0       0  \n",
       "3        1     9.00   7    3    1     1       0  \n",
       "4        1     6.75   8    1    1     0       0  \n",
       "\n",
       "[5 rows x 30 columns]"
      ]
     },
     "execution_count": 29,
     "metadata": {},
     "output_type": "execute_result"
    }
   ],
   "source": [
    "merged_data.head()"
   ]
  },
  {
   "cell_type": "code",
   "execution_count": 30,
   "id": "e4371707",
   "metadata": {},
   "outputs": [
    {
     "data": {
      "text/plain": [
       "(8348, 30)"
      ]
     },
     "execution_count": 30,
     "metadata": {},
     "output_type": "execute_result"
    }
   ],
   "source": [
    "merged_data.shape"
   ]
  },
  {
   "cell_type": "markdown",
   "id": "828a0f64",
   "metadata": {},
   "source": [
    "## Exploratory Data Analysis"
   ]
  },
  {
   "cell_type": "code",
   "execution_count": 31,
   "id": "e4584d9b",
   "metadata": {},
   "outputs": [],
   "source": [
    "match_data=match_data.merge(batting_data,on='match_id')"
   ]
  },
  {
   "cell_type": "code",
   "execution_count": 32,
   "id": "5a7631cf",
   "metadata": {},
   "outputs": [
    {
     "data": {
      "text/html": [
       "<div>\n",
       "<style scoped>\n",
       "    .dataframe tbody tr th:only-of-type {\n",
       "        vertical-align: middle;\n",
       "    }\n",
       "\n",
       "    .dataframe tbody tr th {\n",
       "        vertical-align: top;\n",
       "    }\n",
       "\n",
       "    .dataframe thead th {\n",
       "        text-align: right;\n",
       "    }\n",
       "</style>\n",
       "<table border=\"1\" class=\"dataframe\">\n",
       "  <thead>\n",
       "    <tr style=\"text-align: right;\">\n",
       "      <th></th>\n",
       "      <th>team1</th>\n",
       "      <th>team2</th>\n",
       "      <th>winner</th>\n",
       "      <th>margin</th>\n",
       "      <th>ground</th>\n",
       "      <th>matchDate</th>\n",
       "      <th>match_id</th>\n",
       "      <th>match</th>\n",
       "      <th>teamInnings</th>\n",
       "      <th>battingPos</th>\n",
       "      <th>batsmanName</th>\n",
       "      <th>runs</th>\n",
       "      <th>balls</th>\n",
       "      <th>4s</th>\n",
       "      <th>6s</th>\n",
       "      <th>SR</th>\n",
       "      <th>out/not_out</th>\n",
       "    </tr>\n",
       "  </thead>\n",
       "  <tbody>\n",
       "    <tr>\n",
       "      <th>0</th>\n",
       "      <td>Namibia</td>\n",
       "      <td>Sri Lanka</td>\n",
       "      <td>Namibia</td>\n",
       "      <td>55 runs</td>\n",
       "      <td>Geelong</td>\n",
       "      <td>Oct 16, 2022</td>\n",
       "      <td>T20I # 1823</td>\n",
       "      <td>Namibia Vs Sri Lanka</td>\n",
       "      <td>Namibia</td>\n",
       "      <td>1</td>\n",
       "      <td>Michael van Lingen</td>\n",
       "      <td>3</td>\n",
       "      <td>6</td>\n",
       "      <td>0</td>\n",
       "      <td>0</td>\n",
       "      <td>50.00</td>\n",
       "      <td>out</td>\n",
       "    </tr>\n",
       "    <tr>\n",
       "      <th>1</th>\n",
       "      <td>Namibia</td>\n",
       "      <td>Sri Lanka</td>\n",
       "      <td>Namibia</td>\n",
       "      <td>55 runs</td>\n",
       "      <td>Geelong</td>\n",
       "      <td>Oct 16, 2022</td>\n",
       "      <td>T20I # 1823</td>\n",
       "      <td>Namibia Vs Sri Lanka</td>\n",
       "      <td>Namibia</td>\n",
       "      <td>2</td>\n",
       "      <td>Divan la Cock</td>\n",
       "      <td>9</td>\n",
       "      <td>9</td>\n",
       "      <td>1</td>\n",
       "      <td>0</td>\n",
       "      <td>100.00</td>\n",
       "      <td>out</td>\n",
       "    </tr>\n",
       "    <tr>\n",
       "      <th>2</th>\n",
       "      <td>Namibia</td>\n",
       "      <td>Sri Lanka</td>\n",
       "      <td>Namibia</td>\n",
       "      <td>55 runs</td>\n",
       "      <td>Geelong</td>\n",
       "      <td>Oct 16, 2022</td>\n",
       "      <td>T20I # 1823</td>\n",
       "      <td>Namibia Vs Sri Lanka</td>\n",
       "      <td>Namibia</td>\n",
       "      <td>3</td>\n",
       "      <td>Jan Nicol Loftie-Eaton</td>\n",
       "      <td>20</td>\n",
       "      <td>12</td>\n",
       "      <td>1</td>\n",
       "      <td>2</td>\n",
       "      <td>166.66</td>\n",
       "      <td>out</td>\n",
       "    </tr>\n",
       "    <tr>\n",
       "      <th>3</th>\n",
       "      <td>Namibia</td>\n",
       "      <td>Sri Lanka</td>\n",
       "      <td>Namibia</td>\n",
       "      <td>55 runs</td>\n",
       "      <td>Geelong</td>\n",
       "      <td>Oct 16, 2022</td>\n",
       "      <td>T20I # 1823</td>\n",
       "      <td>Namibia Vs Sri Lanka</td>\n",
       "      <td>Namibia</td>\n",
       "      <td>4</td>\n",
       "      <td>Stephan Baard</td>\n",
       "      <td>26</td>\n",
       "      <td>24</td>\n",
       "      <td>2</td>\n",
       "      <td>0</td>\n",
       "      <td>108.33</td>\n",
       "      <td>out</td>\n",
       "    </tr>\n",
       "    <tr>\n",
       "      <th>4</th>\n",
       "      <td>Namibia</td>\n",
       "      <td>Sri Lanka</td>\n",
       "      <td>Namibia</td>\n",
       "      <td>55 runs</td>\n",
       "      <td>Geelong</td>\n",
       "      <td>Oct 16, 2022</td>\n",
       "      <td>T20I # 1823</td>\n",
       "      <td>Namibia Vs Sri Lanka</td>\n",
       "      <td>Namibia</td>\n",
       "      <td>5</td>\n",
       "      <td>Gerhard Erasmus(c)</td>\n",
       "      <td>20</td>\n",
       "      <td>24</td>\n",
       "      <td>0</td>\n",
       "      <td>0</td>\n",
       "      <td>83.33</td>\n",
       "      <td>out</td>\n",
       "    </tr>\n",
       "  </tbody>\n",
       "</table>\n",
       "</div>"
      ],
      "text/plain": [
       "     team1      team2   winner   margin   ground     matchDate     match_id  \\\n",
       "0  Namibia  Sri Lanka  Namibia  55 runs  Geelong  Oct 16, 2022  T20I # 1823   \n",
       "1  Namibia  Sri Lanka  Namibia  55 runs  Geelong  Oct 16, 2022  T20I # 1823   \n",
       "2  Namibia  Sri Lanka  Namibia  55 runs  Geelong  Oct 16, 2022  T20I # 1823   \n",
       "3  Namibia  Sri Lanka  Namibia  55 runs  Geelong  Oct 16, 2022  T20I # 1823   \n",
       "4  Namibia  Sri Lanka  Namibia  55 runs  Geelong  Oct 16, 2022  T20I # 1823   \n",
       "\n",
       "                  match teamInnings  battingPos             batsmanName  runs  \\\n",
       "0  Namibia Vs Sri Lanka     Namibia           1      Michael van Lingen     3   \n",
       "1  Namibia Vs Sri Lanka     Namibia           2           Divan la Cock     9   \n",
       "2  Namibia Vs Sri Lanka     Namibia           3  Jan Nicol Loftie-Eaton    20   \n",
       "3  Namibia Vs Sri Lanka     Namibia           4           Stephan Baard    26   \n",
       "4  Namibia Vs Sri Lanka     Namibia           5      Gerhard Erasmus(c)    20   \n",
       "\n",
       "   balls  4s  6s      SR out/not_out  \n",
       "0      6   0   0   50.00         out  \n",
       "1      9   1   0  100.00         out  \n",
       "2     12   1   2  166.66         out  \n",
       "3     24   2   0  108.33         out  \n",
       "4     24   0   0   83.33         out  "
      ]
     },
     "execution_count": 32,
     "metadata": {},
     "output_type": "execute_result"
    }
   ],
   "source": [
    "match_data.head()"
   ]
  },
  {
   "cell_type": "code",
   "execution_count": 33,
   "id": "0d3f24ea",
   "metadata": {},
   "outputs": [],
   "source": [
    "match_data.rename(columns={'team1':'TeamA','team2':'TeamB','winner':'Winner','margin':'Won_by','ground':'Location','matchDate':'Match_Date','match_id':'Match_id','match':'Match','teamInnings':'Playing','battingPos':'Batting_Position','runs':'Runs'},inplace=True)"
   ]
  },
  {
   "cell_type": "code",
   "execution_count": 34,
   "id": "34dcca8e",
   "metadata": {},
   "outputs": [],
   "source": [
    "# Lets plot a histplot how many players scored how much runs \n",
    "import seaborn as sns\n",
    "import matplotlib.pyplot as plt\n"
   ]
  },
  {
   "cell_type": "code",
   "execution_count": 35,
   "id": "42254d5c",
   "metadata": {},
   "outputs": [
    {
     "data": {
      "text/plain": [
       "Text(0, 0.5, 'Frequency')"
      ]
     },
     "execution_count": 35,
     "metadata": {},
     "output_type": "execute_result"
    },
    {
     "data": {
      "image/png": "[encoded data removed]",
      "text/plain": [
       "<Figure size 640x480 with 1 Axes>"
      ]
     },
     "metadata": {},
     "output_type": "display_data"
    }
   ],
   "source": [
    "sns.histplot(match_data['Runs'],bins=30)\n",
    "plt.title('Distrubution how much runs each player scored per match')\n",
    "plt.xlabel('Runs')\n",
    "plt.ylabel('Frequency')"
   ]
  },
  {
   "cell_type": "code",
   "execution_count": 36,
   "id": "3221a591",
   "metadata": {},
   "outputs": [],
   "source": [
    "# This shows that a lot of batsman failed to perform well only a few number of batsman score above 40 \n",
    "# Top Scorers\n",
    "top_scrores=match_data.sort_values(by='Runs',ascending=False)"
   ]
  },
  {
   "cell_type": "code",
   "execution_count": 37,
   "id": "89d557a7",
   "metadata": {},
   "outputs": [],
   "source": [
    "top_run_scores=top_scrores.head(10)"
   ]
  },
  {
   "cell_type": "code",
   "execution_count": 38,
   "id": "d9291d03",
   "metadata": {},
   "outputs": [],
   "source": [
    "# Most Consistent\n",
    "consistent=match_data[(match_data['Batting_Position'] < 5) & (match_data['balls'] > 10)]\n",
    "consistent=consistent.groupby('batsmanName')['SR'].mean().reset_index().sort_values(by='SR',ascending=False)"
   ]
  },
  {
   "cell_type": "code",
   "execution_count": 39,
   "id": "ab31f08a",
   "metadata": {},
   "outputs": [],
   "source": [
    "consistent_players=consistent['batsmanName'].to_list()"
   ]
  },
  {
   "cell_type": "code",
   "execution_count": 40,
   "id": "3347d631",
   "metadata": {},
   "outputs": [
    {
     "name": "stdout",
     "output_type": "stream",
     "text": [
      "Top Batsman with consitent strike for T20 World Cup are \n",
      "1)Suryakumar Yadav\n",
      "2)Finn Allen\n",
      "3)Quinton de Kock\n",
      "4)Gulbadin Naib\n",
      "5)Glenn Phillips\n",
      "6)Jan Nicol Loftie-Eaton\n",
      "7)Glenn Maxwell\n",
      "8)Rilee Rossouw\n",
      "9)Mohammad Haris\n",
      "10)Iftikhar Ahmed\n"
     ]
    }
   ],
   "source": [
    "print(f'Top Batsman with consitent strike for T20 World Cup are ')\n",
    "for i,player in enumerate(consistent_players[0:10]):\n",
    "    print(f'{i+1}){player}')"
   ]
  },
  {
   "cell_type": "code",
   "execution_count": 41,
   "id": "8ffc5577",
   "metadata": {},
   "outputs": [
    {
     "data": {
      "text/plain": [
       "Text(0.5, 1.0, 'Top 3 batsman of 2020 T20I World Cup')"
      ]
     },
     "execution_count": 41,
     "metadata": {},
     "output_type": "execute_result"
    },
    {
     "data": {
      "image/png": "[encoded data removed]",
      "text/plain": [
       "<Figure size 640x480 with 1 Axes>"
      ]
     },
     "metadata": {},
     "output_type": "display_data"
    }
   ],
   "source": [
    "plt.bar(consistent_players[0:3],consistent['SR'][0:3])\n",
    "plt.xlabel('BatsMan Name')\n",
    "plt.ylabel('Strike Rate')\n",
    "plt.title('Top 3 batsman of 2020 T20I World Cup')\n"
   ]
  },
  {
   "cell_type": "code",
   "execution_count": 42,
   "id": "f6ff163c",
   "metadata": {},
   "outputs": [],
   "source": [
    "# Most wins by\n",
    "winners=match_data.groupby('Match')['Winner'].value_counts().reset_index()"
   ]
  },
  {
   "cell_type": "code",
   "execution_count": 43,
   "id": "dd38fab4",
   "metadata": {},
   "outputs": [],
   "source": [
    "winners.drop(columns='count',inplace=True)"
   ]
  },
  {
   "cell_type": "code",
   "execution_count": 44,
   "id": "cd418d4e",
   "metadata": {},
   "outputs": [],
   "source": [
    "new_=winners['Winner'].value_counts().reset_index()"
   ]
  },
  {
   "cell_type": "code",
   "execution_count": 45,
   "id": "7af7a17c",
   "metadata": {},
   "outputs": [],
   "source": [
    "new_.sort_values(by='count',ascending=False,inplace=True)"
   ]
  },
  {
   "cell_type": "code",
   "execution_count": 46,
   "id": "664a9c85",
   "metadata": {},
   "outputs": [
    {
     "data": {
      "text/plain": [
       "Text(0.5, 1.0, 'Team with most wins')"
      ]
     },
     "execution_count": 46,
     "metadata": {},
     "output_type": "execute_result"
    },
    {
     "data": {
      "image/png": "[encoded data removed]",
      "text/plain": [
       "<Figure size 640x480 with 1 Axes>"
      ]
     },
     "metadata": {},
     "output_type": "display_data"
    }
   ],
   "source": [
    "plt.bar(list(new_['Winner'].unique()[0:4]),new_['count'][0:4])\n",
    "plt.xlabel('Teams')\n",
    "plt.ylabel('Number of Wins')\n",
    "plt.title('Team with most wins')\n"
   ]
  },
  {
   "cell_type": "code",
   "execution_count": 47,
   "id": "5028ad04",
   "metadata": {},
   "outputs": [],
   "source": [
    "# England Pakistan SriLanka and India appears to be stronger team to win\n",
    "location=match_data.groupby('Location')['Runs'].sum().reset_index()"
   ]
  },
  {
   "cell_type": "code",
   "execution_count": 48,
   "id": "87cac6c1",
   "metadata": {},
   "outputs": [],
   "source": [
    "innings_played_stadium=[]\n",
    "for loca in location['Location'].to_list() :\n",
    " innings_played_stadium.append(len(match_data[match_data['Location']==loca]['Match_id'].unique()))"
   ]
  },
  {
   "cell_type": "code",
   "execution_count": 49,
   "id": "f618e96c",
   "metadata": {},
   "outputs": [],
   "source": [
    "avg_score_at_pitches=[(x/y)//2 for x,y in zip(location['Runs'].to_list(),innings_played_stadium) ]"
   ]
  },
  {
   "cell_type": "code",
   "execution_count": 50,
   "id": "7a3f6580",
   "metadata": {},
   "outputs": [
    {
     "data": {
      "text/plain": [
       "[145.0, 146.0, 122.0, 127.0, 133.0, 115.0, 141.0]"
      ]
     },
     "execution_count": 50,
     "metadata": {},
     "output_type": "execute_result"
    }
   ],
   "source": [
    "avg_score_at_pitches"
   ]
  },
  {
   "cell_type": "code",
   "execution_count": 51,
   "id": "d5e065f2",
   "metadata": {},
   "outputs": [],
   "source": [
    "avg_scores={} \n",
    "for x,y in zip(location['Location'].to_list(),avg_score_at_pitches):\n",
    "  avg_scores[x]=y"
   ]
  },
  {
   "cell_type": "code",
   "execution_count": 52,
   "id": "89053269",
   "metadata": {},
   "outputs": [
    {
     "name": "stdout",
     "output_type": "stream",
     "text": [
      "Average Score of First Innings at Adelaide is 145.0\n",
      "Average Score of First Innings at Brisbane is 146.0\n",
      "Average Score of First Innings at Geelong is 122.0\n",
      "Average Score of First Innings at Hobart is 127.0\n",
      "Average Score of First Innings at Melbourne is 133.0\n",
      "Average Score of First Innings at Perth is 115.0\n",
      "Average Score of First Innings at Sydney is 141.0\n"
     ]
    }
   ],
   "source": [
    "for key,value in avg_scores.items():\n",
    "    print(f'Average Score of First Innings at {key} is {value}')"
   ]
  },
  {
   "cell_type": "code",
   "execution_count": 53,
   "id": "7d2f1a3b",
   "metadata": {},
   "outputs": [
    {
     "data": {
      "text/plain": [
       "Text(0, 0.5, 'Score')"
      ]
     },
     "execution_count": 53,
     "metadata": {},
     "output_type": "execute_result"
    },
    {
     "data": {
      "image/png": "[encoded data removed]",
      "text/plain": [
       "<Figure size 640x480 with 1 Axes>"
      ]
     },
     "metadata": {},
     "output_type": "display_data"
    }
   ],
   "source": [
    "plt.bar(location['Location'].to_list(),avg_score_at_pitches)\n",
    "plt.title('Average Scores each innings at different stadium ')\n",
    "plt.xlabel('Stadium')\n",
    "plt.ylabel('Score')"
   ]
  },
  {
   "cell_type": "code",
   "execution_count": 54,
   "id": "65cf9058",
   "metadata": {},
   "outputs": [],
   "source": [
    "# Oppositon\n",
    "teams=list(match_data['Playing'].unique())"
   ]
  },
  {
   "cell_type": "code",
   "execution_count": 55,
   "id": "320395c5",
   "metadata": {},
   "outputs": [],
   "source": [
    "match_data_1=pd.read_csv('D:\\\\Cricket Data Analysis\\\\Data\\\\dim_match_summary.csv')"
   ]
  },
  {
   "cell_type": "code",
   "execution_count": 56,
   "id": "92ed842f",
   "metadata": {},
   "outputs": [],
   "source": [
    "# Now for bowlers\n",
    "bowling_data=bowling_data.merge(match_data_1,on='match_id')"
   ]
  },
  {
   "cell_type": "code",
   "execution_count": 57,
   "id": "58376964",
   "metadata": {},
   "outputs": [
    {
     "data": {
      "text/plain": [
       "Text(0, 0.5, 'Frequency')"
      ]
     },
     "execution_count": 57,
     "metadata": {},
     "output_type": "execute_result"
    },
    {
     "data": {
      "image/png": "[encoded data removed]",
      "text/plain": [
       "<Figure size 640x480 with 1 Axes>"
      ]
     },
     "metadata": {},
     "output_type": "display_data"
    }
   ],
   "source": [
    "sns.histplot(bowling_data['wickets'])\n",
    "plt.title('Distribution of Wickets')\n",
    "plt.xlabel('Wickets')\n",
    "plt.ylabel('Frequency')"
   ]
  },
  {
   "cell_type": "code",
   "execution_count": 58,
   "id": "60858fe3",
   "metadata": {},
   "outputs": [],
   "source": [
    "# This graph indicates most of the bowlers failed to take wickets around 175+ meanwhile no bowler took 5 wickets "
   ]
  },
  {
   "cell_type": "code",
   "execution_count": 59,
   "id": "23a722e5",
   "metadata": {},
   "outputs": [],
   "source": [
    "# most wickets by bowler\n",
    "most_wickets=bowling_data.groupby('bowlerName')['wickets'].sum().reset_index()"
   ]
  },
  {
   "cell_type": "code",
   "execution_count": 60,
   "id": "19e9976e",
   "metadata": {},
   "outputs": [],
   "source": [
    "sorted_=most_wickets.sort_values(by='wickets',ascending=False)"
   ]
  },
  {
   "cell_type": "code",
   "execution_count": 61,
   "id": "de19dd1a",
   "metadata": {},
   "outputs": [
    {
     "name": "stdout",
     "output_type": "stream",
     "text": [
      "Top 10 bowlers with most wicket\n",
      "1)Wanindu Hasaranga de Silva\n",
      "2)Bas de Leede\n",
      "3)Sam Curran\n",
      "4)Blessing Muzarabani\n",
      "5)Paul van Meekeren\n",
      "6)Josh Little\n",
      "7)Shadab Khan\n",
      "8)Shaheen Shah Afridi\n",
      "9)Anrich Nortje\n",
      "10)Sikandar Raza\n"
     ]
    }
   ],
   "source": [
    "# Top 10 bowler with most wickets are \n",
    "print('Top 10 bowlers with most wicket')\n",
    "for i,name in enumerate(sorted_['bowlerName'].to_list()[0:10]):\n",
    "    print(f'{i+1}){name}')"
   ]
  },
  {
   "cell_type": "code",
   "execution_count": 62,
   "id": "3421d1a5",
   "metadata": {},
   "outputs": [
    {
     "data": {
      "text/plain": [
       "Text(0.5, 1.0, 'Top 3 wicket taking bowlers in t20 world cup 2022')"
      ]
     },
     "execution_count": 62,
     "metadata": {},
     "output_type": "execute_result"
    },
    {
     "data": {
      "image/png": "[encoded data removed]",
      "text/plain": [
       "<Figure size 640x480 with 1 Axes>"
      ]
     },
     "metadata": {},
     "output_type": "display_data"
    }
   ],
   "source": [
    "plt.bar(sorted_['bowlerName'][0:3],sorted_['wickets'][0:3])\n",
    "plt.xlabel('Player Name')\n",
    "plt.ylabel('Wickets Taken')\n",
    "plt.title('Top 3 wicket taking bowlers in t20 world cup 2022')"
   ]
  },
  {
   "cell_type": "code",
   "execution_count": 63,
   "id": "2cae482d",
   "metadata": {},
   "outputs": [],
   "source": [
    "# Average bowling economy of each team \n",
    "bowling_economy=bowling_data.groupby('bowlingTeam')['economy'].mean().reset_index()"
   ]
  },
  {
   "cell_type": "code",
   "execution_count": 64,
   "id": "338a68ab",
   "metadata": {},
   "outputs": [],
   "source": [
    "# Most wicket taking team \n",
    "bowling_wickets=bowling_data.groupby('bowlingTeam')['wickets'].sum().reset_index()\n"
   ]
  },
  {
   "cell_type": "code",
   "execution_count": 65,
   "id": "9223c495",
   "metadata": {},
   "outputs": [],
   "source": [
    "# Lets see average runs scored by each team \n",
    "average_run=match_data.groupby('Playing')['Runs'].sum().reset_index()"
   ]
  },
  {
   "cell_type": "code",
   "execution_count": 66,
   "id": "aa3e1850",
   "metadata": {},
   "outputs": [],
   "source": [
    "# Matches Played by each team \n",
    "matches_played=match_data.groupby('Match_id')['TeamA'].value_counts().reset_index()"
   ]
  },
  {
   "cell_type": "code",
   "execution_count": 67,
   "id": "de7a0be7",
   "metadata": {},
   "outputs": [],
   "source": [
    "nd_=matches_played['TeamA'].value_counts().reset_index()"
   ]
  },
  {
   "cell_type": "code",
   "execution_count": 68,
   "id": "00fc1c81",
   "metadata": {},
   "outputs": [],
   "source": [
    "# Matches Played by each team \n",
    "matches_played_B=match_data.groupby('Match_id')['TeamB'].value_counts().reset_index()"
   ]
  },
  {
   "cell_type": "code",
   "execution_count": 69,
   "id": "f9360423",
   "metadata": {},
   "outputs": [],
   "source": [
    "matches_played_B.rename(columns={'TeamB':'TeamA'},inplace=True)"
   ]
  },
  {
   "cell_type": "code",
   "execution_count": 70,
   "id": "10222d6f",
   "metadata": {},
   "outputs": [],
   "source": [
    "nd_1=matches_played_B['TeamA'].value_counts().reset_index()"
   ]
  },
  {
   "cell_type": "code",
   "execution_count": 71,
   "id": "9b23ad5d",
   "metadata": {},
   "outputs": [],
   "source": [
    "matches_play=nd_.merge(nd_1,on='TeamA',how='outer')"
   ]
  },
  {
   "cell_type": "code",
   "execution_count": 72,
   "id": "cbdcf0d6",
   "metadata": {},
   "outputs": [],
   "source": [
    "matches_play.replace(np.NaN,float(0),inplace=True)"
   ]
  },
  {
   "cell_type": "code",
   "execution_count": 73,
   "id": "93470214",
   "metadata": {},
   "outputs": [],
   "source": [
    "matches_play['Match Played']=matches_play['count_x']+matches_play['count_y']"
   ]
  },
  {
   "cell_type": "code",
   "execution_count": 74,
   "id": "b9fb85e3",
   "metadata": {},
   "outputs": [],
   "source": [
    "matches_play.drop(columns=['count_x','count_y'],inplace=True)"
   ]
  },
  {
   "cell_type": "code",
   "execution_count": 75,
   "id": "f214b922",
   "metadata": {},
   "outputs": [],
   "source": [
    "def handles(value):\n",
    "    return int(value)"
   ]
  },
  {
   "cell_type": "code",
   "execution_count": 76,
   "id": "e067c840",
   "metadata": {},
   "outputs": [],
   "source": [
    "matches_play['Match Played']=matches_play['Match Played'].apply(handles)"
   ]
  },
  {
   "cell_type": "code",
   "execution_count": 77,
   "id": "bfb249e2",
   "metadata": {},
   "outputs": [],
   "source": [
    "matches_play.rename(columns={'TeamA':'Teams'},inplace=True)"
   ]
  },
  {
   "cell_type": "code",
   "execution_count": 78,
   "id": "cb7382e2",
   "metadata": {},
   "outputs": [],
   "source": [
    "average_run.rename(columns={'Playing':'Teams'},inplace=True)"
   ]
  },
  {
   "cell_type": "code",
   "execution_count": 79,
   "id": "18e99b2f",
   "metadata": {},
   "outputs": [],
   "source": [
    "strong=average_run.merge(matches_play,on='Teams')"
   ]
  },
  {
   "cell_type": "code",
   "execution_count": 80,
   "id": "6c9ffe8b",
   "metadata": {},
   "outputs": [],
   "source": [
    "strong['Average Score Per Innings']=strong['Runs']//strong['Match Played']"
   ]
  },
  {
   "cell_type": "code",
   "execution_count": 81,
   "id": "623cb325",
   "metadata": {},
   "outputs": [],
   "source": [
    "bowling_wickets.rename(columns={'bowlingTeam':'Teams'},inplace=True)"
   ]
  },
  {
   "cell_type": "code",
   "execution_count": 82,
   "id": "ff7f60ed",
   "metadata": {},
   "outputs": [],
   "source": [
    "team=strong.merge(bowling_wickets,on='Teams')"
   ]
  },
  {
   "cell_type": "code",
   "execution_count": 83,
   "id": "fac18fef",
   "metadata": {},
   "outputs": [],
   "source": [
    "bowling_economy.rename(columns={'bowlingTeam':'Teams'},inplace=True)"
   ]
  },
  {
   "cell_type": "code",
   "execution_count": 84,
   "id": "55e64081",
   "metadata": {},
   "outputs": [],
   "source": [
    "team=team.merge(bowling_economy,on='Teams')"
   ]
  },
  {
   "cell_type": "code",
   "execution_count": 85,
   "id": "06c1f3df",
   "metadata": {},
   "outputs": [],
   "source": [
    "team['Economy']=round(team['economy'],2)"
   ]
  },
  {
   "cell_type": "code",
   "execution_count": 86,
   "id": "c42aadf2",
   "metadata": {},
   "outputs": [],
   "source": [
    "team.drop(columns=['economy'],inplace=True)"
   ]
  },
  {
   "cell_type": "code",
   "execution_count": 87,
   "id": "8d55f6ea",
   "metadata": {},
   "outputs": [],
   "source": [
    "new_.rename(columns={'Winner':'Teams'},inplace=True)"
   ]
  },
  {
   "cell_type": "code",
   "execution_count": 88,
   "id": "37a4ce3c",
   "metadata": {},
   "outputs": [],
   "source": [
    "team=team.merge(new_,on='Teams',how='outer')"
   ]
  },
  {
   "cell_type": "code",
   "execution_count": 89,
   "id": "13486b0b",
   "metadata": {},
   "outputs": [],
   "source": [
    "team.rename(columns={'count':'Wins'},inplace=True)"
   ]
  },
  {
   "cell_type": "code",
   "execution_count": 90,
   "id": "2d8476f0",
   "metadata": {},
   "outputs": [],
   "source": [
    "team['Wins']=team['Wins'].fillna(float(0))"
   ]
  },
  {
   "cell_type": "code",
   "execution_count": 91,
   "id": "acdf43ed",
   "metadata": {},
   "outputs": [],
   "source": [
    "team.dropna(inplace=True)"
   ]
  },
  {
   "cell_type": "code",
   "execution_count": 92,
   "id": "79439256",
   "metadata": {},
   "outputs": [
    {
     "data": {
      "text/html": [
       "<div>\n",
       "<style scoped>\n",
       "    .dataframe tbody tr th:only-of-type {\n",
       "        vertical-align: middle;\n",
       "    }\n",
       "\n",
       "    .dataframe tbody tr th {\n",
       "        vertical-align: top;\n",
       "    }\n",
       "\n",
       "    .dataframe thead th {\n",
       "        text-align: right;\n",
       "    }\n",
       "</style>\n",
       "<table border=\"1\" class=\"dataframe\">\n",
       "  <thead>\n",
       "    <tr style=\"text-align: right;\">\n",
       "      <th></th>\n",
       "      <th>Teams</th>\n",
       "      <th>Runs</th>\n",
       "      <th>Match Played</th>\n",
       "      <th>Average Score Per Innings</th>\n",
       "      <th>wickets</th>\n",
       "      <th>Economy</th>\n",
       "      <th>Wins</th>\n",
       "    </tr>\n",
       "  </thead>\n",
       "  <tbody>\n",
       "    <tr>\n",
       "      <th>0</th>\n",
       "      <td>Afghanistan</td>\n",
       "      <td>399.0</td>\n",
       "      <td>3.0</td>\n",
       "      <td>133.0</td>\n",
       "      <td>16.0</td>\n",
       "      <td>8.30</td>\n",
       "      <td>0.0</td>\n",
       "    </tr>\n",
       "    <tr>\n",
       "      <th>1</th>\n",
       "      <td>Australia</td>\n",
       "      <td>577.0</td>\n",
       "      <td>4.0</td>\n",
       "      <td>144.0</td>\n",
       "      <td>22.0</td>\n",
       "      <td>8.28</td>\n",
       "      <td>3.0</td>\n",
       "    </tr>\n",
       "    <tr>\n",
       "      <th>2</th>\n",
       "      <td>Bangladesh</td>\n",
       "      <td>629.0</td>\n",
       "      <td>5.0</td>\n",
       "      <td>125.0</td>\n",
       "      <td>29.0</td>\n",
       "      <td>8.29</td>\n",
       "      <td>2.0</td>\n",
       "    </tr>\n",
       "    <tr>\n",
       "      <th>3</th>\n",
       "      <td>England</td>\n",
       "      <td>798.0</td>\n",
       "      <td>6.0</td>\n",
       "      <td>133.0</td>\n",
       "      <td>45.0</td>\n",
       "      <td>7.44</td>\n",
       "      <td>5.0</td>\n",
       "    </tr>\n",
       "    <tr>\n",
       "      <th>4</th>\n",
       "      <td>India</td>\n",
       "      <td>966.0</td>\n",
       "      <td>6.0</td>\n",
       "      <td>161.0</td>\n",
       "      <td>37.0</td>\n",
       "      <td>8.05</td>\n",
       "      <td>4.0</td>\n",
       "    </tr>\n",
       "    <tr>\n",
       "      <th>5</th>\n",
       "      <td>Ireland</td>\n",
       "      <td>989.0</td>\n",
       "      <td>7.0</td>\n",
       "      <td>141.0</td>\n",
       "      <td>33.0</td>\n",
       "      <td>8.40</td>\n",
       "      <td>3.0</td>\n",
       "    </tr>\n",
       "    <tr>\n",
       "      <th>6</th>\n",
       "      <td>Namibia</td>\n",
       "      <td>398.0</td>\n",
       "      <td>3.0</td>\n",
       "      <td>132.0</td>\n",
       "      <td>16.0</td>\n",
       "      <td>7.13</td>\n",
       "      <td>1.0</td>\n",
       "    </tr>\n",
       "    <tr>\n",
       "      <th>7</th>\n",
       "      <td>Netherlands</td>\n",
       "      <td>957.0</td>\n",
       "      <td>8.0</td>\n",
       "      <td>119.0</td>\n",
       "      <td>50.0</td>\n",
       "      <td>6.93</td>\n",
       "      <td>4.0</td>\n",
       "    </tr>\n",
       "    <tr>\n",
       "      <th>8</th>\n",
       "      <td>New Zealand</td>\n",
       "      <td>820.0</td>\n",
       "      <td>5.0</td>\n",
       "      <td>164.0</td>\n",
       "      <td>37.0</td>\n",
       "      <td>7.02</td>\n",
       "      <td>3.0</td>\n",
       "    </tr>\n",
       "    <tr>\n",
       "      <th>9</th>\n",
       "      <td>Pakistan</td>\n",
       "      <td>928.0</td>\n",
       "      <td>7.0</td>\n",
       "      <td>132.0</td>\n",
       "      <td>45.0</td>\n",
       "      <td>6.72</td>\n",
       "      <td>4.0</td>\n",
       "    </tr>\n",
       "    <tr>\n",
       "      <th>10</th>\n",
       "      <td>Scotland</td>\n",
       "      <td>433.0</td>\n",
       "      <td>3.0</td>\n",
       "      <td>144.0</td>\n",
       "      <td>18.0</td>\n",
       "      <td>7.86</td>\n",
       "      <td>1.0</td>\n",
       "    </tr>\n",
       "    <tr>\n",
       "      <th>11</th>\n",
       "      <td>South Africa</td>\n",
       "      <td>617.0</td>\n",
       "      <td>5.0</td>\n",
       "      <td>123.0</td>\n",
       "      <td>33.0</td>\n",
       "      <td>7.47</td>\n",
       "      <td>2.0</td>\n",
       "    </tr>\n",
       "    <tr>\n",
       "      <th>12</th>\n",
       "      <td>Sri Lanka</td>\n",
       "      <td>1038.0</td>\n",
       "      <td>8.0</td>\n",
       "      <td>129.0</td>\n",
       "      <td>53.0</td>\n",
       "      <td>7.27</td>\n",
       "      <td>4.0</td>\n",
       "    </tr>\n",
       "    <tr>\n",
       "      <th>13</th>\n",
       "      <td>U.A.E.</td>\n",
       "      <td>312.0</td>\n",
       "      <td>3.0</td>\n",
       "      <td>104.0</td>\n",
       "      <td>21.0</td>\n",
       "      <td>7.08</td>\n",
       "      <td>1.0</td>\n",
       "    </tr>\n",
       "    <tr>\n",
       "      <th>14</th>\n",
       "      <td>West Indies</td>\n",
       "      <td>385.0</td>\n",
       "      <td>3.0</td>\n",
       "      <td>128.0</td>\n",
       "      <td>16.0</td>\n",
       "      <td>8.19</td>\n",
       "      <td>1.0</td>\n",
       "    </tr>\n",
       "    <tr>\n",
       "      <th>15</th>\n",
       "      <td>Zimbabwe</td>\n",
       "      <td>923.0</td>\n",
       "      <td>8.0</td>\n",
       "      <td>115.0</td>\n",
       "      <td>44.0</td>\n",
       "      <td>7.86</td>\n",
       "      <td>3.0</td>\n",
       "    </tr>\n",
       "  </tbody>\n",
       "</table>\n",
       "</div>"
      ],
      "text/plain": [
       "           Teams    Runs  Match Played  Average Score Per Innings  wickets  \\\n",
       "0    Afghanistan   399.0           3.0                      133.0     16.0   \n",
       "1      Australia   577.0           4.0                      144.0     22.0   \n",
       "2     Bangladesh   629.0           5.0                      125.0     29.0   \n",
       "3        England   798.0           6.0                      133.0     45.0   \n",
       "4          India   966.0           6.0                      161.0     37.0   \n",
       "5        Ireland   989.0           7.0                      141.0     33.0   \n",
       "6        Namibia   398.0           3.0                      132.0     16.0   \n",
       "7    Netherlands   957.0           8.0                      119.0     50.0   \n",
       "8    New Zealand   820.0           5.0                      164.0     37.0   \n",
       "9       Pakistan   928.0           7.0                      132.0     45.0   \n",
       "10      Scotland   433.0           3.0                      144.0     18.0   \n",
       "11  South Africa   617.0           5.0                      123.0     33.0   \n",
       "12     Sri Lanka  1038.0           8.0                      129.0     53.0   \n",
       "13        U.A.E.   312.0           3.0                      104.0     21.0   \n",
       "14   West Indies   385.0           3.0                      128.0     16.0   \n",
       "15      Zimbabwe   923.0           8.0                      115.0     44.0   \n",
       "\n",
       "    Economy  Wins  \n",
       "0      8.30   0.0  \n",
       "1      8.28   3.0  \n",
       "2      8.29   2.0  \n",
       "3      7.44   5.0  \n",
       "4      8.05   4.0  \n",
       "5      8.40   3.0  \n",
       "6      7.13   1.0  \n",
       "7      6.93   4.0  \n",
       "8      7.02   3.0  \n",
       "9      6.72   4.0  \n",
       "10     7.86   1.0  \n",
       "11     7.47   2.0  \n",
       "12     7.27   4.0  \n",
       "13     7.08   1.0  \n",
       "14     8.19   1.0  \n",
       "15     7.86   3.0  "
      ]
     },
     "execution_count": 92,
     "metadata": {},
     "output_type": "execute_result"
    }
   ],
   "source": [
    "team"
   ]
  },
  {
   "cell_type": "code",
   "execution_count": 94,
   "id": "a756f051",
   "metadata": {},
   "outputs": [
    {
     "data": {
      "text/html": [
       "<div>\n",
       "<style scoped>\n",
       "    .dataframe tbody tr th:only-of-type {\n",
       "        vertical-align: middle;\n",
       "    }\n",
       "\n",
       "    .dataframe tbody tr th {\n",
       "        vertical-align: top;\n",
       "    }\n",
       "\n",
       "    .dataframe thead th {\n",
       "        text-align: right;\n",
       "    }\n",
       "</style>\n",
       "<table border=\"1\" class=\"dataframe\">\n",
       "  <thead>\n",
       "    <tr style=\"text-align: right;\">\n",
       "      <th></th>\n",
       "      <th>Teams</th>\n",
       "      <th>Runs</th>\n",
       "      <th>Match Played</th>\n",
       "      <th>Average Score Per Innings</th>\n",
       "      <th>wickets</th>\n",
       "      <th>Economy</th>\n",
       "      <th>Wins</th>\n",
       "    </tr>\n",
       "  </thead>\n",
       "  <tbody>\n",
       "    <tr>\n",
       "      <th>8</th>\n",
       "      <td>New Zealand</td>\n",
       "      <td>820.0</td>\n",
       "      <td>5.0</td>\n",
       "      <td>164.0</td>\n",
       "      <td>37.0</td>\n",
       "      <td>7.02</td>\n",
       "      <td>3.0</td>\n",
       "    </tr>\n",
       "    <tr>\n",
       "      <th>4</th>\n",
       "      <td>India</td>\n",
       "      <td>966.0</td>\n",
       "      <td>6.0</td>\n",
       "      <td>161.0</td>\n",
       "      <td>37.0</td>\n",
       "      <td>8.05</td>\n",
       "      <td>4.0</td>\n",
       "    </tr>\n",
       "    <tr>\n",
       "      <th>1</th>\n",
       "      <td>Australia</td>\n",
       "      <td>577.0</td>\n",
       "      <td>4.0</td>\n",
       "      <td>144.0</td>\n",
       "      <td>22.0</td>\n",
       "      <td>8.28</td>\n",
       "      <td>3.0</td>\n",
       "    </tr>\n",
       "    <tr>\n",
       "      <th>10</th>\n",
       "      <td>Scotland</td>\n",
       "      <td>433.0</td>\n",
       "      <td>3.0</td>\n",
       "      <td>144.0</td>\n",
       "      <td>18.0</td>\n",
       "      <td>7.86</td>\n",
       "      <td>1.0</td>\n",
       "    </tr>\n",
       "    <tr>\n",
       "      <th>5</th>\n",
       "      <td>Ireland</td>\n",
       "      <td>989.0</td>\n",
       "      <td>7.0</td>\n",
       "      <td>141.0</td>\n",
       "      <td>33.0</td>\n",
       "      <td>8.40</td>\n",
       "      <td>3.0</td>\n",
       "    </tr>\n",
       "    <tr>\n",
       "      <th>3</th>\n",
       "      <td>England</td>\n",
       "      <td>798.0</td>\n",
       "      <td>6.0</td>\n",
       "      <td>133.0</td>\n",
       "      <td>45.0</td>\n",
       "      <td>7.44</td>\n",
       "      <td>5.0</td>\n",
       "    </tr>\n",
       "    <tr>\n",
       "      <th>0</th>\n",
       "      <td>Afghanistan</td>\n",
       "      <td>399.0</td>\n",
       "      <td>3.0</td>\n",
       "      <td>133.0</td>\n",
       "      <td>16.0</td>\n",
       "      <td>8.30</td>\n",
       "      <td>0.0</td>\n",
       "    </tr>\n",
       "    <tr>\n",
       "      <th>9</th>\n",
       "      <td>Pakistan</td>\n",
       "      <td>928.0</td>\n",
       "      <td>7.0</td>\n",
       "      <td>132.0</td>\n",
       "      <td>45.0</td>\n",
       "      <td>6.72</td>\n",
       "      <td>4.0</td>\n",
       "    </tr>\n",
       "    <tr>\n",
       "      <th>6</th>\n",
       "      <td>Namibia</td>\n",
       "      <td>398.0</td>\n",
       "      <td>3.0</td>\n",
       "      <td>132.0</td>\n",
       "      <td>16.0</td>\n",
       "      <td>7.13</td>\n",
       "      <td>1.0</td>\n",
       "    </tr>\n",
       "    <tr>\n",
       "      <th>12</th>\n",
       "      <td>Sri Lanka</td>\n",
       "      <td>1038.0</td>\n",
       "      <td>8.0</td>\n",
       "      <td>129.0</td>\n",
       "      <td>53.0</td>\n",
       "      <td>7.27</td>\n",
       "      <td>4.0</td>\n",
       "    </tr>\n",
       "    <tr>\n",
       "      <th>14</th>\n",
       "      <td>West Indies</td>\n",
       "      <td>385.0</td>\n",
       "      <td>3.0</td>\n",
       "      <td>128.0</td>\n",
       "      <td>16.0</td>\n",
       "      <td>8.19</td>\n",
       "      <td>1.0</td>\n",
       "    </tr>\n",
       "    <tr>\n",
       "      <th>2</th>\n",
       "      <td>Bangladesh</td>\n",
       "      <td>629.0</td>\n",
       "      <td>5.0</td>\n",
       "      <td>125.0</td>\n",
       "      <td>29.0</td>\n",
       "      <td>8.29</td>\n",
       "      <td>2.0</td>\n",
       "    </tr>\n",
       "    <tr>\n",
       "      <th>11</th>\n",
       "      <td>South Africa</td>\n",
       "      <td>617.0</td>\n",
       "      <td>5.0</td>\n",
       "      <td>123.0</td>\n",
       "      <td>33.0</td>\n",
       "      <td>7.47</td>\n",
       "      <td>2.0</td>\n",
       "    </tr>\n",
       "    <tr>\n",
       "      <th>7</th>\n",
       "      <td>Netherlands</td>\n",
       "      <td>957.0</td>\n",
       "      <td>8.0</td>\n",
       "      <td>119.0</td>\n",
       "      <td>50.0</td>\n",
       "      <td>6.93</td>\n",
       "      <td>4.0</td>\n",
       "    </tr>\n",
       "    <tr>\n",
       "      <th>15</th>\n",
       "      <td>Zimbabwe</td>\n",
       "      <td>923.0</td>\n",
       "      <td>8.0</td>\n",
       "      <td>115.0</td>\n",
       "      <td>44.0</td>\n",
       "      <td>7.86</td>\n",
       "      <td>3.0</td>\n",
       "    </tr>\n",
       "    <tr>\n",
       "      <th>13</th>\n",
       "      <td>U.A.E.</td>\n",
       "      <td>312.0</td>\n",
       "      <td>3.0</td>\n",
       "      <td>104.0</td>\n",
       "      <td>21.0</td>\n",
       "      <td>7.08</td>\n",
       "      <td>1.0</td>\n",
       "    </tr>\n",
       "  </tbody>\n",
       "</table>\n",
       "</div>"
      ],
      "text/plain": [
       "           Teams    Runs  Match Played  Average Score Per Innings  wickets  \\\n",
       "8    New Zealand   820.0           5.0                      164.0     37.0   \n",
       "4          India   966.0           6.0                      161.0     37.0   \n",
       "1      Australia   577.0           4.0                      144.0     22.0   \n",
       "10      Scotland   433.0           3.0                      144.0     18.0   \n",
       "5        Ireland   989.0           7.0                      141.0     33.0   \n",
       "3        England   798.0           6.0                      133.0     45.0   \n",
       "0    Afghanistan   399.0           3.0                      133.0     16.0   \n",
       "9       Pakistan   928.0           7.0                      132.0     45.0   \n",
       "6        Namibia   398.0           3.0                      132.0     16.0   \n",
       "12     Sri Lanka  1038.0           8.0                      129.0     53.0   \n",
       "14   West Indies   385.0           3.0                      128.0     16.0   \n",
       "2     Bangladesh   629.0           5.0                      125.0     29.0   \n",
       "11  South Africa   617.0           5.0                      123.0     33.0   \n",
       "7    Netherlands   957.0           8.0                      119.0     50.0   \n",
       "15      Zimbabwe   923.0           8.0                      115.0     44.0   \n",
       "13        U.A.E.   312.0           3.0                      104.0     21.0   \n",
       "\n",
       "    Economy  Wins  \n",
       "8      7.02   3.0  \n",
       "4      8.05   4.0  \n",
       "1      8.28   3.0  \n",
       "10     7.86   1.0  \n",
       "5      8.40   3.0  \n",
       "3      7.44   5.0  \n",
       "0      8.30   0.0  \n",
       "9      6.72   4.0  \n",
       "6      7.13   1.0  \n",
       "12     7.27   4.0  \n",
       "14     8.19   1.0  \n",
       "2      8.29   2.0  \n",
       "11     7.47   2.0  \n",
       "7      6.93   4.0  \n",
       "15     7.86   3.0  \n",
       "13     7.08   1.0  "
      ]
     },
     "execution_count": 94,
     "metadata": {},
     "output_type": "execute_result"
    }
   ],
   "source": [
    "team.sort_values(by=['Average Score Per Innings','wickets'],ascending=False)"
   ]
  },
  {
   "cell_type": "code",
   "execution_count": null,
   "id": "59b40c88",
   "metadata": {},
   "outputs": [],
   "source": []
  }
 ],
 "metadata": {
  "kernelspec": {
   "display_name": "base",
   "language": "python",
   "name": "python3"
  },
  "language_info": {
   "codemirror_mode": {
    "name": "ipython",
    "version": 3
   },
   "file_extension": ".py",
   "mimetype": "text/x-python",
   "name": "python",
   "nbconvert_exporter": "python",
   "pygments_lexer": "ipython3",
   "version": "3.12.7"
  }
 },
 "nbformat": 4,
 "nbformat_minor": 5
}
