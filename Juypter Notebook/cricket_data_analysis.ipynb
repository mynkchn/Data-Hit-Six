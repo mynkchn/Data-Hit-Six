{
 "cells": [
  {
   "cell_type": "markdown",
   "id": "82e68f4a",
   "metadata": {},
   "source": [
    "# Lets Data hit SIX"
   ]
  },
  {
   "cell_type": "markdown",
   "id": "37f1083d",
   "metadata": {},
   "source": [
    "Working on different data sets to analyse and predict how cricket player will perform in a given match"
   ]
  },
  {
   "cell_type": "markdown",
   "id": "01be14a5",
   "metadata": {},
   "source": [
    "### Step 1 : Data Loading and Understanding"
   ]
  },
  {
   "cell_type": "code",
   "execution_count": null,
   "id": "e53b3d91",
   "metadata": {},
   "outputs": [],
   "source": [
    "import pandas as pd\n",
    "import numpy as np"
   ]
  },
  {
   "cell_type": "code",
   "execution_count": null,
   "id": "16b6fab8",
   "metadata": {},
   "outputs": [],
   "source": [
    "batting_data=pd.read_csv('D:\\\\Cricket Data Analysis\\\\Data\\\\fact_bating_summary.csv')\n",
    "bowling_data=pd.read_csv('D:\\\\Cricket Data Analysis\\\\Data\\\\fact_bowling_summary.csv')\n",
    "match_data=pd.read_csv('D:\\\\Cricket Data Analysis\\\\Data\\\\dim_match_summary.csv')\n",
    "player_info=pd.read_csv('D:\\\\Cricket Data Analysis\\\\Data\\\\dim_players.csv')\n"
   ]
  },
  {
   "cell_type": "code",
   "execution_count": null,
   "id": "91201992",
   "metadata": {},
   "outputs": [],
   "source": [
    "# Batting Data\n",
    "batting_data.head()"
   ]
  },
  {
   "cell_type": "code",
   "execution_count": null,
   "id": "69def32e",
   "metadata": {},
   "outputs": [],
   "source": [
    "batting_data.dtypes"
   ]
  },
  {
   "cell_type": "code",
   "execution_count": null,
   "id": "42b708a4",
   "metadata": {},
   "outputs": [],
   "source": [
    "batting_data['SR']=batting_data['SR'].replace('-',0)"
   ]
  },
  {
   "cell_type": "code",
   "execution_count": null,
   "id": "ebde34ff",
   "metadata": {},
   "outputs": [],
   "source": [
    "def handle(value):\n",
    "    return float(value.replace('',np.NaN).strip())"
   ]
  },
  {
   "cell_type": "code",
   "execution_count": null,
   "id": "cee1c479",
   "metadata": {},
   "outputs": [],
   "source": [
    "batting_data['SR']=batting_data['SR'].astype(float)"
   ]
  },
  {
   "cell_type": "code",
   "execution_count": null,
   "id": "e3a6be11",
   "metadata": {},
   "outputs": [],
   "source": [
    "batting_data.shape"
   ]
  },
  {
   "cell_type": "code",
   "execution_count": null,
   "id": "47521139",
   "metadata": {},
   "outputs": [],
   "source": [
    "batting_data.isna().sum()"
   ]
  },
  {
   "cell_type": "code",
   "execution_count": null,
   "id": "1a5bb727",
   "metadata": {},
   "outputs": [],
   "source": [
    "# Bowling Data"
   ]
  },
  {
   "cell_type": "code",
   "execution_count": null,
   "id": "c927d8c9",
   "metadata": {},
   "outputs": [],
   "source": [
    "bowling_data.head()"
   ]
  },
  {
   "cell_type": "code",
   "execution_count": null,
   "id": "025cb1e9",
   "metadata": {},
   "outputs": [],
   "source": [
    "bowling_data.dtypes"
   ]
  },
  {
   "cell_type": "code",
   "execution_count": null,
   "id": "9076a98f",
   "metadata": {},
   "outputs": [],
   "source": [
    "bowling_data.shape"
   ]
  },
  {
   "cell_type": "code",
   "execution_count": null,
   "id": "eedb71ac",
   "metadata": {},
   "outputs": [],
   "source": [
    "# Match Data \n"
   ]
  },
  {
   "cell_type": "code",
   "execution_count": null,
   "id": "5c004a0d",
   "metadata": {},
   "outputs": [],
   "source": [
    "match_data.head()"
   ]
  },
  {
   "cell_type": "code",
   "execution_count": null,
   "id": "e39c6508",
   "metadata": {},
   "outputs": [],
   "source": [
    "match_data.dtypes"
   ]
  },
  {
   "cell_type": "code",
   "execution_count": null,
   "id": "926116af",
   "metadata": {},
   "outputs": [],
   "source": [
    "match_data.shape"
   ]
  },
  {
   "cell_type": "code",
   "execution_count": null,
   "id": "34fd7667",
   "metadata": {},
   "outputs": [],
   "source": [
    "match_data.isna().sum()"
   ]
  },
  {
   "cell_type": "code",
   "execution_count": null,
   "id": "92e8e0d1",
   "metadata": {},
   "outputs": [],
   "source": [
    "match_data['margin']=match_data['margin'].fillna('Not_Available')"
   ]
  },
  {
   "cell_type": "code",
   "execution_count": null,
   "id": "d375d0a8",
   "metadata": {},
   "outputs": [],
   "source": [
    "# Player info"
   ]
  },
  {
   "cell_type": "code",
   "execution_count": null,
   "id": "cf82dda9",
   "metadata": {},
   "outputs": [],
   "source": [
    "player_info.head()"
   ]
  },
  {
   "cell_type": "code",
   "execution_count": null,
   "id": "158fd1cf",
   "metadata": {},
   "outputs": [],
   "source": [
    "player_info.drop(columns=['image'],axis=1,inplace=True)"
   ]
  },
  {
   "cell_type": "code",
   "execution_count": null,
   "id": "4970aa80",
   "metadata": {},
   "outputs": [],
   "source": [
    "player_info.columns"
   ]
  },
  {
   "cell_type": "code",
   "execution_count": null,
   "id": "f0d82c9a",
   "metadata": {},
   "outputs": [],
   "source": [
    "player_info.dtypes"
   ]
  },
  {
   "cell_type": "code",
   "execution_count": null,
   "id": "7d1094c3",
   "metadata": {},
   "outputs": [],
   "source": [
    "player_info.shape"
   ]
  },
  {
   "cell_type": "markdown",
   "id": "15673d1a",
   "metadata": {},
   "source": [
    "## Step 2: Merge Data "
   ]
  },
  {
   "cell_type": "code",
   "execution_count": null,
   "id": "4b1110ad",
   "metadata": {},
   "outputs": [],
   "source": [
    "merge_1=match_data.merge(batting_data,on='match_id')"
   ]
  },
  {
   "cell_type": "code",
   "execution_count": null,
   "id": "b203e17f",
   "metadata": {},
   "outputs": [],
   "source": [
    "merged_data=merge_1.merge(bowling_data,on='match_id')"
   ]
  },
  {
   "cell_type": "code",
   "execution_count": null,
   "id": "c6e5df76",
   "metadata": {},
   "outputs": [],
   "source": [
    "merged_data.head()"
   ]
  },
  {
   "cell_type": "code",
   "execution_count": null,
   "id": "e4371707",
   "metadata": {},
   "outputs": [],
   "source": [
    "merged_data.shape"
   ]
  },
  {
   "cell_type": "markdown",
   "id": "828a0f64",
   "metadata": {},
   "source": [
    "## Exploratory Data Analysis"
   ]
  },
  {
   "cell_type": "code",
   "execution_count": null,
   "id": "e4584d9b",
   "metadata": {},
   "outputs": [],
   "source": [
    "match_data=match_data.merge(batting_data,on='match_id')"
   ]
  },
  {
   "cell_type": "code",
   "execution_count": null,
   "id": "5a7631cf",
   "metadata": {},
   "outputs": [],
   "source": [
    "match_data.head()"
   ]
  },
  {
   "cell_type": "code",
   "execution_count": null,
   "id": "0d3f24ea",
   "metadata": {},
   "outputs": [],
   "source": [
    "match_data.rename(columns={'team1':'TeamA','team2':'TeamB','winner':'Winner','margin':'Won_by','ground':'Location','matchDate':'Match_Date','match_id':'Match_id','match':'Match','teamInnings':'Playing','battingPos':'Batting_Position','runs':'Runs'},inplace=True)"
   ]
  },
  {
   "cell_type": "code",
   "execution_count": null,
   "id": "34dcca8e",
   "metadata": {},
   "outputs": [],
   "source": [
    "# Lets plot a histplot how many players scored how much runs \n",
    "import seaborn as sns\n",
    "import matplotlib.pyplot as plt\n"
   ]
  },
  {
   "cell_type": "code",
   "execution_count": null,
   "id": "42254d5c",
   "metadata": {},
   "outputs": [],
   "source": [
    "sns.histplot(match_data['Runs'],bins=30)\n",
    "plt.title('Distrubution how much runs each player scored per match')\n",
    "plt.xlabel('Runs')\n",
    "plt.ylabel('Frequency')"
   ]
  },
  {
   "cell_type": "code",
   "execution_count": null,
   "id": "3221a591",
   "metadata": {},
   "outputs": [],
   "source": [
    "# This shows that a lot of batsman failed to perform well only a few number of batsman score above 40 \n",
    "# Top Scorers\n",
    "top_scrores=match_data.sort_values(by='Runs',ascending=False)"
   ]
  },
  {
   "cell_type": "code",
   "execution_count": null,
   "id": "89d557a7",
   "metadata": {},
   "outputs": [],
   "source": [
    "top_run_scores=top_scrores.head(10)"
   ]
  },
  {
   "cell_type": "code",
   "execution_count": null,
   "id": "d9291d03",
   "metadata": {},
   "outputs": [],
   "source": [
    "# Most Consistent\n",
    "consistent=match_data[(match_data['Batting_Position'] < 5) & (match_data['balls'] > 10)]\n",
    "consistent=consistent.groupby('batsmanName')['SR'].mean().reset_index().sort_values(by='SR',ascending=False)"
   ]
  },
  {
   "cell_type": "code",
   "execution_count": null,
   "id": "ab31f08a",
   "metadata": {},
   "outputs": [],
   "source": [
    "consistent_players=consistent['batsmanName'].to_list()"
   ]
  },
  {
   "cell_type": "code",
   "execution_count": null,
   "id": "3347d631",
   "metadata": {},
   "outputs": [],
   "source": [
    "print(f'Top Batsman with consitent strike for T20 World Cup are ')\n",
    "for i,player in enumerate(consistent_players[0:10]):\n",
    "    print(f'{i+1}){player}')"
   ]
  },
  {
   "cell_type": "code",
   "execution_count": null,
   "id": "8ffc5577",
   "metadata": {},
   "outputs": [],
   "source": [
    "plt.bar(consistent_players[0:3],consistent['SR'][0:3])\n",
    "plt.xlabel('BatsMan Name')\n",
    "plt.ylabel('Strike Rate')\n",
    "plt.title('Top 3 batsman of 2020 T20I World Cup')\n"
   ]
  },
  {
   "cell_type": "code",
   "execution_count": null,
   "id": "f6ff163c",
   "metadata": {},
   "outputs": [],
   "source": [
    "# Most wins by\n",
    "winners=match_data.groupby('Match')['Winner'].value_counts().reset_index()"
   ]
  },
  {
   "cell_type": "code",
   "execution_count": null,
   "id": "dd38fab4",
   "metadata": {},
   "outputs": [],
   "source": [
    "winners.drop(columns='count',inplace=True)"
   ]
  },
  {
   "cell_type": "code",
   "execution_count": null,
   "id": "cd418d4e",
   "metadata": {},
   "outputs": [],
   "source": [
    "new_=winners['Winner'].value_counts().reset_index()"
   ]
  },
  {
   "cell_type": "code",
   "execution_count": null,
   "id": "7af7a17c",
   "metadata": {},
   "outputs": [],
   "source": [
    "new_.sort_values(by='count',ascending=False,inplace=True)"
   ]
  },
  {
   "cell_type": "code",
   "execution_count": null,
   "id": "664a9c85",
   "metadata": {},
   "outputs": [],
   "source": [
    "plt.bar(list(new_['Winner'].unique()[0:4]),new_['count'][0:4])\n",
    "plt.xlabel('Teams')\n",
    "plt.ylabel('Number of Wins')\n",
    "plt.title('Team with most wins')\n"
   ]
  },
  {
   "cell_type": "code",
   "execution_count": null,
   "id": "5028ad04",
   "metadata": {},
   "outputs": [],
   "source": [
    "# England Pakistan SriLanka and India appears to be stronger team to win\n",
    "location=match_data.groupby('Location')['Runs'].sum().reset_index()"
   ]
  },
  {
   "cell_type": "code",
   "execution_count": null,
   "id": "87cac6c1",
   "metadata": {},
   "outputs": [],
   "source": [
    "innings_played_stadium=[]\n",
    "for loca in location['Location'].to_list() :\n",
    " innings_played_stadium.append(len(match_data[match_data['Location']==loca]['Match_id'].unique()))"
   ]
  },
  {
   "cell_type": "code",
   "execution_count": null,
   "id": "f618e96c",
   "metadata": {},
   "outputs": [],
   "source": [
    "avg_score_at_pitches=[(x/y)//2 for x,y in zip(location['Runs'].to_list(),innings_played_stadium) ]"
   ]
  },
  {
   "cell_type": "code",
   "execution_count": null,
   "id": "7a3f6580",
   "metadata": {},
   "outputs": [],
   "source": [
    "avg_score_at_pitches"
   ]
  },
  {
   "cell_type": "code",
   "execution_count": null,
   "id": "d5e065f2",
   "metadata": {},
   "outputs": [],
   "source": [
    "avg_scores={} \n",
    "for x,y in zip(location['Location'].to_list(),avg_score_at_pitches):\n",
    "  avg_scores[x]=y"
   ]
  },
  {
   "cell_type": "code",
   "execution_count": null,
   "id": "89053269",
   "metadata": {},
   "outputs": [],
   "source": [
    "for key,value in avg_scores.items():\n",
    "    print(f'Average Score of First Innings at {key} is {value}')"
   ]
  },
  {
   "cell_type": "code",
   "execution_count": null,
   "id": "7d2f1a3b",
   "metadata": {},
   "outputs": [],
   "source": [
    "plt.bar(location['Location'].to_list(),avg_score_at_pitches)\n",
    "plt.title('Average Scores each innings at different stadium ')\n",
    "plt.xlabel('Stadium')\n",
    "plt.ylabel('Score')"
   ]
  },
  {
   "cell_type": "code",
   "execution_count": null,
   "id": "65cf9058",
   "metadata": {},
   "outputs": [],
   "source": [
    "# Oppositon\n",
    "teams=list(match_data['Playing'].unique())"
   ]
  },
  {
   "cell_type": "code",
   "execution_count": null,
   "id": "320395c5",
   "metadata": {},
   "outputs": [],
   "source": [
    "match_data_1=pd.read_csv('D:\\\\Cricket Data Analysis\\\\Data\\\\dim_match_summary.csv')"
   ]
  },
  {
   "cell_type": "code",
   "execution_count": null,
   "id": "92ed842f",
   "metadata": {},
   "outputs": [],
   "source": [
    "# Now for bowlers\n",
    "bowling_data=bowling_data.merge(match_data_1,on='match_id')"
   ]
  },
  {
   "cell_type": "code",
   "execution_count": null,
   "id": "58376964",
   "metadata": {},
   "outputs": [],
   "source": [
    "sns.histplot(bowling_data['wickets'])\n",
    "plt.title('Distribution of Wickets')\n",
    "plt.xlabel('Wickets')\n",
    "plt.ylabel('Frequency')"
   ]
  },
  {
   "cell_type": "code",
   "execution_count": null,
   "id": "60858fe3",
   "metadata": {},
   "outputs": [],
   "source": [
    "# This graph indicates most of the bowlers failed to take wickets around 175+ meanwhile no bowler took 5 wickets "
   ]
  },
  {
   "cell_type": "code",
   "execution_count": null,
   "id": "23a722e5",
   "metadata": {},
   "outputs": [],
   "source": [
    "# most wickets by bowler\n",
    "most_wickets=bowling_data.groupby('bowlerName')['wickets'].sum().reset_index()"
   ]
  },
  {
   "cell_type": "code",
   "execution_count": null,
   "id": "19e9976e",
   "metadata": {},
   "outputs": [],
   "source": [
    "sorted_=most_wickets.sort_values(by='wickets',ascending=False)"
   ]
  },
  {
   "cell_type": "code",
   "execution_count": null,
   "id": "de19dd1a",
   "metadata": {},
   "outputs": [],
   "source": [
    "# Top 10 bowler with most wickets are \n",
    "print('Top 10 bowlers with most wicket')\n",
    "for i,name in enumerate(sorted_['bowlerName'].to_list()[0:10]):\n",
    "    print(f'{i+1}){name}')"
   ]
  },
  {
   "cell_type": "code",
   "execution_count": null,
   "id": "3421d1a5",
   "metadata": {},
   "outputs": [],
   "source": [
    "plt.bar(sorted_['bowlerName'][0:3],sorted_['wickets'][0:3])\n",
    "plt.xlabel('Player Name')\n",
    "plt.ylabel('Wickets Taken')\n",
    "plt.title('Top 3 wicket taking bowlers in t20 world cup 2022')"
   ]
  },
  {
   "cell_type": "code",
   "execution_count": null,
   "id": "2cae482d",
   "metadata": {},
   "outputs": [],
   "source": [
    "# Average bowling economy of each team \n",
    "bowling_economy=bowling_data.groupby('bowlingTeam')['economy'].mean().reset_index()"
   ]
  },
  {
   "cell_type": "code",
   "execution_count": null,
   "id": "338a68ab",
   "metadata": {},
   "outputs": [],
   "source": [
    "# Most wicket taking team \n",
    "bowling_wickets=bowling_data.groupby('bowlingTeam')['wickets'].sum().reset_index()\n"
   ]
  },
  {
   "cell_type": "code",
   "execution_count": null,
   "id": "9223c495",
   "metadata": {},
   "outputs": [],
   "source": [
    "# Lets see average runs scored by each team \n",
    "average_run=match_data.groupby('Playing')['Runs'].sum().reset_index()"
   ]
  },
  {
   "cell_type": "code",
   "execution_count": null,
   "id": "aa3e1850",
   "metadata": {},
   "outputs": [],
   "source": [
    "# Matches Played by each team \n",
    "matches_played=match_data.groupby('Match_id')['TeamA'].value_counts().reset_index()"
   ]
  },
  {
   "cell_type": "code",
   "execution_count": null,
   "id": "de7a0be7",
   "metadata": {},
   "outputs": [],
   "source": [
    "nd_=matches_played['TeamA'].value_counts().reset_index()"
   ]
  },
  {
   "cell_type": "code",
   "execution_count": null,
   "id": "00fc1c81",
   "metadata": {},
   "outputs": [],
   "source": [
    "# Matches Played by each team \n",
    "matches_played_B=match_data.groupby('Match_id')['TeamB'].value_counts().reset_index()"
   ]
  },
  {
   "cell_type": "code",
   "execution_count": null,
   "id": "f9360423",
   "metadata": {},
   "outputs": [],
   "source": [
    "matches_played_B.rename(columns={'TeamB':'TeamA'},inplace=True)"
   ]
  },
  {
   "cell_type": "code",
   "execution_count": null,
   "id": "10222d6f",
   "metadata": {},
   "outputs": [],
   "source": [
    "nd_1=matches_played_B['TeamA'].value_counts().reset_index()"
   ]
  },
  {
   "cell_type": "code",
   "execution_count": null,
   "id": "9b23ad5d",
   "metadata": {},
   "outputs": [],
   "source": [
    "matches_play=nd_.merge(nd_1,on='TeamA',how='outer')"
   ]
  },
  {
   "cell_type": "code",
   "execution_count": null,
   "id": "cbdcf0d6",
   "metadata": {},
   "outputs": [],
   "source": [
    "matches_play.replace(np.NaN,float(0),inplace=True)"
   ]
  },
  {
   "cell_type": "code",
   "execution_count": null,
   "id": "93470214",
   "metadata": {},
   "outputs": [],
   "source": [
    "matches_play['Match Played']=matches_play['count_x']+matches_play['count_y']"
   ]
  },
  {
   "cell_type": "code",
   "execution_count": null,
   "id": "b9fb85e3",
   "metadata": {},
   "outputs": [],
   "source": [
    "matches_play.drop(columns=['count_x','count_y'],inplace=True)"
   ]
  },
  {
   "cell_type": "code",
   "execution_count": null,
   "id": "f214b922",
   "metadata": {},
   "outputs": [],
   "source": [
    "def handles(value):\n",
    "    return int(value)"
   ]
  },
  {
   "cell_type": "code",
   "execution_count": null,
   "id": "e067c840",
   "metadata": {},
   "outputs": [],
   "source": [
    "matches_play['Match Played']=matches_play['Match Played'].apply(handles)"
   ]
  },
  {
   "cell_type": "code",
   "execution_count": null,
   "id": "bfb249e2",
   "metadata": {},
   "outputs": [],
   "source": [
    "matches_play.rename(columns={'TeamA':'Teams'},inplace=True)"
   ]
  },
  {
   "cell_type": "code",
   "execution_count": null,
   "id": "cb7382e2",
   "metadata": {},
   "outputs": [],
   "source": [
    "average_run.rename(columns={'Playing':'Teams'},inplace=True)"
   ]
  },
  {
   "cell_type": "code",
   "execution_count": null,
   "id": "18e99b2f",
   "metadata": {},
   "outputs": [],
   "source": [
    "strong=average_run.merge(matches_play,on='Teams')"
   ]
  },
  {
   "cell_type": "code",
   "execution_count": null,
   "id": "6c9ffe8b",
   "metadata": {},
   "outputs": [],
   "source": [
    "strong['Average Score Per Innings']=strong['Runs']//strong['Match Played']"
   ]
  },
  {
   "cell_type": "code",
   "execution_count": null,
   "id": "623cb325",
   "metadata": {},
   "outputs": [],
   "source": [
    "bowling_wickets.rename(columns={'bowlingTeam':'Teams'},inplace=True)"
   ]
  },
  {
   "cell_type": "code",
   "execution_count": null,
   "id": "ff7f60ed",
   "metadata": {},
   "outputs": [],
   "source": [
    "team=strong.merge(bowling_wickets,on='Teams')"
   ]
  },
  {
   "cell_type": "code",
   "execution_count": null,
   "id": "fac18fef",
   "metadata": {},
   "outputs": [],
   "source": [
    "bowling_economy.rename(columns={'bowlingTeam':'Teams'},inplace=True)"
   ]
  },
  {
   "cell_type": "code",
   "execution_count": null,
   "id": "55e64081",
   "metadata": {},
   "outputs": [],
   "source": [
    "team=team.merge(bowling_economy,on='Teams')"
   ]
  },
  {
   "cell_type": "code",
   "execution_count": null,
   "id": "06c1f3df",
   "metadata": {},
   "outputs": [],
   "source": [
    "team['Economy']=round(team['economy'],2)"
   ]
  },
  {
   "cell_type": "code",
   "execution_count": null,
   "id": "c42aadf2",
   "metadata": {},
   "outputs": [],
   "source": [
    "team.drop(columns=['economy'],inplace=True)"
   ]
  },
  {
   "cell_type": "code",
   "execution_count": null,
   "id": "8d55f6ea",
   "metadata": {},
   "outputs": [],
   "source": [
    "new_.rename(columns={'Winner':'Teams'},inplace=True)"
   ]
  },
  {
   "cell_type": "code",
   "execution_count": null,
   "id": "37a4ce3c",
   "metadata": {},
   "outputs": [],
   "source": [
    "team=team.merge(new_,on='Teams',how='outer')"
   ]
  },
  {
   "cell_type": "code",
   "execution_count": null,
   "id": "13486b0b",
   "metadata": {},
   "outputs": [],
   "source": [
    "team.rename(columns={'count':'Wins'},inplace=True)"
   ]
  },
  {
   "cell_type": "code",
   "execution_count": null,
   "id": "2d8476f0",
   "metadata": {},
   "outputs": [],
   "source": [
    "team['Wins']=team['Wins'].fillna(float(0))"
   ]
  },
  {
   "cell_type": "code",
   "execution_count": null,
   "id": "acdf43ed",
   "metadata": {},
   "outputs": [],
   "source": [
    "team.dropna(inplace=True)"
   ]
  },
  {
   "cell_type": "code",
   "execution_count": null,
   "id": "79439256",
   "metadata": {},
   "outputs": [],
   "source": [
    "team"
   ]
  },
  {
   "cell_type": "code",
   "execution_count": null,
   "id": "a756f051",
   "metadata": {},
   "outputs": [],
   "source": [
    "team=team.sort_values(by=['Average Score Per Innings','wickets'],ascending=False).reset_index()"
   ]
  },
  {
   "cell_type": "code",
   "execution_count": null,
   "id": "5f4dcc53",
   "metadata": {},
   "outputs": [],
   "source": [
    "team.drop(columns=['index'],inplace=True)"
   ]
  },
  {
   "cell_type": "code",
   "execution_count": null,
   "id": "59b40c88",
   "metadata": {},
   "outputs": [],
   "source": [
    "# Top 3 player with average innings per score\n",
    "plt.bar(team['Teams'][0:3].to_list(),team['Average Score Per Innings'][0:3].to_list())\n",
    "plt.xlabel('Team name')\n",
    "plt.ylabel('Average Score Per Innings')\n",
    "plt.title('Team with top average score per innings')"
   ]
  },
  {
   "cell_type": "code",
   "execution_count": null,
   "id": "d9168243",
   "metadata": {},
   "outputs": [],
   "source": [
    "plt.bar(team['Teams'][0:3].to_list(),team['Economy'][0:3].to_list())\n",
    "plt.xlabel('Team name')\n",
    "plt.ylabel('Economy')\n",
    "plt.title('Team with Good Economy')"
   ]
  },
  {
   "cell_type": "markdown",
   "id": "1fc01ba9",
   "metadata": {},
   "source": [
    "## Feature Engineering"
   ]
  },
  {
   "cell_type": "code",
   "execution_count": null,
   "id": "02d8a5ab",
   "metadata": {},
   "outputs": [],
   "source": [
    "# Lets predict player would score in a match \n",
    "batting=pd.read_csv('D:\\\\Cricket Data Analysis\\\\Data\\\\fact_bating_summary.csv')"
   ]
  },
  {
   "cell_type": "code",
   "execution_count": null,
   "id": "ba02289a",
   "metadata": {},
   "outputs": [],
   "source": [
    "batting=batting[batting['battingPos']<8]"
   ]
  },
  {
   "cell_type": "code",
   "execution_count": null,
   "id": "ffd470eb",
   "metadata": {},
   "outputs": [],
   "source": [
    "batting['SR']=batting['SR'].replace('-',0)"
   ]
  },
  {
   "cell_type": "code",
   "execution_count": null,
   "id": "8c2ee846",
   "metadata": {},
   "outputs": [],
   "source": [
    "batting['SR']=batting['SR'].astype(float)"
   ]
  },
  {
   "cell_type": "code",
   "execution_count": null,
   "id": "a4992084",
   "metadata": {},
   "outputs": [],
   "source": [
    "batting.select_dtypes(include=['int64','float64']).corr()"
   ]
  },
  {
   "cell_type": "code",
   "execution_count": null,
   "id": "87db5f70",
   "metadata": {},
   "outputs": [],
   "source": [
    "batting.columns"
   ]
  },
  {
   "cell_type": "code",
   "execution_count": null,
   "id": "7aadc76b",
   "metadata": {},
   "outputs": [],
   "source": [
    "batting=batting.groupby('batsmanName')[['runs','4s','6s']].sum().reset_index()"
   ]
  },
  {
   "cell_type": "code",
   "execution_count": null,
   "id": "55f65bbf",
   "metadata": {},
   "outputs": [],
   "source": [
    "batting.head()"
   ]
  },
  {
   "cell_type": "markdown",
   "id": "9fb2c826",
   "metadata": {},
   "source": [
    "## Model Development"
   ]
  },
  {
   "cell_type": "code",
   "execution_count": null,
   "id": "0c8cb54b",
   "metadata": {},
   "outputs": [],
   "source": [
    "from sklearn.linear_model import LinearRegression\n",
    "from sklearn.model_selection import train_test_split\n",
    "from sklearn.preprocessing import StandardScaler"
   ]
  },
  {
   "cell_type": "code",
   "execution_count": null,
   "id": "f4a5a65f",
   "metadata": {},
   "outputs": [],
   "source": [
    "xtrain,xtest,ytrain,ytest=train_test_split(batting[['4s','6s']],batting['runs'],test_size=0.2,random_state=42)"
   ]
  },
  {
   "cell_type": "code",
   "execution_count": null,
   "id": "f9d13f69",
   "metadata": {},
   "outputs": [],
   "source": [
    "lr=LinearRegression()\n"
   ]
  },
  {
   "cell_type": "code",
   "execution_count": null,
   "id": "ba5197e7",
   "metadata": {},
   "outputs": [],
   "source": [
    "lr.fit(xtrain,ytrain)"
   ]
  },
  {
   "cell_type": "code",
   "execution_count": null,
   "id": "bb869ad5",
   "metadata": {},
   "outputs": [],
   "source": [
    "lr.coef_"
   ]
  },
  {
   "cell_type": "code",
   "execution_count": null,
   "id": "c7e7cad9",
   "metadata": {},
   "outputs": [],
   "source": [
    "lr.intercept_"
   ]
  },
  {
   "cell_type": "code",
   "execution_count": null,
   "id": "a0062cdb",
   "metadata": {},
   "outputs": [],
   "source": [
    "yhat=lr.predict(xtest)"
   ]
  },
  {
   "cell_type": "markdown",
   "id": "92c42473",
   "metadata": {},
   "source": [
    "### Model Evaluation"
   ]
  },
  {
   "cell_type": "code",
   "execution_count": null,
   "id": "6d8d12ec",
   "metadata": {},
   "outputs": [],
   "source": [
    "sns.kdeplot(ytest,color='r')\n",
    "sns.kdeplot(yhat,color='b')\n",
    "plt.title('Comparision Between actual Values and Predicted values')"
   ]
  },
  {
   "cell_type": "code",
   "execution_count": null,
   "id": "4dd67c50",
   "metadata": {},
   "outputs": [],
   "source": [
    "lr.score(xtrain,ytrain)"
   ]
  },
  {
   "cell_type": "code",
   "execution_count": null,
   "id": "947ee13b",
   "metadata": {},
   "outputs": [],
   "source": [
    "lr.score(xtest,ytest)"
   ]
  },
  {
   "cell_type": "code",
   "execution_count": null,
   "id": "77a24c87",
   "metadata": {},
   "outputs": [],
   "source": [
    "from sklearn.model_selection import cross_val_score\n",
    "rcross=cross_val_score(lr,batting[['4s','6s']],batting['runs'],cv=4)"
   ]
  },
  {
   "cell_type": "code",
   "execution_count": null,
   "id": "ce57b0b2",
   "metadata": {},
   "outputs": [],
   "source": [
    "rcross"
   ]
  },
  {
   "cell_type": "code",
   "execution_count": null,
   "id": "985c06d0",
   "metadata": {},
   "outputs": [],
   "source": [
    "alpha=[{'alpha':[0.1,1,10,1000]}]\n"
   ]
  },
  {
   "cell_type": "markdown",
   "id": "4191ce4e",
   "metadata": {},
   "source": [
    "## Ridge Regression Model"
   ]
  },
  {
   "cell_type": "code",
   "execution_count": null,
   "id": "d3108532",
   "metadata": {},
   "outputs": [],
   "source": [
    "from sklearn.linear_model import Ridge\n",
    "from sklearn.model_selection import GridSearchCV\n",
    "from sklearn.preprocessing import StandardScaler"
   ]
  },
  {
   "cell_type": "code",
   "execution_count": null,
   "id": "4ed59eb8",
   "metadata": {},
   "outputs": [],
   "source": [
    "grid=GridSearchCV(Ridge(),param_grid=alpha)"
   ]
  },
  {
   "cell_type": "code",
   "execution_count": null,
   "id": "cd673060",
   "metadata": {},
   "outputs": [],
   "source": [
    "scaler=StandardScaler()"
   ]
  },
  {
   "cell_type": "code",
   "execution_count": null,
   "id": "294e3a08",
   "metadata": {},
   "outputs": [],
   "source": [
    "grid.fit(scaler.fit_transform(xtrain),ytrain)"
   ]
  },
  {
   "cell_type": "code",
   "execution_count": null,
   "id": "be234248",
   "metadata": {},
   "outputs": [],
   "source": [
    "grid.best_params_"
   ]
  },
  {
   "cell_type": "code",
   "execution_count": null,
   "id": "d7819108",
   "metadata": {},
   "outputs": [],
   "source": [
    "grid.best_score_"
   ]
  },
  {
   "cell_type": "code",
   "execution_count": null,
   "id": "4dd14c33",
   "metadata": {},
   "outputs": [],
   "source": [
    "grid.best_estimator_"
   ]
  },
  {
   "cell_type": "code",
   "execution_count": null,
   "id": "631947b2",
   "metadata": {},
   "outputs": [],
   "source": [
    "predict=grid.predict(scaler.fit_transform(xtest))"
   ]
  },
  {
   "cell_type": "markdown",
   "id": "9e1ed6e9",
   "metadata": {},
   "source": [
    "### Model Evaluation"
   ]
  },
  {
   "cell_type": "code",
   "execution_count": null,
   "id": "39061700",
   "metadata": {},
   "outputs": [],
   "source": [
    "sns.kdeplot(ytest,color='r')\n",
    "sns.kdeplot(predict,color='b')\n",
    "plt.title('Comparision Between actual Values and Predicted values')"
   ]
  },
  {
   "cell_type": "code",
   "execution_count": null,
   "id": "4096ffe4",
   "metadata": {},
   "outputs": [],
   "source": [
    "grid.score(scaler.fit_transform(xtest),ytest)"
   ]
  },
  {
   "cell_type": "markdown",
   "id": "c2f86044",
   "metadata": {},
   "source": [
    "## Compare Models"
   ]
  },
  {
   "cell_type": "code",
   "execution_count": null,
   "id": "1fc4b7e0",
   "metadata": {},
   "outputs": [],
   "source": [
    "from sklearn.metrics import mean_squared_error"
   ]
  },
  {
   "cell_type": "code",
   "execution_count": null,
   "id": "a1d4b85d",
   "metadata": {},
   "outputs": [],
   "source": [
    "# For regression Model \n",
    "print(f'MSE : {round(mean_squared_error(yhat,ytest),2)} , R2 value : {round(lr.score(xtest,ytest),2)}')"
   ]
  },
  {
   "cell_type": "code",
   "execution_count": null,
   "id": "22b03e17",
   "metadata": {},
   "outputs": [],
   "source": [
    "# For Ridge Model\n",
    "print(f'MSE : {round(mean_squared_error(ytest,predict),2)} , R2 value : {round(grid.score(scaler.fit_transform(xtest),ytest),2)}')"
   ]
  },
  {
   "cell_type": "markdown",
   "id": "3e926d1a",
   "metadata": {},
   "source": [
    "### Model Dumping"
   ]
  },
  {
   "cell_type": "code",
   "execution_count": null,
   "id": "10cd1ee1",
   "metadata": {},
   "outputs": [],
   "source": [
    "import joblib\n",
    "with open('model.pkl','wb') as f :\n",
    "    joblib.dump(lr,f)"
   ]
  },
  {
   "cell_type": "code",
   "execution_count": null,
   "id": "1fa23487",
   "metadata": {},
   "outputs": [],
   "source": [
    "with open('scaler.pkl','wb') as f:\n",
    "    joblib.dump(scaler,f)"
   ]
  },
  {
   "cell_type": "code",
   "execution_count": null,
   "id": "6d4b04ab",
   "metadata": {},
   "outputs": [],
   "source": []
  }
 ],
 "metadata": {
  "kernelspec": {
   "display_name": "base",
   "language": "python",
   "name": "python3"
  },
  "language_info": {
   "codemirror_mode": {
    "name": "ipython",
    "version": 3
   },
   "file_extension": ".py",
   "mimetype": "text/x-python",
   "name": "python",
   "nbconvert_exporter": "python",
   "pygments_lexer": "ipython3",
   "version": "3.12.7"
  }
 },
 "nbformat": 4,
 "nbformat_minor": 5
}
